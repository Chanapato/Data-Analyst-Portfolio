{
 "cells": [
  {
   "cell_type": "code",
   "execution_count": 3,
   "id": "c73c4bd5",
   "metadata": {},
   "outputs": [
    {
     "data": {
      "text/html": [
       "        <script type=\"text/javascript\">\n",
       "        window.PlotlyConfig = {MathJaxConfig: 'local'};\n",
       "        if (window.MathJax) {MathJax.Hub.Config({SVG: {font: \"STIX-Web\"}});}\n",
       "        if (typeof require !== 'undefined') {\n",
       "        require.undef(\"plotly\");\n",
       "        requirejs.config({\n",
       "            paths: {\n",
       "                'plotly': ['https://cdn.plot.ly/plotly-2.11.1.min']\n",
       "            }\n",
       "        });\n",
       "        require(['plotly'], function(Plotly) {\n",
       "            window._Plotly = Plotly;\n",
       "        });\n",
       "        }\n",
       "        </script>\n",
       "        "
      ]
     },
     "metadata": {},
     "output_type": "display_data"
    }
   ],
   "source": [
    "import pandas as pd\n",
    "import numpy as np\n",
    "import datetime as dt\n",
    "import matplotlib.pyplot as plt\n",
    "get_ipython().run_line_magic('matplotlib','inline')\n",
    "import seaborn as sns\n",
    "import plotly.graph_objs as go\n",
    "import plotly.figure_factory as ff\n",
    "from plotly import tools\n",
    "from plotly.offline import download_plotlyjs, init_notebook_mode, plot, iplot\n",
    "init_notebook_mode(connected=True)\n",
    "\n",
    "import warnings\n",
    "warnings.filterwarnings('ignore')\n",
    "\n",
    "from sklearn.preprocessing import LabelEncoder\n",
    "from sklearn.model_selection import train_test_split, KFold, GridSearchCV\n",
    "from sklearn.model_selection import cross_val_score, learning_curve\n",
    "from sklearn.metrics import mean_squared_error\n",
    "\n",
    "from sklearn.svm import SVR\n",
    "from sklearn.ensemble import ExtraTreesRegressor, RandomForestRegressor, GradientBoostingRegressor\n",
    "from sklearn.linear_model import LinearRegression\n",
    "\n",
    "import xgboost as xgb\n",
    "\n",
    "sns.set(style='white', context='notebook', palette='deep')"
   ]
  },
  {
   "cell_type": "code",
   "execution_count": 4,
   "id": "e27561c4",
   "metadata": {},
   "outputs": [],
   "source": [
    "client_test = pd.read_csv('client_test.csv')\n",
    "client_train = pd.read_csv('client_train.csv')\n",
    "invoice_test = pd.read_csv('invoice_test.csv')\n",
    "invoice_train = pd.read_csv('invoice_train.csv')\n",
    "sample_submission = pd.read_csv('SampleSubmission.csv')"
   ]
  },
  {
   "cell_type": "code",
   "execution_count": 5,
   "id": "c4c25ae6",
   "metadata": {},
   "outputs": [],
   "source": [
    "client_train['creation_date']= pd.to_datetime(client_train['creation_date'])"
   ]
  },
  {
   "cell_type": "code",
   "execution_count": 6,
   "id": "152baaee",
   "metadata": {},
   "outputs": [],
   "source": [
    "client_test['creation_date']= pd.to_datetime(client_test['creation_date'])"
   ]
  },
  {
   "cell_type": "code",
   "execution_count": 7,
   "id": "7634d563",
   "metadata": {},
   "outputs": [],
   "source": [
    "invoice_train['invoice_date']= pd.to_datetime(invoice_train['invoice_date'])"
   ]
  },
  {
   "cell_type": "code",
   "execution_count": 8,
   "id": "34d1a335",
   "metadata": {},
   "outputs": [],
   "source": [
    "invoice_test['invoice_date']= pd.to_datetime(invoice_test['invoice_date'])"
   ]
  },
  {
   "cell_type": "code",
   "execution_count": 9,
   "id": "eb1eb606",
   "metadata": {},
   "outputs": [
    {
     "name": "stdout",
     "output_type": "stream",
     "text": [
      "<class 'pandas.core.frame.DataFrame'>\n",
      "RangeIndex: 135493 entries, 0 to 135492\n",
      "Data columns (total 6 columns):\n",
      " #   Column         Non-Null Count   Dtype         \n",
      "---  ------         --------------   -----         \n",
      " 0   disrict        135493 non-null  int64         \n",
      " 1   client_id      135493 non-null  object        \n",
      " 2   client_catg    135493 non-null  int64         \n",
      " 3   region         135493 non-null  int64         \n",
      " 4   creation_date  135493 non-null  datetime64[ns]\n",
      " 5   target         135493 non-null  float64       \n",
      "dtypes: datetime64[ns](1), float64(1), int64(3), object(1)\n",
      "memory usage: 6.2+ MB\n"
     ]
    }
   ],
   "source": [
    "client_train.info()"
   ]
  },
  {
   "cell_type": "code",
   "execution_count": 10,
   "id": "3210c746",
   "metadata": {
    "scrolled": true
   },
   "outputs": [
    {
     "name": "stdout",
     "output_type": "stream",
     "text": [
      "<class 'pandas.core.frame.DataFrame'>\n",
      "RangeIndex: 58069 entries, 0 to 58068\n",
      "Data columns (total 5 columns):\n",
      " #   Column         Non-Null Count  Dtype         \n",
      "---  ------         --------------  -----         \n",
      " 0   disrict        58069 non-null  int64         \n",
      " 1   client_id      58069 non-null  object        \n",
      " 2   client_catg    58069 non-null  int64         \n",
      " 3   region         58069 non-null  int64         \n",
      " 4   creation_date  58069 non-null  datetime64[ns]\n",
      "dtypes: datetime64[ns](1), int64(3), object(1)\n",
      "memory usage: 2.2+ MB\n"
     ]
    }
   ],
   "source": [
    "client_test.info()"
   ]
  },
  {
   "cell_type": "code",
   "execution_count": 12,
   "id": "26e67d16",
   "metadata": {
    "scrolled": false
   },
   "outputs": [
    {
     "name": "stdout",
     "output_type": "stream",
     "text": [
      "<class 'pandas.core.frame.DataFrame'>\n",
      "RangeIndex: 4476749 entries, 0 to 4476748\n",
      "Data columns (total 16 columns):\n",
      " #   Column                Dtype         \n",
      "---  ------                -----         \n",
      " 0   client_id             object        \n",
      " 1   invoice_date          datetime64[ns]\n",
      " 2   tarif_type            int64         \n",
      " 3   counter_number        int64         \n",
      " 4   counter_statue        object        \n",
      " 5   counter_code          int64         \n",
      " 6   reading_remarque      int64         \n",
      " 7   counter_coefficient   int64         \n",
      " 8   consommation_level_1  int64         \n",
      " 9   consommation_level_2  int64         \n",
      " 10  consommation_level_3  int64         \n",
      " 11  consommation_level_4  int64         \n",
      " 12  old_index             int64         \n",
      " 13  new_index             int64         \n",
      " 14  months_number         int64         \n",
      " 15  counter_type          object        \n",
      "dtypes: datetime64[ns](1), int64(12), object(3)\n",
      "memory usage: 546.5+ MB\n"
     ]
    }
   ],
   "source": [
    "invoice_train.info()"
   ]
  },
  {
   "cell_type": "code",
   "execution_count": 11,
   "id": "73633085",
   "metadata": {},
   "outputs": [
    {
     "name": "stdout",
     "output_type": "stream",
     "text": [
      "<class 'pandas.core.frame.DataFrame'>\n",
      "RangeIndex: 1939730 entries, 0 to 1939729\n",
      "Data columns (total 16 columns):\n",
      " #   Column                Dtype         \n",
      "---  ------                -----         \n",
      " 0   client_id             object        \n",
      " 1   invoice_date          datetime64[ns]\n",
      " 2   tarif_type            int64         \n",
      " 3   counter_number        int64         \n",
      " 4   counter_statue        int64         \n",
      " 5   counter_code          int64         \n",
      " 6   reading_remarque      int64         \n",
      " 7   counter_coefficient   int64         \n",
      " 8   consommation_level_1  int64         \n",
      " 9   consommation_level_2  int64         \n",
      " 10  consommation_level_3  int64         \n",
      " 11  consommation_level_4  int64         \n",
      " 12  old_index             int64         \n",
      " 13  new_index             int64         \n",
      " 14  months_number         int64         \n",
      " 15  counter_type          object        \n",
      "dtypes: datetime64[ns](1), int64(13), object(2)\n",
      "memory usage: 236.8+ MB\n"
     ]
    }
   ],
   "source": [
    "invoice_test.info()"
   ]
  },
  {
   "cell_type": "code",
   "execution_count": 7,
   "id": "3ad2039d",
   "metadata": {},
   "outputs": [
    {
     "data": {
      "text/plain": [
       "((58069, 5), (135493, 6), (1939730, 16), (4476749, 16))"
      ]
     },
     "execution_count": 7,
     "metadata": {},
     "output_type": "execute_result"
    }
   ],
   "source": [
    "client_test.shape, client_train.shape, invoice_test.shape, invoice_train.shape"
   ]
  },
  {
   "cell_type": "code",
   "execution_count": 8,
   "id": "33f628bf",
   "metadata": {
    "scrolled": true
   },
   "outputs": [
    {
     "data": {
      "text/html": [
       "<div>\n",
       "<style scoped>\n",
       "    .dataframe tbody tr th:only-of-type {\n",
       "        vertical-align: middle;\n",
       "    }\n",
       "\n",
       "    .dataframe tbody tr th {\n",
       "        vertical-align: top;\n",
       "    }\n",
       "\n",
       "    .dataframe thead th {\n",
       "        text-align: right;\n",
       "    }\n",
       "</style>\n",
       "<table border=\"1\" class=\"dataframe\">\n",
       "  <thead>\n",
       "    <tr style=\"text-align: right;\">\n",
       "      <th></th>\n",
       "      <th>disrict</th>\n",
       "      <th>client_id</th>\n",
       "      <th>client_catg</th>\n",
       "      <th>region</th>\n",
       "      <th>creation_date</th>\n",
       "    </tr>\n",
       "  </thead>\n",
       "  <tbody>\n",
       "    <tr>\n",
       "      <th>0</th>\n",
       "      <td>62</td>\n",
       "      <td>test_Client_0</td>\n",
       "      <td>11</td>\n",
       "      <td>307</td>\n",
       "      <td>28/05/2002</td>\n",
       "    </tr>\n",
       "    <tr>\n",
       "      <th>1</th>\n",
       "      <td>69</td>\n",
       "      <td>test_Client_1</td>\n",
       "      <td>11</td>\n",
       "      <td>103</td>\n",
       "      <td>06/08/2009</td>\n",
       "    </tr>\n",
       "    <tr>\n",
       "      <th>2</th>\n",
       "      <td>62</td>\n",
       "      <td>test_Client_10</td>\n",
       "      <td>11</td>\n",
       "      <td>310</td>\n",
       "      <td>07/04/2004</td>\n",
       "    </tr>\n",
       "    <tr>\n",
       "      <th>3</th>\n",
       "      <td>60</td>\n",
       "      <td>test_Client_100</td>\n",
       "      <td>11</td>\n",
       "      <td>101</td>\n",
       "      <td>08/10/1992</td>\n",
       "    </tr>\n",
       "    <tr>\n",
       "      <th>4</th>\n",
       "      <td>62</td>\n",
       "      <td>test_Client_1000</td>\n",
       "      <td>11</td>\n",
       "      <td>301</td>\n",
       "      <td>21/07/1977</td>\n",
       "    </tr>\n",
       "  </tbody>\n",
       "</table>\n",
       "</div>"
      ],
      "text/plain": [
       "   disrict         client_id  client_catg  region creation_date\n",
       "0       62     test_Client_0           11     307    28/05/2002\n",
       "1       69     test_Client_1           11     103    06/08/2009\n",
       "2       62    test_Client_10           11     310    07/04/2004\n",
       "3       60   test_Client_100           11     101    08/10/1992\n",
       "4       62  test_Client_1000           11     301    21/07/1977"
      ]
     },
     "execution_count": 8,
     "metadata": {},
     "output_type": "execute_result"
    }
   ],
   "source": [
    "client_test.head()"
   ]
  },
  {
   "cell_type": "code",
   "execution_count": 13,
   "id": "aabc7e97",
   "metadata": {},
   "outputs": [
    {
     "data": {
      "text/html": [
       "<div>\n",
       "<style scoped>\n",
       "    .dataframe tbody tr th:only-of-type {\n",
       "        vertical-align: middle;\n",
       "    }\n",
       "\n",
       "    .dataframe tbody tr th {\n",
       "        vertical-align: top;\n",
       "    }\n",
       "\n",
       "    .dataframe thead th {\n",
       "        text-align: right;\n",
       "    }\n",
       "</style>\n",
       "<table border=\"1\" class=\"dataframe\">\n",
       "  <thead>\n",
       "    <tr style=\"text-align: right;\">\n",
       "      <th></th>\n",
       "      <th>disrict</th>\n",
       "      <th>client_id</th>\n",
       "      <th>client_catg</th>\n",
       "      <th>region</th>\n",
       "      <th>creation_date</th>\n",
       "      <th>target</th>\n",
       "    </tr>\n",
       "  </thead>\n",
       "  <tbody>\n",
       "    <tr>\n",
       "      <th>0</th>\n",
       "      <td>60</td>\n",
       "      <td>train_Client_0</td>\n",
       "      <td>11</td>\n",
       "      <td>101</td>\n",
       "      <td>31/12/1994</td>\n",
       "      <td>0.0</td>\n",
       "    </tr>\n",
       "    <tr>\n",
       "      <th>1</th>\n",
       "      <td>69</td>\n",
       "      <td>train_Client_1</td>\n",
       "      <td>11</td>\n",
       "      <td>107</td>\n",
       "      <td>29/05/2002</td>\n",
       "      <td>0.0</td>\n",
       "    </tr>\n",
       "    <tr>\n",
       "      <th>2</th>\n",
       "      <td>62</td>\n",
       "      <td>train_Client_10</td>\n",
       "      <td>11</td>\n",
       "      <td>301</td>\n",
       "      <td>13/03/1986</td>\n",
       "      <td>0.0</td>\n",
       "    </tr>\n",
       "    <tr>\n",
       "      <th>3</th>\n",
       "      <td>69</td>\n",
       "      <td>train_Client_100</td>\n",
       "      <td>11</td>\n",
       "      <td>105</td>\n",
       "      <td>11/07/1996</td>\n",
       "      <td>0.0</td>\n",
       "    </tr>\n",
       "    <tr>\n",
       "      <th>4</th>\n",
       "      <td>62</td>\n",
       "      <td>train_Client_1000</td>\n",
       "      <td>11</td>\n",
       "      <td>303</td>\n",
       "      <td>14/10/2014</td>\n",
       "      <td>0.0</td>\n",
       "    </tr>\n",
       "  </tbody>\n",
       "</table>\n",
       "</div>"
      ],
      "text/plain": [
       "   disrict          client_id  client_catg  region creation_date  target\n",
       "0       60     train_Client_0           11     101    31/12/1994     0.0\n",
       "1       69     train_Client_1           11     107    29/05/2002     0.0\n",
       "2       62    train_Client_10           11     301    13/03/1986     0.0\n",
       "3       69   train_Client_100           11     105    11/07/1996     0.0\n",
       "4       62  train_Client_1000           11     303    14/10/2014     0.0"
      ]
     },
     "execution_count": 13,
     "metadata": {},
     "output_type": "execute_result"
    }
   ],
   "source": [
    "client_train.head()"
   ]
  },
  {
   "cell_type": "code",
   "execution_count": 11,
   "id": "af27f609",
   "metadata": {},
   "outputs": [
    {
     "data": {
      "text/html": [
       "<div>\n",
       "<style scoped>\n",
       "    .dataframe tbody tr th:only-of-type {\n",
       "        vertical-align: middle;\n",
       "    }\n",
       "\n",
       "    .dataframe tbody tr th {\n",
       "        vertical-align: top;\n",
       "    }\n",
       "\n",
       "    .dataframe thead th {\n",
       "        text-align: right;\n",
       "    }\n",
       "</style>\n",
       "<table border=\"1\" class=\"dataframe\">\n",
       "  <thead>\n",
       "    <tr style=\"text-align: right;\">\n",
       "      <th></th>\n",
       "      <th>client_id</th>\n",
       "      <th>invoice_date</th>\n",
       "      <th>tarif_type</th>\n",
       "      <th>counter_number</th>\n",
       "      <th>counter_statue</th>\n",
       "      <th>counter_code</th>\n",
       "      <th>reading_remarque</th>\n",
       "      <th>counter_coefficient</th>\n",
       "      <th>consommation_level_1</th>\n",
       "      <th>consommation_level_2</th>\n",
       "      <th>consommation_level_3</th>\n",
       "      <th>consommation_level_4</th>\n",
       "      <th>old_index</th>\n",
       "      <th>new_index</th>\n",
       "      <th>months_number</th>\n",
       "      <th>counter_type</th>\n",
       "    </tr>\n",
       "  </thead>\n",
       "  <tbody>\n",
       "    <tr>\n",
       "      <th>0</th>\n",
       "      <td>test_Client_0</td>\n",
       "      <td>2018-03-16</td>\n",
       "      <td>11</td>\n",
       "      <td>651208</td>\n",
       "      <td>0</td>\n",
       "      <td>203</td>\n",
       "      <td>8</td>\n",
       "      <td>1</td>\n",
       "      <td>755</td>\n",
       "      <td>0</td>\n",
       "      <td>0</td>\n",
       "      <td>0</td>\n",
       "      <td>19145</td>\n",
       "      <td>19900</td>\n",
       "      <td>8</td>\n",
       "      <td>ELEC</td>\n",
       "    </tr>\n",
       "    <tr>\n",
       "      <th>1</th>\n",
       "      <td>test_Client_0</td>\n",
       "      <td>2014-03-21</td>\n",
       "      <td>11</td>\n",
       "      <td>651208</td>\n",
       "      <td>0</td>\n",
       "      <td>203</td>\n",
       "      <td>8</td>\n",
       "      <td>1</td>\n",
       "      <td>1067</td>\n",
       "      <td>0</td>\n",
       "      <td>0</td>\n",
       "      <td>0</td>\n",
       "      <td>13725</td>\n",
       "      <td>14792</td>\n",
       "      <td>8</td>\n",
       "      <td>ELEC</td>\n",
       "    </tr>\n",
       "    <tr>\n",
       "      <th>2</th>\n",
       "      <td>test_Client_0</td>\n",
       "      <td>2014-07-17</td>\n",
       "      <td>11</td>\n",
       "      <td>651208</td>\n",
       "      <td>0</td>\n",
       "      <td>203</td>\n",
       "      <td>8</td>\n",
       "      <td>1</td>\n",
       "      <td>0</td>\n",
       "      <td>0</td>\n",
       "      <td>0</td>\n",
       "      <td>0</td>\n",
       "      <td>14792</td>\n",
       "      <td>14792</td>\n",
       "      <td>4</td>\n",
       "      <td>ELEC</td>\n",
       "    </tr>\n",
       "    <tr>\n",
       "      <th>3</th>\n",
       "      <td>test_Client_0</td>\n",
       "      <td>2015-07-13</td>\n",
       "      <td>11</td>\n",
       "      <td>651208</td>\n",
       "      <td>0</td>\n",
       "      <td>203</td>\n",
       "      <td>9</td>\n",
       "      <td>1</td>\n",
       "      <td>410</td>\n",
       "      <td>0</td>\n",
       "      <td>0</td>\n",
       "      <td>0</td>\n",
       "      <td>16122</td>\n",
       "      <td>16532</td>\n",
       "      <td>4</td>\n",
       "      <td>ELEC</td>\n",
       "    </tr>\n",
       "    <tr>\n",
       "      <th>4</th>\n",
       "      <td>test_Client_0</td>\n",
       "      <td>2016-07-19</td>\n",
       "      <td>11</td>\n",
       "      <td>651208</td>\n",
       "      <td>0</td>\n",
       "      <td>203</td>\n",
       "      <td>9</td>\n",
       "      <td>1</td>\n",
       "      <td>412</td>\n",
       "      <td>0</td>\n",
       "      <td>0</td>\n",
       "      <td>0</td>\n",
       "      <td>17471</td>\n",
       "      <td>17883</td>\n",
       "      <td>4</td>\n",
       "      <td>ELEC</td>\n",
       "    </tr>\n",
       "  </tbody>\n",
       "</table>\n",
       "</div>"
      ],
      "text/plain": [
       "       client_id invoice_date  tarif_type  counter_number  counter_statue  \\\n",
       "0  test_Client_0   2018-03-16          11          651208               0   \n",
       "1  test_Client_0   2014-03-21          11          651208               0   \n",
       "2  test_Client_0   2014-07-17          11          651208               0   \n",
       "3  test_Client_0   2015-07-13          11          651208               0   \n",
       "4  test_Client_0   2016-07-19          11          651208               0   \n",
       "\n",
       "   counter_code  reading_remarque  counter_coefficient  consommation_level_1  \\\n",
       "0           203                 8                    1                   755   \n",
       "1           203                 8                    1                  1067   \n",
       "2           203                 8                    1                     0   \n",
       "3           203                 9                    1                   410   \n",
       "4           203                 9                    1                   412   \n",
       "\n",
       "   consommation_level_2  consommation_level_3  consommation_level_4  \\\n",
       "0                     0                     0                     0   \n",
       "1                     0                     0                     0   \n",
       "2                     0                     0                     0   \n",
       "3                     0                     0                     0   \n",
       "4                     0                     0                     0   \n",
       "\n",
       "   old_index  new_index  months_number counter_type  \n",
       "0      19145      19900              8         ELEC  \n",
       "1      13725      14792              8         ELEC  \n",
       "2      14792      14792              4         ELEC  \n",
       "3      16122      16532              4         ELEC  \n",
       "4      17471      17883              4         ELEC  "
      ]
     },
     "execution_count": 11,
     "metadata": {},
     "output_type": "execute_result"
    }
   ],
   "source": [
    "invoice_test.head()"
   ]
  },
  {
   "cell_type": "code",
   "execution_count": 36,
   "id": "9d58e388",
   "metadata": {},
   "outputs": [
    {
     "data": {
      "text/html": [
       "<div>\n",
       "<style scoped>\n",
       "    .dataframe tbody tr th:only-of-type {\n",
       "        vertical-align: middle;\n",
       "    }\n",
       "\n",
       "    .dataframe tbody tr th {\n",
       "        vertical-align: top;\n",
       "    }\n",
       "\n",
       "    .dataframe thead th {\n",
       "        text-align: right;\n",
       "    }\n",
       "</style>\n",
       "<table border=\"1\" class=\"dataframe\">\n",
       "  <thead>\n",
       "    <tr style=\"text-align: right;\">\n",
       "      <th></th>\n",
       "      <th>client_id</th>\n",
       "      <th>invoice_date</th>\n",
       "      <th>tarif_type</th>\n",
       "      <th>counter_number</th>\n",
       "      <th>counter_statue</th>\n",
       "      <th>counter_code</th>\n",
       "      <th>reading_remarque</th>\n",
       "      <th>counter_coefficient</th>\n",
       "      <th>consommation_level_1</th>\n",
       "      <th>consommation_level_2</th>\n",
       "      <th>consommation_level_3</th>\n",
       "      <th>consommation_level_4</th>\n",
       "      <th>old_index</th>\n",
       "      <th>new_index</th>\n",
       "      <th>months_number</th>\n",
       "      <th>counter_type</th>\n",
       "    </tr>\n",
       "  </thead>\n",
       "  <tbody>\n",
       "    <tr>\n",
       "      <th>0</th>\n",
       "      <td>train_Client_0</td>\n",
       "      <td>2014-03-24</td>\n",
       "      <td>11</td>\n",
       "      <td>1335667</td>\n",
       "      <td>0</td>\n",
       "      <td>203</td>\n",
       "      <td>8</td>\n",
       "      <td>1</td>\n",
       "      <td>82</td>\n",
       "      <td>0</td>\n",
       "      <td>0</td>\n",
       "      <td>0</td>\n",
       "      <td>14302</td>\n",
       "      <td>14384</td>\n",
       "      <td>4</td>\n",
       "      <td>ELEC</td>\n",
       "    </tr>\n",
       "    <tr>\n",
       "      <th>1</th>\n",
       "      <td>train_Client_0</td>\n",
       "      <td>2013-03-29</td>\n",
       "      <td>11</td>\n",
       "      <td>1335667</td>\n",
       "      <td>0</td>\n",
       "      <td>203</td>\n",
       "      <td>6</td>\n",
       "      <td>1</td>\n",
       "      <td>1200</td>\n",
       "      <td>184</td>\n",
       "      <td>0</td>\n",
       "      <td>0</td>\n",
       "      <td>12294</td>\n",
       "      <td>13678</td>\n",
       "      <td>4</td>\n",
       "      <td>ELEC</td>\n",
       "    </tr>\n",
       "    <tr>\n",
       "      <th>2</th>\n",
       "      <td>train_Client_0</td>\n",
       "      <td>2015-03-23</td>\n",
       "      <td>11</td>\n",
       "      <td>1335667</td>\n",
       "      <td>0</td>\n",
       "      <td>203</td>\n",
       "      <td>8</td>\n",
       "      <td>1</td>\n",
       "      <td>123</td>\n",
       "      <td>0</td>\n",
       "      <td>0</td>\n",
       "      <td>0</td>\n",
       "      <td>14624</td>\n",
       "      <td>14747</td>\n",
       "      <td>4</td>\n",
       "      <td>ELEC</td>\n",
       "    </tr>\n",
       "    <tr>\n",
       "      <th>3</th>\n",
       "      <td>train_Client_0</td>\n",
       "      <td>2015-07-13</td>\n",
       "      <td>11</td>\n",
       "      <td>1335667</td>\n",
       "      <td>0</td>\n",
       "      <td>207</td>\n",
       "      <td>8</td>\n",
       "      <td>1</td>\n",
       "      <td>102</td>\n",
       "      <td>0</td>\n",
       "      <td>0</td>\n",
       "      <td>0</td>\n",
       "      <td>14747</td>\n",
       "      <td>14849</td>\n",
       "      <td>4</td>\n",
       "      <td>ELEC</td>\n",
       "    </tr>\n",
       "    <tr>\n",
       "      <th>4</th>\n",
       "      <td>train_Client_0</td>\n",
       "      <td>2016-11-17</td>\n",
       "      <td>11</td>\n",
       "      <td>1335667</td>\n",
       "      <td>0</td>\n",
       "      <td>207</td>\n",
       "      <td>9</td>\n",
       "      <td>1</td>\n",
       "      <td>572</td>\n",
       "      <td>0</td>\n",
       "      <td>0</td>\n",
       "      <td>0</td>\n",
       "      <td>15066</td>\n",
       "      <td>15638</td>\n",
       "      <td>12</td>\n",
       "      <td>ELEC</td>\n",
       "    </tr>\n",
       "  </tbody>\n",
       "</table>\n",
       "</div>"
      ],
      "text/plain": [
       "        client_id invoice_date  tarif_type  counter_number counter_statue  \\\n",
       "0  train_Client_0   2014-03-24          11         1335667              0   \n",
       "1  train_Client_0   2013-03-29          11         1335667              0   \n",
       "2  train_Client_0   2015-03-23          11         1335667              0   \n",
       "3  train_Client_0   2015-07-13          11         1335667              0   \n",
       "4  train_Client_0   2016-11-17          11         1335667              0   \n",
       "\n",
       "   counter_code  reading_remarque  counter_coefficient  consommation_level_1  \\\n",
       "0           203                 8                    1                    82   \n",
       "1           203                 6                    1                  1200   \n",
       "2           203                 8                    1                   123   \n",
       "3           207                 8                    1                   102   \n",
       "4           207                 9                    1                   572   \n",
       "\n",
       "   consommation_level_2  consommation_level_3  consommation_level_4  \\\n",
       "0                     0                     0                     0   \n",
       "1                   184                     0                     0   \n",
       "2                     0                     0                     0   \n",
       "3                     0                     0                     0   \n",
       "4                     0                     0                     0   \n",
       "\n",
       "   old_index  new_index  months_number counter_type  \n",
       "0      14302      14384              4         ELEC  \n",
       "1      12294      13678              4         ELEC  \n",
       "2      14624      14747              4         ELEC  \n",
       "3      14747      14849              4         ELEC  \n",
       "4      15066      15638             12         ELEC  "
      ]
     },
     "execution_count": 36,
     "metadata": {},
     "output_type": "execute_result"
    }
   ],
   "source": [
    "invoice_train.head()"
   ]
  },
  {
   "cell_type": "code",
   "execution_count": 5,
   "id": "1557761b",
   "metadata": {},
   "outputs": [
    {
     "data": {
      "text/html": [
       "<div>\n",
       "<style scoped>\n",
       "    .dataframe tbody tr th:only-of-type {\n",
       "        vertical-align: middle;\n",
       "    }\n",
       "\n",
       "    .dataframe tbody tr th {\n",
       "        vertical-align: top;\n",
       "    }\n",
       "\n",
       "    .dataframe thead th {\n",
       "        text-align: right;\n",
       "    }\n",
       "</style>\n",
       "<table border=\"1\" class=\"dataframe\">\n",
       "  <thead>\n",
       "    <tr style=\"text-align: right;\">\n",
       "      <th></th>\n",
       "      <th>client_id</th>\n",
       "      <th>target</th>\n",
       "    </tr>\n",
       "  </thead>\n",
       "  <tbody>\n",
       "    <tr>\n",
       "      <th>0</th>\n",
       "      <td>test_Client_0</td>\n",
       "      <td>0.957281</td>\n",
       "    </tr>\n",
       "    <tr>\n",
       "      <th>1</th>\n",
       "      <td>test_Client_1</td>\n",
       "      <td>0.996425</td>\n",
       "    </tr>\n",
       "    <tr>\n",
       "      <th>2</th>\n",
       "      <td>test_Client_10</td>\n",
       "      <td>0.612359</td>\n",
       "    </tr>\n",
       "    <tr>\n",
       "      <th>3</th>\n",
       "      <td>test_Client_100</td>\n",
       "      <td>0.776933</td>\n",
       "    </tr>\n",
       "    <tr>\n",
       "      <th>4</th>\n",
       "      <td>test_Client_1000</td>\n",
       "      <td>0.571046</td>\n",
       "    </tr>\n",
       "  </tbody>\n",
       "</table>\n",
       "</div>"
      ],
      "text/plain": [
       "          client_id    target\n",
       "0     test_Client_0  0.957281\n",
       "1     test_Client_1  0.996425\n",
       "2    test_Client_10  0.612359\n",
       "3   test_Client_100  0.776933\n",
       "4  test_Client_1000  0.571046"
      ]
     },
     "execution_count": 5,
     "metadata": {},
     "output_type": "execute_result"
    }
   ],
   "source": [
    "sample_submission.head()"
   ]
  },
  {
   "cell_type": "code",
   "execution_count": 22,
   "id": "86c25209",
   "metadata": {},
   "outputs": [
    {
     "name": "stdout",
     "output_type": "stream",
     "text": [
      "<class 'pandas.core.frame.DataFrame'>\n",
      "RangeIndex: 58069 entries, 0 to 58068\n",
      "Data columns (total 5 columns):\n",
      " #   Column         Non-Null Count  Dtype \n",
      "---  ------         --------------  ----- \n",
      " 0   disrict        58069 non-null  int64 \n",
      " 1   client_id      58069 non-null  object\n",
      " 2   client_catg    58069 non-null  int64 \n",
      " 3   region         58069 non-null  int64 \n",
      " 4   creation_date  58069 non-null  object\n",
      "dtypes: int64(3), object(2)\n",
      "memory usage: 2.2+ MB\n"
     ]
    }
   ],
   "source": [
    "client_test.info()"
   ]
  },
  {
   "cell_type": "code",
   "execution_count": 20,
   "id": "7d3146e7",
   "metadata": {},
   "outputs": [
    {
     "data": {
      "text/plain": [
       "client_id               0\n",
       "invoice_date            0\n",
       "tarif_type              0\n",
       "counter_number          0\n",
       "counter_statue          0\n",
       "counter_code            0\n",
       "reading_remarque        0\n",
       "counter_coefficient     0\n",
       "consommation_level_1    0\n",
       "consommation_level_2    0\n",
       "consommation_level_3    0\n",
       "consommation_level_4    0\n",
       "old_index               0\n",
       "new_index               0\n",
       "months_number           0\n",
       "counter_type            0\n",
       "dtype: int64"
      ]
     },
     "execution_count": 20,
     "metadata": {},
     "output_type": "execute_result"
    }
   ],
   "source": [
    "invoice_train.isna().sum()"
   ]
  },
  {
   "cell_type": "code",
   "execution_count": 23,
   "id": "0e85edaf",
   "metadata": {},
   "outputs": [
    {
     "name": "stdout",
     "output_type": "stream",
     "text": [
      "<class 'pandas.core.frame.DataFrame'>\n",
      "RangeIndex: 1939730 entries, 0 to 1939729\n",
      "Data columns (total 16 columns):\n",
      " #   Column                Dtype \n",
      "---  ------                ----- \n",
      " 0   client_id             object\n",
      " 1   invoice_date          object\n",
      " 2   tarif_type            int64 \n",
      " 3   counter_number        int64 \n",
      " 4   counter_statue        int64 \n",
      " 5   counter_code          int64 \n",
      " 6   reading_remarque      int64 \n",
      " 7   counter_coefficient   int64 \n",
      " 8   consommation_level_1  int64 \n",
      " 9   consommation_level_2  int64 \n",
      " 10  consommation_level_3  int64 \n",
      " 11  consommation_level_4  int64 \n",
      " 12  old_index             int64 \n",
      " 13  new_index             int64 \n",
      " 14  months_number         int64 \n",
      " 15  counter_type          object\n",
      "dtypes: int64(13), object(3)\n",
      "memory usage: 236.8+ MB\n"
     ]
    }
   ],
   "source": [
    "invoice_test.info()"
   ]
  },
  {
   "cell_type": "code",
   "execution_count": 24,
   "id": "8da57663",
   "metadata": {},
   "outputs": [
    {
     "data": {
      "text/plain": [
       "client_id               0\n",
       "invoice_date            0\n",
       "tarif_type              0\n",
       "counter_number          0\n",
       "counter_statue          0\n",
       "counter_code            0\n",
       "reading_remarque        0\n",
       "counter_coefficient     0\n",
       "consommation_level_1    0\n",
       "consommation_level_2    0\n",
       "consommation_level_3    0\n",
       "consommation_level_4    0\n",
       "old_index               0\n",
       "new_index               0\n",
       "months_number           0\n",
       "counter_type            0\n",
       "dtype: int64"
      ]
     },
     "execution_count": 24,
     "metadata": {},
     "output_type": "execute_result"
    }
   ],
   "source": [
    "invoice_test.isna().sum()"
   ]
  },
  {
   "cell_type": "code",
   "execution_count": 14,
   "id": "5746886d",
   "metadata": {},
   "outputs": [
    {
     "data": {
      "text/html": [
       "<div>\n",
       "<style scoped>\n",
       "    .dataframe tbody tr th:only-of-type {\n",
       "        vertical-align: middle;\n",
       "    }\n",
       "\n",
       "    .dataframe tbody tr th {\n",
       "        vertical-align: top;\n",
       "    }\n",
       "\n",
       "    .dataframe thead th {\n",
       "        text-align: right;\n",
       "    }\n",
       "</style>\n",
       "<table border=\"1\" class=\"dataframe\">\n",
       "  <thead>\n",
       "    <tr style=\"text-align: right;\">\n",
       "      <th></th>\n",
       "      <th>disrict</th>\n",
       "      <th>client_catg</th>\n",
       "      <th>region</th>\n",
       "      <th>target</th>\n",
       "    </tr>\n",
       "  </thead>\n",
       "  <tbody>\n",
       "    <tr>\n",
       "      <th>count</th>\n",
       "      <td>135493.000000</td>\n",
       "      <td>135493.000000</td>\n",
       "      <td>135493.000000</td>\n",
       "      <td>135493.000000</td>\n",
       "    </tr>\n",
       "    <tr>\n",
       "      <th>mean</th>\n",
       "      <td>63.511222</td>\n",
       "      <td>11.512506</td>\n",
       "      <td>206.159809</td>\n",
       "      <td>0.055841</td>\n",
       "    </tr>\n",
       "    <tr>\n",
       "      <th>std</th>\n",
       "      <td>3.354400</td>\n",
       "      <td>4.423761</td>\n",
       "      <td>104.207044</td>\n",
       "      <td>0.229614</td>\n",
       "    </tr>\n",
       "    <tr>\n",
       "      <th>min</th>\n",
       "      <td>60.000000</td>\n",
       "      <td>11.000000</td>\n",
       "      <td>101.000000</td>\n",
       "      <td>0.000000</td>\n",
       "    </tr>\n",
       "    <tr>\n",
       "      <th>25%</th>\n",
       "      <td>62.000000</td>\n",
       "      <td>11.000000</td>\n",
       "      <td>103.000000</td>\n",
       "      <td>0.000000</td>\n",
       "    </tr>\n",
       "    <tr>\n",
       "      <th>50%</th>\n",
       "      <td>62.000000</td>\n",
       "      <td>11.000000</td>\n",
       "      <td>107.000000</td>\n",
       "      <td>0.000000</td>\n",
       "    </tr>\n",
       "    <tr>\n",
       "      <th>75%</th>\n",
       "      <td>69.000000</td>\n",
       "      <td>11.000000</td>\n",
       "      <td>307.000000</td>\n",
       "      <td>0.000000</td>\n",
       "    </tr>\n",
       "    <tr>\n",
       "      <th>max</th>\n",
       "      <td>69.000000</td>\n",
       "      <td>51.000000</td>\n",
       "      <td>399.000000</td>\n",
       "      <td>1.000000</td>\n",
       "    </tr>\n",
       "  </tbody>\n",
       "</table>\n",
       "</div>"
      ],
      "text/plain": [
       "             disrict    client_catg         region         target\n",
       "count  135493.000000  135493.000000  135493.000000  135493.000000\n",
       "mean       63.511222      11.512506     206.159809       0.055841\n",
       "std         3.354400       4.423761     104.207044       0.229614\n",
       "min        60.000000      11.000000     101.000000       0.000000\n",
       "25%        62.000000      11.000000     103.000000       0.000000\n",
       "50%        62.000000      11.000000     107.000000       0.000000\n",
       "75%        69.000000      11.000000     307.000000       0.000000\n",
       "max        69.000000      51.000000     399.000000       1.000000"
      ]
     },
     "execution_count": 14,
     "metadata": {},
     "output_type": "execute_result"
    }
   ],
   "source": [
    "client_train.describe()"
   ]
  },
  {
   "cell_type": "code",
   "execution_count": 13,
   "id": "5bdbc7c5",
   "metadata": {
    "scrolled": false
   },
   "outputs": [
    {
     "data": {
      "text/html": [
       "<div>\n",
       "<style scoped>\n",
       "    .dataframe tbody tr th:only-of-type {\n",
       "        vertical-align: middle;\n",
       "    }\n",
       "\n",
       "    .dataframe tbody tr th {\n",
       "        vertical-align: top;\n",
       "    }\n",
       "\n",
       "    .dataframe thead th {\n",
       "        text-align: right;\n",
       "    }\n",
       "</style>\n",
       "<table border=\"1\" class=\"dataframe\">\n",
       "  <thead>\n",
       "    <tr style=\"text-align: right;\">\n",
       "      <th></th>\n",
       "      <th>tarif_type</th>\n",
       "      <th>counter_number</th>\n",
       "      <th>counter_code</th>\n",
       "      <th>reading_remarque</th>\n",
       "      <th>counter_coefficient</th>\n",
       "      <th>consommation_level_1</th>\n",
       "      <th>consommation_level_2</th>\n",
       "      <th>consommation_level_3</th>\n",
       "      <th>consommation_level_4</th>\n",
       "      <th>old_index</th>\n",
       "      <th>new_index</th>\n",
       "      <th>months_number</th>\n",
       "    </tr>\n",
       "  </thead>\n",
       "  <tbody>\n",
       "    <tr>\n",
       "      <th>count</th>\n",
       "      <td>4.476749e+06</td>\n",
       "      <td>4.476749e+06</td>\n",
       "      <td>4.476749e+06</td>\n",
       "      <td>4.476749e+06</td>\n",
       "      <td>4.476749e+06</td>\n",
       "      <td>4.476749e+06</td>\n",
       "      <td>4.476749e+06</td>\n",
       "      <td>4.476749e+06</td>\n",
       "      <td>4.476749e+06</td>\n",
       "      <td>4.476749e+06</td>\n",
       "      <td>4.476749e+06</td>\n",
       "      <td>4.476749e+06</td>\n",
       "    </tr>\n",
       "    <tr>\n",
       "      <th>mean</th>\n",
       "      <td>2.012804e+01</td>\n",
       "      <td>1.230587e+11</td>\n",
       "      <td>1.724884e+02</td>\n",
       "      <td>7.321702e+00</td>\n",
       "      <td>1.003040e+00</td>\n",
       "      <td>4.109795e+02</td>\n",
       "      <td>1.093225e+02</td>\n",
       "      <td>2.030620e+01</td>\n",
       "      <td>5.292588e+01</td>\n",
       "      <td>1.776700e+04</td>\n",
       "      <td>1.834970e+04</td>\n",
       "      <td>4.483095e+01</td>\n",
       "    </tr>\n",
       "    <tr>\n",
       "      <th>std</th>\n",
       "      <td>1.347256e+01</td>\n",
       "      <td>1.657267e+12</td>\n",
       "      <td>1.338871e+02</td>\n",
       "      <td>1.571654e+00</td>\n",
       "      <td>3.083466e-01</td>\n",
       "      <td>7.573080e+02</td>\n",
       "      <td>1.220123e+03</td>\n",
       "      <td>1.574239e+02</td>\n",
       "      <td>8.754725e+02</td>\n",
       "      <td>4.036693e+04</td>\n",
       "      <td>4.095321e+04</td>\n",
       "      <td>3.128335e+03</td>\n",
       "    </tr>\n",
       "    <tr>\n",
       "      <th>min</th>\n",
       "      <td>8.000000e+00</td>\n",
       "      <td>0.000000e+00</td>\n",
       "      <td>0.000000e+00</td>\n",
       "      <td>5.000000e+00</td>\n",
       "      <td>0.000000e+00</td>\n",
       "      <td>0.000000e+00</td>\n",
       "      <td>0.000000e+00</td>\n",
       "      <td>0.000000e+00</td>\n",
       "      <td>0.000000e+00</td>\n",
       "      <td>0.000000e+00</td>\n",
       "      <td>0.000000e+00</td>\n",
       "      <td>0.000000e+00</td>\n",
       "    </tr>\n",
       "    <tr>\n",
       "      <th>25%</th>\n",
       "      <td>1.100000e+01</td>\n",
       "      <td>1.211080e+05</td>\n",
       "      <td>5.000000e+00</td>\n",
       "      <td>6.000000e+00</td>\n",
       "      <td>1.000000e+00</td>\n",
       "      <td>7.900000e+01</td>\n",
       "      <td>0.000000e+00</td>\n",
       "      <td>0.000000e+00</td>\n",
       "      <td>0.000000e+00</td>\n",
       "      <td>1.791000e+03</td>\n",
       "      <td>2.056000e+03</td>\n",
       "      <td>4.000000e+00</td>\n",
       "    </tr>\n",
       "    <tr>\n",
       "      <th>50%</th>\n",
       "      <td>1.100000e+01</td>\n",
       "      <td>4.945610e+05</td>\n",
       "      <td>2.030000e+02</td>\n",
       "      <td>8.000000e+00</td>\n",
       "      <td>1.000000e+00</td>\n",
       "      <td>2.740000e+02</td>\n",
       "      <td>0.000000e+00</td>\n",
       "      <td>0.000000e+00</td>\n",
       "      <td>0.000000e+00</td>\n",
       "      <td>7.690000e+03</td>\n",
       "      <td>8.192000e+03</td>\n",
       "      <td>4.000000e+00</td>\n",
       "    </tr>\n",
       "    <tr>\n",
       "      <th>75%</th>\n",
       "      <td>4.000000e+01</td>\n",
       "      <td>1.115161e+06</td>\n",
       "      <td>2.070000e+02</td>\n",
       "      <td>9.000000e+00</td>\n",
       "      <td>1.000000e+00</td>\n",
       "      <td>6.000000e+02</td>\n",
       "      <td>0.000000e+00</td>\n",
       "      <td>0.000000e+00</td>\n",
       "      <td>0.000000e+00</td>\n",
       "      <td>2.166000e+04</td>\n",
       "      <td>2.234300e+04</td>\n",
       "      <td>4.000000e+00</td>\n",
       "    </tr>\n",
       "    <tr>\n",
       "      <th>max</th>\n",
       "      <td>4.500000e+01</td>\n",
       "      <td>2.798115e+13</td>\n",
       "      <td>6.000000e+02</td>\n",
       "      <td>4.130000e+02</td>\n",
       "      <td>5.000000e+01</td>\n",
       "      <td>9.999100e+05</td>\n",
       "      <td>9.990730e+05</td>\n",
       "      <td>6.449200e+04</td>\n",
       "      <td>5.479460e+05</td>\n",
       "      <td>2.800280e+06</td>\n",
       "      <td>2.870972e+06</td>\n",
       "      <td>6.366240e+05</td>\n",
       "    </tr>\n",
       "  </tbody>\n",
       "</table>\n",
       "</div>"
      ],
      "text/plain": [
       "         tarif_type  counter_number  counter_code  reading_remarque  \\\n",
       "count  4.476749e+06    4.476749e+06  4.476749e+06      4.476749e+06   \n",
       "mean   2.012804e+01    1.230587e+11  1.724884e+02      7.321702e+00   \n",
       "std    1.347256e+01    1.657267e+12  1.338871e+02      1.571654e+00   \n",
       "min    8.000000e+00    0.000000e+00  0.000000e+00      5.000000e+00   \n",
       "25%    1.100000e+01    1.211080e+05  5.000000e+00      6.000000e+00   \n",
       "50%    1.100000e+01    4.945610e+05  2.030000e+02      8.000000e+00   \n",
       "75%    4.000000e+01    1.115161e+06  2.070000e+02      9.000000e+00   \n",
       "max    4.500000e+01    2.798115e+13  6.000000e+02      4.130000e+02   \n",
       "\n",
       "       counter_coefficient  consommation_level_1  consommation_level_2  \\\n",
       "count         4.476749e+06          4.476749e+06          4.476749e+06   \n",
       "mean          1.003040e+00          4.109795e+02          1.093225e+02   \n",
       "std           3.083466e-01          7.573080e+02          1.220123e+03   \n",
       "min           0.000000e+00          0.000000e+00          0.000000e+00   \n",
       "25%           1.000000e+00          7.900000e+01          0.000000e+00   \n",
       "50%           1.000000e+00          2.740000e+02          0.000000e+00   \n",
       "75%           1.000000e+00          6.000000e+02          0.000000e+00   \n",
       "max           5.000000e+01          9.999100e+05          9.990730e+05   \n",
       "\n",
       "       consommation_level_3  consommation_level_4     old_index     new_index  \\\n",
       "count          4.476749e+06          4.476749e+06  4.476749e+06  4.476749e+06   \n",
       "mean           2.030620e+01          5.292588e+01  1.776700e+04  1.834970e+04   \n",
       "std            1.574239e+02          8.754725e+02  4.036693e+04  4.095321e+04   \n",
       "min            0.000000e+00          0.000000e+00  0.000000e+00  0.000000e+00   \n",
       "25%            0.000000e+00          0.000000e+00  1.791000e+03  2.056000e+03   \n",
       "50%            0.000000e+00          0.000000e+00  7.690000e+03  8.192000e+03   \n",
       "75%            0.000000e+00          0.000000e+00  2.166000e+04  2.234300e+04   \n",
       "max            6.449200e+04          5.479460e+05  2.800280e+06  2.870972e+06   \n",
       "\n",
       "       months_number  \n",
       "count   4.476749e+06  \n",
       "mean    4.483095e+01  \n",
       "std     3.128335e+03  \n",
       "min     0.000000e+00  \n",
       "25%     4.000000e+00  \n",
       "50%     4.000000e+00  \n",
       "75%     4.000000e+00  \n",
       "max     6.366240e+05  "
      ]
     },
     "execution_count": 13,
     "metadata": {},
     "output_type": "execute_result"
    }
   ],
   "source": [
    "invoice_train.describe()"
   ]
  },
  {
   "cell_type": "code",
   "execution_count": 9,
   "id": "f051a054",
   "metadata": {
    "scrolled": true
   },
   "outputs": [
    {
     "data": {
      "text/plain": [
       "0.0    127927\n",
       "1.0      7566\n",
       "Name: target, dtype: int64"
      ]
     },
     "execution_count": 9,
     "metadata": {},
     "output_type": "execute_result"
    }
   ],
   "source": [
    "occ = client_train['target'].value_counts()\n",
    "occ"
   ]
  },
  {
   "cell_type": "code",
   "execution_count": 6,
   "id": "b0c5f0d2",
   "metadata": {},
   "outputs": [
    {
     "data": {
      "application/vnd.plotly.v1+json": {
       "config": {
        "linkText": "Export to plot.ly",
        "plotlyServerURL": "https://plot.ly",
        "showLink": false
       },
       "data": [
        {
         "marker": {
          "color": "Red"
         },
         "name": "Fraud Detection - data unbalance (Not fraud = 0, Fraud = 1)",
         "text": [
          127927,
          7566
         ],
         "type": "bar",
         "x": [
          0,
          1
         ],
         "y": [
          127927,
          7566
         ]
        }
       ],
       "layout": {
        "hovermode": "closest",
        "template": {
         "data": {
          "bar": [
           {
            "error_x": {
             "color": "#2a3f5f"
            },
            "error_y": {
             "color": "#2a3f5f"
            },
            "marker": {
             "line": {
              "color": "#E5ECF6",
              "width": 0.5
             },
             "pattern": {
              "fillmode": "overlay",
              "size": 10,
              "solidity": 0.2
             }
            },
            "type": "bar"
           }
          ],
          "barpolar": [
           {
            "marker": {
             "line": {
              "color": "#E5ECF6",
              "width": 0.5
             },
             "pattern": {
              "fillmode": "overlay",
              "size": 10,
              "solidity": 0.2
             }
            },
            "type": "barpolar"
           }
          ],
          "carpet": [
           {
            "aaxis": {
             "endlinecolor": "#2a3f5f",
             "gridcolor": "white",
             "linecolor": "white",
             "minorgridcolor": "white",
             "startlinecolor": "#2a3f5f"
            },
            "baxis": {
             "endlinecolor": "#2a3f5f",
             "gridcolor": "white",
             "linecolor": "white",
             "minorgridcolor": "white",
             "startlinecolor": "#2a3f5f"
            },
            "type": "carpet"
           }
          ],
          "choropleth": [
           {
            "colorbar": {
             "outlinewidth": 0,
             "ticks": ""
            },
            "type": "choropleth"
           }
          ],
          "contour": [
           {
            "colorbar": {
             "outlinewidth": 0,
             "ticks": ""
            },
            "colorscale": [
             [
              0,
              "#0d0887"
             ],
             [
              0.1111111111111111,
              "#46039f"
             ],
             [
              0.2222222222222222,
              "#7201a8"
             ],
             [
              0.3333333333333333,
              "#9c179e"
             ],
             [
              0.4444444444444444,
              "#bd3786"
             ],
             [
              0.5555555555555556,
              "#d8576b"
             ],
             [
              0.6666666666666666,
              "#ed7953"
             ],
             [
              0.7777777777777778,
              "#fb9f3a"
             ],
             [
              0.8888888888888888,
              "#fdca26"
             ],
             [
              1,
              "#f0f921"
             ]
            ],
            "type": "contour"
           }
          ],
          "contourcarpet": [
           {
            "colorbar": {
             "outlinewidth": 0,
             "ticks": ""
            },
            "type": "contourcarpet"
           }
          ],
          "heatmap": [
           {
            "colorbar": {
             "outlinewidth": 0,
             "ticks": ""
            },
            "colorscale": [
             [
              0,
              "#0d0887"
             ],
             [
              0.1111111111111111,
              "#46039f"
             ],
             [
              0.2222222222222222,
              "#7201a8"
             ],
             [
              0.3333333333333333,
              "#9c179e"
             ],
             [
              0.4444444444444444,
              "#bd3786"
             ],
             [
              0.5555555555555556,
              "#d8576b"
             ],
             [
              0.6666666666666666,
              "#ed7953"
             ],
             [
              0.7777777777777778,
              "#fb9f3a"
             ],
             [
              0.8888888888888888,
              "#fdca26"
             ],
             [
              1,
              "#f0f921"
             ]
            ],
            "type": "heatmap"
           }
          ],
          "heatmapgl": [
           {
            "colorbar": {
             "outlinewidth": 0,
             "ticks": ""
            },
            "colorscale": [
             [
              0,
              "#0d0887"
             ],
             [
              0.1111111111111111,
              "#46039f"
             ],
             [
              0.2222222222222222,
              "#7201a8"
             ],
             [
              0.3333333333333333,
              "#9c179e"
             ],
             [
              0.4444444444444444,
              "#bd3786"
             ],
             [
              0.5555555555555556,
              "#d8576b"
             ],
             [
              0.6666666666666666,
              "#ed7953"
             ],
             [
              0.7777777777777778,
              "#fb9f3a"
             ],
             [
              0.8888888888888888,
              "#fdca26"
             ],
             [
              1,
              "#f0f921"
             ]
            ],
            "type": "heatmapgl"
           }
          ],
          "histogram": [
           {
            "marker": {
             "pattern": {
              "fillmode": "overlay",
              "size": 10,
              "solidity": 0.2
             }
            },
            "type": "histogram"
           }
          ],
          "histogram2d": [
           {
            "colorbar": {
             "outlinewidth": 0,
             "ticks": ""
            },
            "colorscale": [
             [
              0,
              "#0d0887"
             ],
             [
              0.1111111111111111,
              "#46039f"
             ],
             [
              0.2222222222222222,
              "#7201a8"
             ],
             [
              0.3333333333333333,
              "#9c179e"
             ],
             [
              0.4444444444444444,
              "#bd3786"
             ],
             [
              0.5555555555555556,
              "#d8576b"
             ],
             [
              0.6666666666666666,
              "#ed7953"
             ],
             [
              0.7777777777777778,
              "#fb9f3a"
             ],
             [
              0.8888888888888888,
              "#fdca26"
             ],
             [
              1,
              "#f0f921"
             ]
            ],
            "type": "histogram2d"
           }
          ],
          "histogram2dcontour": [
           {
            "colorbar": {
             "outlinewidth": 0,
             "ticks": ""
            },
            "colorscale": [
             [
              0,
              "#0d0887"
             ],
             [
              0.1111111111111111,
              "#46039f"
             ],
             [
              0.2222222222222222,
              "#7201a8"
             ],
             [
              0.3333333333333333,
              "#9c179e"
             ],
             [
              0.4444444444444444,
              "#bd3786"
             ],
             [
              0.5555555555555556,
              "#d8576b"
             ],
             [
              0.6666666666666666,
              "#ed7953"
             ],
             [
              0.7777777777777778,
              "#fb9f3a"
             ],
             [
              0.8888888888888888,
              "#fdca26"
             ],
             [
              1,
              "#f0f921"
             ]
            ],
            "type": "histogram2dcontour"
           }
          ],
          "mesh3d": [
           {
            "colorbar": {
             "outlinewidth": 0,
             "ticks": ""
            },
            "type": "mesh3d"
           }
          ],
          "parcoords": [
           {
            "line": {
             "colorbar": {
              "outlinewidth": 0,
              "ticks": ""
             }
            },
            "type": "parcoords"
           }
          ],
          "pie": [
           {
            "automargin": true,
            "type": "pie"
           }
          ],
          "scatter": [
           {
            "fillpattern": {
             "fillmode": "overlay",
             "size": 10,
             "solidity": 0.2
            },
            "type": "scatter"
           }
          ],
          "scatter3d": [
           {
            "line": {
             "colorbar": {
              "outlinewidth": 0,
              "ticks": ""
             }
            },
            "marker": {
             "colorbar": {
              "outlinewidth": 0,
              "ticks": ""
             }
            },
            "type": "scatter3d"
           }
          ],
          "scattercarpet": [
           {
            "marker": {
             "colorbar": {
              "outlinewidth": 0,
              "ticks": ""
             }
            },
            "type": "scattercarpet"
           }
          ],
          "scattergeo": [
           {
            "marker": {
             "colorbar": {
              "outlinewidth": 0,
              "ticks": ""
             }
            },
            "type": "scattergeo"
           }
          ],
          "scattergl": [
           {
            "marker": {
             "colorbar": {
              "outlinewidth": 0,
              "ticks": ""
             }
            },
            "type": "scattergl"
           }
          ],
          "scattermapbox": [
           {
            "marker": {
             "colorbar": {
              "outlinewidth": 0,
              "ticks": ""
             }
            },
            "type": "scattermapbox"
           }
          ],
          "scatterpolar": [
           {
            "marker": {
             "colorbar": {
              "outlinewidth": 0,
              "ticks": ""
             }
            },
            "type": "scatterpolar"
           }
          ],
          "scatterpolargl": [
           {
            "marker": {
             "colorbar": {
              "outlinewidth": 0,
              "ticks": ""
             }
            },
            "type": "scatterpolargl"
           }
          ],
          "scatterternary": [
           {
            "marker": {
             "colorbar": {
              "outlinewidth": 0,
              "ticks": ""
             }
            },
            "type": "scatterternary"
           }
          ],
          "surface": [
           {
            "colorbar": {
             "outlinewidth": 0,
             "ticks": ""
            },
            "colorscale": [
             [
              0,
              "#0d0887"
             ],
             [
              0.1111111111111111,
              "#46039f"
             ],
             [
              0.2222222222222222,
              "#7201a8"
             ],
             [
              0.3333333333333333,
              "#9c179e"
             ],
             [
              0.4444444444444444,
              "#bd3786"
             ],
             [
              0.5555555555555556,
              "#d8576b"
             ],
             [
              0.6666666666666666,
              "#ed7953"
             ],
             [
              0.7777777777777778,
              "#fb9f3a"
             ],
             [
              0.8888888888888888,
              "#fdca26"
             ],
             [
              1,
              "#f0f921"
             ]
            ],
            "type": "surface"
           }
          ],
          "table": [
           {
            "cells": {
             "fill": {
              "color": "#EBF0F8"
             },
             "line": {
              "color": "white"
             }
            },
            "header": {
             "fill": {
              "color": "#C8D4E3"
             },
             "line": {
              "color": "white"
             }
            },
            "type": "table"
           }
          ]
         },
         "layout": {
          "annotationdefaults": {
           "arrowcolor": "#2a3f5f",
           "arrowhead": 0,
           "arrowwidth": 1
          },
          "autotypenumbers": "strict",
          "coloraxis": {
           "colorbar": {
            "outlinewidth": 0,
            "ticks": ""
           }
          },
          "colorscale": {
           "diverging": [
            [
             0,
             "#8e0152"
            ],
            [
             0.1,
             "#c51b7d"
            ],
            [
             0.2,
             "#de77ae"
            ],
            [
             0.3,
             "#f1b6da"
            ],
            [
             0.4,
             "#fde0ef"
            ],
            [
             0.5,
             "#f7f7f7"
            ],
            [
             0.6,
             "#e6f5d0"
            ],
            [
             0.7,
             "#b8e186"
            ],
            [
             0.8,
             "#7fbc41"
            ],
            [
             0.9,
             "#4d9221"
            ],
            [
             1,
             "#276419"
            ]
           ],
           "sequential": [
            [
             0,
             "#0d0887"
            ],
            [
             0.1111111111111111,
             "#46039f"
            ],
            [
             0.2222222222222222,
             "#7201a8"
            ],
            [
             0.3333333333333333,
             "#9c179e"
            ],
            [
             0.4444444444444444,
             "#bd3786"
            ],
            [
             0.5555555555555556,
             "#d8576b"
            ],
            [
             0.6666666666666666,
             "#ed7953"
            ],
            [
             0.7777777777777778,
             "#fb9f3a"
            ],
            [
             0.8888888888888888,
             "#fdca26"
            ],
            [
             1,
             "#f0f921"
            ]
           ],
           "sequentialminus": [
            [
             0,
             "#0d0887"
            ],
            [
             0.1111111111111111,
             "#46039f"
            ],
            [
             0.2222222222222222,
             "#7201a8"
            ],
            [
             0.3333333333333333,
             "#9c179e"
            ],
            [
             0.4444444444444444,
             "#bd3786"
            ],
            [
             0.5555555555555556,
             "#d8576b"
            ],
            [
             0.6666666666666666,
             "#ed7953"
            ],
            [
             0.7777777777777778,
             "#fb9f3a"
            ],
            [
             0.8888888888888888,
             "#fdca26"
            ],
            [
             1,
             "#f0f921"
            ]
           ]
          },
          "colorway": [
           "#636efa",
           "#EF553B",
           "#00cc96",
           "#ab63fa",
           "#FFA15A",
           "#19d3f3",
           "#FF6692",
           "#B6E880",
           "#FF97FF",
           "#FECB52"
          ],
          "font": {
           "color": "#2a3f5f"
          },
          "geo": {
           "bgcolor": "white",
           "lakecolor": "white",
           "landcolor": "#E5ECF6",
           "showlakes": true,
           "showland": true,
           "subunitcolor": "white"
          },
          "hoverlabel": {
           "align": "left"
          },
          "hovermode": "closest",
          "mapbox": {
           "style": "light"
          },
          "paper_bgcolor": "white",
          "plot_bgcolor": "#E5ECF6",
          "polar": {
           "angularaxis": {
            "gridcolor": "white",
            "linecolor": "white",
            "ticks": ""
           },
           "bgcolor": "#E5ECF6",
           "radialaxis": {
            "gridcolor": "white",
            "linecolor": "white",
            "ticks": ""
           }
          },
          "scene": {
           "xaxis": {
            "backgroundcolor": "#E5ECF6",
            "gridcolor": "white",
            "gridwidth": 2,
            "linecolor": "white",
            "showbackground": true,
            "ticks": "",
            "zerolinecolor": "white"
           },
           "yaxis": {
            "backgroundcolor": "#E5ECF6",
            "gridcolor": "white",
            "gridwidth": 2,
            "linecolor": "white",
            "showbackground": true,
            "ticks": "",
            "zerolinecolor": "white"
           },
           "zaxis": {
            "backgroundcolor": "#E5ECF6",
            "gridcolor": "white",
            "gridwidth": 2,
            "linecolor": "white",
            "showbackground": true,
            "ticks": "",
            "zerolinecolor": "white"
           }
          },
          "shapedefaults": {
           "line": {
            "color": "#2a3f5f"
           }
          },
          "ternary": {
           "aaxis": {
            "gridcolor": "white",
            "linecolor": "white",
            "ticks": ""
           },
           "baxis": {
            "gridcolor": "white",
            "linecolor": "white",
            "ticks": ""
           },
           "bgcolor": "#E5ECF6",
           "caxis": {
            "gridcolor": "white",
            "linecolor": "white",
            "ticks": ""
           }
          },
          "title": {
           "x": 0.05
          },
          "xaxis": {
           "automargin": true,
           "gridcolor": "white",
           "linecolor": "white",
           "ticks": "",
           "title": {
            "standoff": 15
           },
           "zerolinecolor": "white",
           "zerolinewidth": 2
          },
          "yaxis": {
           "automargin": true,
           "gridcolor": "white",
           "linecolor": "white",
           "ticks": "",
           "title": {
            "standoff": 15
           },
           "zerolinecolor": "white",
           "zerolinewidth": 2
          }
         }
        },
        "title": {
         "text": "Fraud Detection - data unbalance (Not fraud = 0, Fraud = 1)"
        },
        "width": 600,
        "xaxis": {
         "showticklabels": true,
         "title": {
          "text": "target"
         }
        },
        "yaxis": {
         "title": {
          "text": "Number of transactions"
         }
        }
       }
      },
      "text/html": [
       "<div>                            <div id=\"e99f9605-edd6-4df1-b264-2b6e2a9cbf05\" class=\"plotly-graph-div\" style=\"height:525px; width:600px;\"></div>            <script type=\"text/javascript\">                require([\"plotly\"], function(Plotly) {                    window.PLOTLYENV=window.PLOTLYENV || {};                                    if (document.getElementById(\"e99f9605-edd6-4df1-b264-2b6e2a9cbf05\")) {                    Plotly.newPlot(                        \"e99f9605-edd6-4df1-b264-2b6e2a9cbf05\",                        [{\"marker\":{\"color\":\"Red\"},\"name\":\"Fraud Detection - data unbalance (Not fraud = 0, Fraud = 1)\",\"text\":[127927.0,7566.0],\"x\":[0.0,1.0],\"y\":[127927,7566],\"type\":\"bar\"}],                        {\"hovermode\":\"closest\",\"template\":{\"data\":{\"barpolar\":[{\"marker\":{\"line\":{\"color\":\"#E5ECF6\",\"width\":0.5},\"pattern\":{\"fillmode\":\"overlay\",\"size\":10,\"solidity\":0.2}},\"type\":\"barpolar\"}],\"bar\":[{\"error_x\":{\"color\":\"#2a3f5f\"},\"error_y\":{\"color\":\"#2a3f5f\"},\"marker\":{\"line\":{\"color\":\"#E5ECF6\",\"width\":0.5},\"pattern\":{\"fillmode\":\"overlay\",\"size\":10,\"solidity\":0.2}},\"type\":\"bar\"}],\"carpet\":[{\"aaxis\":{\"endlinecolor\":\"#2a3f5f\",\"gridcolor\":\"white\",\"linecolor\":\"white\",\"minorgridcolor\":\"white\",\"startlinecolor\":\"#2a3f5f\"},\"baxis\":{\"endlinecolor\":\"#2a3f5f\",\"gridcolor\":\"white\",\"linecolor\":\"white\",\"minorgridcolor\":\"white\",\"startlinecolor\":\"#2a3f5f\"},\"type\":\"carpet\"}],\"choropleth\":[{\"colorbar\":{\"outlinewidth\":0,\"ticks\":\"\"},\"type\":\"choropleth\"}],\"contourcarpet\":[{\"colorbar\":{\"outlinewidth\":0,\"ticks\":\"\"},\"type\":\"contourcarpet\"}],\"contour\":[{\"colorbar\":{\"outlinewidth\":0,\"ticks\":\"\"},\"colorscale\":[[0.0,\"#0d0887\"],[0.1111111111111111,\"#46039f\"],[0.2222222222222222,\"#7201a8\"],[0.3333333333333333,\"#9c179e\"],[0.4444444444444444,\"#bd3786\"],[0.5555555555555556,\"#d8576b\"],[0.6666666666666666,\"#ed7953\"],[0.7777777777777778,\"#fb9f3a\"],[0.8888888888888888,\"#fdca26\"],[1.0,\"#f0f921\"]],\"type\":\"contour\"}],\"heatmapgl\":[{\"colorbar\":{\"outlinewidth\":0,\"ticks\":\"\"},\"colorscale\":[[0.0,\"#0d0887\"],[0.1111111111111111,\"#46039f\"],[0.2222222222222222,\"#7201a8\"],[0.3333333333333333,\"#9c179e\"],[0.4444444444444444,\"#bd3786\"],[0.5555555555555556,\"#d8576b\"],[0.6666666666666666,\"#ed7953\"],[0.7777777777777778,\"#fb9f3a\"],[0.8888888888888888,\"#fdca26\"],[1.0,\"#f0f921\"]],\"type\":\"heatmapgl\"}],\"heatmap\":[{\"colorbar\":{\"outlinewidth\":0,\"ticks\":\"\"},\"colorscale\":[[0.0,\"#0d0887\"],[0.1111111111111111,\"#46039f\"],[0.2222222222222222,\"#7201a8\"],[0.3333333333333333,\"#9c179e\"],[0.4444444444444444,\"#bd3786\"],[0.5555555555555556,\"#d8576b\"],[0.6666666666666666,\"#ed7953\"],[0.7777777777777778,\"#fb9f3a\"],[0.8888888888888888,\"#fdca26\"],[1.0,\"#f0f921\"]],\"type\":\"heatmap\"}],\"histogram2dcontour\":[{\"colorbar\":{\"outlinewidth\":0,\"ticks\":\"\"},\"colorscale\":[[0.0,\"#0d0887\"],[0.1111111111111111,\"#46039f\"],[0.2222222222222222,\"#7201a8\"],[0.3333333333333333,\"#9c179e\"],[0.4444444444444444,\"#bd3786\"],[0.5555555555555556,\"#d8576b\"],[0.6666666666666666,\"#ed7953\"],[0.7777777777777778,\"#fb9f3a\"],[0.8888888888888888,\"#fdca26\"],[1.0,\"#f0f921\"]],\"type\":\"histogram2dcontour\"}],\"histogram2d\":[{\"colorbar\":{\"outlinewidth\":0,\"ticks\":\"\"},\"colorscale\":[[0.0,\"#0d0887\"],[0.1111111111111111,\"#46039f\"],[0.2222222222222222,\"#7201a8\"],[0.3333333333333333,\"#9c179e\"],[0.4444444444444444,\"#bd3786\"],[0.5555555555555556,\"#d8576b\"],[0.6666666666666666,\"#ed7953\"],[0.7777777777777778,\"#fb9f3a\"],[0.8888888888888888,\"#fdca26\"],[1.0,\"#f0f921\"]],\"type\":\"histogram2d\"}],\"histogram\":[{\"marker\":{\"pattern\":{\"fillmode\":\"overlay\",\"size\":10,\"solidity\":0.2}},\"type\":\"histogram\"}],\"mesh3d\":[{\"colorbar\":{\"outlinewidth\":0,\"ticks\":\"\"},\"type\":\"mesh3d\"}],\"parcoords\":[{\"line\":{\"colorbar\":{\"outlinewidth\":0,\"ticks\":\"\"}},\"type\":\"parcoords\"}],\"pie\":[{\"automargin\":true,\"type\":\"pie\"}],\"scatter3d\":[{\"line\":{\"colorbar\":{\"outlinewidth\":0,\"ticks\":\"\"}},\"marker\":{\"colorbar\":{\"outlinewidth\":0,\"ticks\":\"\"}},\"type\":\"scatter3d\"}],\"scattercarpet\":[{\"marker\":{\"colorbar\":{\"outlinewidth\":0,\"ticks\":\"\"}},\"type\":\"scattercarpet\"}],\"scattergeo\":[{\"marker\":{\"colorbar\":{\"outlinewidth\":0,\"ticks\":\"\"}},\"type\":\"scattergeo\"}],\"scattergl\":[{\"marker\":{\"colorbar\":{\"outlinewidth\":0,\"ticks\":\"\"}},\"type\":\"scattergl\"}],\"scattermapbox\":[{\"marker\":{\"colorbar\":{\"outlinewidth\":0,\"ticks\":\"\"}},\"type\":\"scattermapbox\"}],\"scatterpolargl\":[{\"marker\":{\"colorbar\":{\"outlinewidth\":0,\"ticks\":\"\"}},\"type\":\"scatterpolargl\"}],\"scatterpolar\":[{\"marker\":{\"colorbar\":{\"outlinewidth\":0,\"ticks\":\"\"}},\"type\":\"scatterpolar\"}],\"scatter\":[{\"fillpattern\":{\"fillmode\":\"overlay\",\"size\":10,\"solidity\":0.2},\"type\":\"scatter\"}],\"scatterternary\":[{\"marker\":{\"colorbar\":{\"outlinewidth\":0,\"ticks\":\"\"}},\"type\":\"scatterternary\"}],\"surface\":[{\"colorbar\":{\"outlinewidth\":0,\"ticks\":\"\"},\"colorscale\":[[0.0,\"#0d0887\"],[0.1111111111111111,\"#46039f\"],[0.2222222222222222,\"#7201a8\"],[0.3333333333333333,\"#9c179e\"],[0.4444444444444444,\"#bd3786\"],[0.5555555555555556,\"#d8576b\"],[0.6666666666666666,\"#ed7953\"],[0.7777777777777778,\"#fb9f3a\"],[0.8888888888888888,\"#fdca26\"],[1.0,\"#f0f921\"]],\"type\":\"surface\"}],\"table\":[{\"cells\":{\"fill\":{\"color\":\"#EBF0F8\"},\"line\":{\"color\":\"white\"}},\"header\":{\"fill\":{\"color\":\"#C8D4E3\"},\"line\":{\"color\":\"white\"}},\"type\":\"table\"}]},\"layout\":{\"annotationdefaults\":{\"arrowcolor\":\"#2a3f5f\",\"arrowhead\":0,\"arrowwidth\":1},\"autotypenumbers\":\"strict\",\"coloraxis\":{\"colorbar\":{\"outlinewidth\":0,\"ticks\":\"\"}},\"colorscale\":{\"diverging\":[[0,\"#8e0152\"],[0.1,\"#c51b7d\"],[0.2,\"#de77ae\"],[0.3,\"#f1b6da\"],[0.4,\"#fde0ef\"],[0.5,\"#f7f7f7\"],[0.6,\"#e6f5d0\"],[0.7,\"#b8e186\"],[0.8,\"#7fbc41\"],[0.9,\"#4d9221\"],[1,\"#276419\"]],\"sequential\":[[0.0,\"#0d0887\"],[0.1111111111111111,\"#46039f\"],[0.2222222222222222,\"#7201a8\"],[0.3333333333333333,\"#9c179e\"],[0.4444444444444444,\"#bd3786\"],[0.5555555555555556,\"#d8576b\"],[0.6666666666666666,\"#ed7953\"],[0.7777777777777778,\"#fb9f3a\"],[0.8888888888888888,\"#fdca26\"],[1.0,\"#f0f921\"]],\"sequentialminus\":[[0.0,\"#0d0887\"],[0.1111111111111111,\"#46039f\"],[0.2222222222222222,\"#7201a8\"],[0.3333333333333333,\"#9c179e\"],[0.4444444444444444,\"#bd3786\"],[0.5555555555555556,\"#d8576b\"],[0.6666666666666666,\"#ed7953\"],[0.7777777777777778,\"#fb9f3a\"],[0.8888888888888888,\"#fdca26\"],[1.0,\"#f0f921\"]]},\"colorway\":[\"#636efa\",\"#EF553B\",\"#00cc96\",\"#ab63fa\",\"#FFA15A\",\"#19d3f3\",\"#FF6692\",\"#B6E880\",\"#FF97FF\",\"#FECB52\"],\"font\":{\"color\":\"#2a3f5f\"},\"geo\":{\"bgcolor\":\"white\",\"lakecolor\":\"white\",\"landcolor\":\"#E5ECF6\",\"showlakes\":true,\"showland\":true,\"subunitcolor\":\"white\"},\"hoverlabel\":{\"align\":\"left\"},\"hovermode\":\"closest\",\"mapbox\":{\"style\":\"light\"},\"paper_bgcolor\":\"white\",\"plot_bgcolor\":\"#E5ECF6\",\"polar\":{\"angularaxis\":{\"gridcolor\":\"white\",\"linecolor\":\"white\",\"ticks\":\"\"},\"bgcolor\":\"#E5ECF6\",\"radialaxis\":{\"gridcolor\":\"white\",\"linecolor\":\"white\",\"ticks\":\"\"}},\"scene\":{\"xaxis\":{\"backgroundcolor\":\"#E5ECF6\",\"gridcolor\":\"white\",\"gridwidth\":2,\"linecolor\":\"white\",\"showbackground\":true,\"ticks\":\"\",\"zerolinecolor\":\"white\"},\"yaxis\":{\"backgroundcolor\":\"#E5ECF6\",\"gridcolor\":\"white\",\"gridwidth\":2,\"linecolor\":\"white\",\"showbackground\":true,\"ticks\":\"\",\"zerolinecolor\":\"white\"},\"zaxis\":{\"backgroundcolor\":\"#E5ECF6\",\"gridcolor\":\"white\",\"gridwidth\":2,\"linecolor\":\"white\",\"showbackground\":true,\"ticks\":\"\",\"zerolinecolor\":\"white\"}},\"shapedefaults\":{\"line\":{\"color\":\"#2a3f5f\"}},\"ternary\":{\"aaxis\":{\"gridcolor\":\"white\",\"linecolor\":\"white\",\"ticks\":\"\"},\"baxis\":{\"gridcolor\":\"white\",\"linecolor\":\"white\",\"ticks\":\"\"},\"bgcolor\":\"#E5ECF6\",\"caxis\":{\"gridcolor\":\"white\",\"linecolor\":\"white\",\"ticks\":\"\"}},\"title\":{\"x\":0.05},\"xaxis\":{\"automargin\":true,\"gridcolor\":\"white\",\"linecolor\":\"white\",\"ticks\":\"\",\"title\":{\"standoff\":15},\"zerolinecolor\":\"white\",\"zerolinewidth\":2},\"yaxis\":{\"automargin\":true,\"gridcolor\":\"white\",\"linecolor\":\"white\",\"ticks\":\"\",\"title\":{\"standoff\":15},\"zerolinecolor\":\"white\",\"zerolinewidth\":2}}},\"title\":{\"text\":\"Fraud Detection - data unbalance (Not fraud = 0, Fraud = 1)\"},\"width\":600,\"xaxis\":{\"showticklabels\":true,\"title\":{\"text\":\"target\"}},\"yaxis\":{\"title\":{\"text\":\"Number of transactions\"}}},                        {\"responsive\": true}                    ).then(function(){\n",
       "                            \n",
       "var gd = document.getElementById('e99f9605-edd6-4df1-b264-2b6e2a9cbf05');\n",
       "var x = new MutationObserver(function (mutations, observer) {{\n",
       "        var display = window.getComputedStyle(gd).display;\n",
       "        if (!display || display === 'none') {{\n",
       "            console.log([gd, 'removed!']);\n",
       "            Plotly.purge(gd);\n",
       "            observer.disconnect();\n",
       "        }}\n",
       "}});\n",
       "\n",
       "// Listen for the removal of the full notebook cells\n",
       "var notebookContainer = gd.closest('#notebook-container');\n",
       "if (notebookContainer) {{\n",
       "    x.observe(notebookContainer, {childList: true});\n",
       "}}\n",
       "\n",
       "// Listen for the clearing of the current output cell\n",
       "var outputEl = gd.closest('.output');\n",
       "if (outputEl) {{\n",
       "    x.observe(outputEl, {childList: true});\n",
       "}}\n",
       "\n",
       "                        })                };                });            </script>        </div>"
      ]
     },
     "metadata": {},
     "output_type": "display_data"
    }
   ],
   "source": [
    "temp = client_train[\"target\"].value_counts()\n",
    "df = pd.DataFrame({'target': temp.index,'values': temp.values})\n",
    "\n",
    "trace = go.Bar(\n",
    "    x = df['target'],y = df['values'],\n",
    "    name=\"Fraud Detection - data unbalance (Not fraud = 0, Fraud = 1)\",\n",
    "    marker=dict(color=\"Red\"),\n",
    "    text=df['values']\n",
    ")\n",
    "data = [trace]\n",
    "layout = dict(title = 'Fraud Detection - data unbalance (Not fraud = 0, Fraud = 1)',\n",
    "          xaxis = dict(title = 'target', showticklabels=True), \n",
    "          yaxis = dict(title = 'Number of transactions'),\n",
    "          hovermode = 'closest',width=600\n",
    "         )\n",
    "fig = dict(data=data, layout=layout)\n",
    "iplot(fig, filename='target')"
   ]
  },
  {
   "cell_type": "code",
   "execution_count": 21,
   "id": "c4a96659",
   "metadata": {},
   "outputs": [
    {
     "data": {
      "application/vnd.plotly.v1+json": {
       "config": {
        "linkText": "Export to plot.ly",
        "plotlyServerURL": "https://plot.ly",
        "showLink": false
       },
       "data": [
        {
         "legendgroup": "Not Fraud",
         "marker": {
          "color": "rgb(31, 119, 180)"
         },
         "mode": "lines",
         "name": "Not Fraud",
         "showlegend": true,
         "type": "scatter",
         "x": [
          60,
          60.018,
          60.036,
          60.054,
          60.072,
          60.09,
          60.108,
          60.126,
          60.144,
          60.162,
          60.18,
          60.198,
          60.216,
          60.234,
          60.252,
          60.27,
          60.288,
          60.306,
          60.324,
          60.342,
          60.36,
          60.378,
          60.396,
          60.414,
          60.432,
          60.45,
          60.468,
          60.486,
          60.504,
          60.522,
          60.54,
          60.558,
          60.576,
          60.594,
          60.612,
          60.63,
          60.648,
          60.666,
          60.684,
          60.702,
          60.72,
          60.738,
          60.756,
          60.774,
          60.792,
          60.81,
          60.828,
          60.846,
          60.864,
          60.882,
          60.9,
          60.918,
          60.936,
          60.954,
          60.972,
          60.99,
          61.008,
          61.026,
          61.044,
          61.062,
          61.08,
          61.098,
          61.116,
          61.134,
          61.152,
          61.17,
          61.188,
          61.206,
          61.224,
          61.242,
          61.26,
          61.278,
          61.296,
          61.314,
          61.332,
          61.35,
          61.368,
          61.386,
          61.403999999999996,
          61.422,
          61.44,
          61.458,
          61.476,
          61.494,
          61.512,
          61.53,
          61.548,
          61.566,
          61.584,
          61.602,
          61.62,
          61.638,
          61.656,
          61.674,
          61.692,
          61.71,
          61.728,
          61.746,
          61.764,
          61.782,
          61.8,
          61.818,
          61.836,
          61.854,
          61.872,
          61.89,
          61.908,
          61.926,
          61.944,
          61.962,
          61.98,
          61.998,
          62.016,
          62.034,
          62.052,
          62.07,
          62.088,
          62.106,
          62.124,
          62.142,
          62.16,
          62.178,
          62.196,
          62.214,
          62.232,
          62.25,
          62.268,
          62.286,
          62.304,
          62.322,
          62.34,
          62.358,
          62.376,
          62.394,
          62.412,
          62.43,
          62.448,
          62.466,
          62.484,
          62.502,
          62.52,
          62.538,
          62.556,
          62.574,
          62.592,
          62.61,
          62.628,
          62.646,
          62.664,
          62.682,
          62.7,
          62.718,
          62.736,
          62.754,
          62.772,
          62.79,
          62.808,
          62.826,
          62.844,
          62.862,
          62.88,
          62.898,
          62.916,
          62.934,
          62.952,
          62.97,
          62.988,
          63.006,
          63.024,
          63.042,
          63.06,
          63.078,
          63.096000000000004,
          63.114,
          63.132,
          63.15,
          63.168,
          63.186,
          63.204,
          63.222,
          63.24,
          63.258,
          63.275999999999996,
          63.294,
          63.312,
          63.33,
          63.348,
          63.366,
          63.384,
          63.402,
          63.42,
          63.438,
          63.456,
          63.474000000000004,
          63.492,
          63.51,
          63.528,
          63.546,
          63.564,
          63.582,
          63.6,
          63.618,
          63.636,
          63.653999999999996,
          63.672,
          63.69,
          63.708,
          63.726,
          63.744,
          63.762,
          63.78,
          63.798,
          63.816,
          63.834,
          63.852,
          63.87,
          63.888,
          63.906,
          63.924,
          63.942,
          63.96,
          63.978,
          63.996,
          64.014,
          64.032,
          64.05,
          64.068,
          64.086,
          64.104,
          64.122,
          64.14,
          64.158,
          64.176,
          64.194,
          64.212,
          64.23,
          64.248,
          64.266,
          64.284,
          64.30199999999999,
          64.32,
          64.338,
          64.356,
          64.374,
          64.392,
          64.41,
          64.428,
          64.446,
          64.464,
          64.482,
          64.5,
          64.518,
          64.536,
          64.554,
          64.572,
          64.59,
          64.608,
          64.626,
          64.644,
          64.662,
          64.68,
          64.69800000000001,
          64.716,
          64.734,
          64.752,
          64.77,
          64.788,
          64.806,
          64.824,
          64.842,
          64.86,
          64.878,
          64.896,
          64.914,
          64.932,
          64.95,
          64.968,
          64.986,
          65.004,
          65.022,
          65.04,
          65.05799999999999,
          65.076,
          65.094,
          65.112,
          65.13,
          65.148,
          65.166,
          65.184,
          65.202,
          65.22,
          65.238,
          65.256,
          65.274,
          65.292,
          65.31,
          65.328,
          65.346,
          65.364,
          65.382,
          65.4,
          65.418,
          65.436,
          65.454,
          65.472,
          65.49,
          65.508,
          65.526,
          65.544,
          65.562,
          65.58,
          65.598,
          65.616,
          65.634,
          65.652,
          65.67,
          65.688,
          65.706,
          65.724,
          65.742,
          65.76,
          65.778,
          65.796,
          65.814,
          65.832,
          65.85,
          65.868,
          65.886,
          65.904,
          65.922,
          65.94,
          65.958,
          65.976,
          65.994,
          66.012,
          66.03,
          66.048,
          66.066,
          66.084,
          66.102,
          66.12,
          66.138,
          66.156,
          66.174,
          66.19200000000001,
          66.21,
          66.228,
          66.246,
          66.264,
          66.282,
          66.3,
          66.318,
          66.336,
          66.354,
          66.372,
          66.39,
          66.408,
          66.426,
          66.444,
          66.462,
          66.48,
          66.498,
          66.516,
          66.534,
          66.55199999999999,
          66.57,
          66.588,
          66.606,
          66.624,
          66.642,
          66.66,
          66.678,
          66.696,
          66.714,
          66.732,
          66.75,
          66.768,
          66.786,
          66.804,
          66.822,
          66.84,
          66.858,
          66.876,
          66.894,
          66.912,
          66.93,
          66.94800000000001,
          66.966,
          66.984,
          67.002,
          67.02,
          67.038,
          67.056,
          67.074,
          67.092,
          67.11,
          67.128,
          67.146,
          67.164,
          67.182,
          67.2,
          67.218,
          67.236,
          67.254,
          67.272,
          67.29,
          67.30799999999999,
          67.326,
          67.344,
          67.362,
          67.38,
          67.398,
          67.416,
          67.434,
          67.452,
          67.47,
          67.488,
          67.506,
          67.524,
          67.542,
          67.56,
          67.578,
          67.596,
          67.614,
          67.632,
          67.65,
          67.668,
          67.686,
          67.704,
          67.722,
          67.74,
          67.758,
          67.776,
          67.794,
          67.812,
          67.83,
          67.848,
          67.866,
          67.884,
          67.902,
          67.92,
          67.938,
          67.956,
          67.974,
          67.992,
          68.01,
          68.028,
          68.04599999999999,
          68.064,
          68.082,
          68.1,
          68.118,
          68.136,
          68.154,
          68.172,
          68.19,
          68.208,
          68.226,
          68.244,
          68.262,
          68.28,
          68.298,
          68.316,
          68.334,
          68.352,
          68.37,
          68.388,
          68.406,
          68.424,
          68.44200000000001,
          68.46000000000001,
          68.478,
          68.496,
          68.514,
          68.532,
          68.55,
          68.568,
          68.586,
          68.604,
          68.622,
          68.64,
          68.658,
          68.676,
          68.694,
          68.712,
          68.73,
          68.748,
          68.766,
          68.784,
          68.80199999999999,
          68.82,
          68.838,
          68.856,
          68.874,
          68.892,
          68.91,
          68.928,
          68.946,
          68.964,
          68.982
         ],
         "xaxis": "x",
         "y": [
          0.3014313049306699,
          0.30095003970252615,
          0.29951084876565803,
          0.29712747510887094,
          0.29382258074868695,
          0.2896273879966278,
          0.28458118841345603,
          0.2787307302589842,
          0.27212949778482604,
          0.2648368979079775,
          0.25691737155578487,
          0.24843944823386938,
          0.239474763179571,
          0.230097056707142,
          0.22038117515699662,
          0.21040209213767513,
          0.2002339676171943,
          0.1899492608795965,
          0.17961791150137074,
          0.16930660035742598,
          0.15907810033598235,
          0.14899072401156488,
          0.13909787300044654,
          0.12944769128930383,
          0.12008282243313578,
          0.11104026831742762,
          0.1023513451622428,
          0.0940417306907759,
          0.08613159490262728,
          0.0786358057149291,
          0.07156419986091012,
          0.0649219088888611,
          0.05870972983217134,
          0.05292453015936089,
          0.04755967688680749,
          0.04260548024991199,
          0.03804964302216809,
          0.033877707430518586,
          0.030073492577204167,
          0.02661951632204314,
          0.023497396661311083,
          0.020688228720447926,
          0.01817293453525707,
          0.015932583793944053,
          0.013948684631576102,
          0.01220344438728834,
          0.01068000094020995,
          0.00936262582252737,
          0.008236900757701159,
          0.007289869594195099,
          0.006510167793227538,
          0.005888131694519905,
          0.005415889731670877,
          0.0050874376075587275,
          0.004898699185573219,
          0.004847574513936217,
          0.004933975995992933,
          0.005159853263756942,
          0.005529206821624764,
          0.006048090020881486,
          0.006724598420036425,
          0.007568845099588448,
          0.008592920052028165,
          0.00981083137504935,
          0.011238425677383378,
          0.01289328487912453,
          0.01479459646725739,
          0.01696299426804745,
          0.019420366932960332,
          0.02218963161334563,
          0.02529447073000174,
          0.02875903032713914,
          0.03260757924043224,
          0.03686412919117401,
          0.0415520169449607,
          0.04669345081229325,
          0.052309025012020866,
          0.0584172067274028,
          0.06503380203372232,
          0.07217140822165655,
          0.07983886134633343,
          0.08804068904001185,
          0.0967765797124003,
          0.10604088014405243,
          0.11582213414820432,
          0.12610267535743744,
          0.1368582872642619,
          0.14805794336538727,
          0.15966363962390107,
          0.17163033042127143,
          0.18390597776405904,
          0.19643172172275278,
          0.20914217792478274,
          0.22196586548074587,
          0.23482576599480243,
          0.24764001138432212,
          0.2603226951887274,
          0.27278479892999874,
          0.2849352220463806,
          0.29668190097030595,
          0.3079330002211767,
          0.3185981559942596,
          0.3285897507117863,
          0.33782419547162124,
          0.34622319633605003,
          0.3537149799453272,
          0.36023545414547864,
          0.36572928005680344,
          0.3701508334582228,
          0.3734650352482172,
          0.3756480332999083,
          0.376687720911243,
          0.37658408041711433,
          0.37534934411069837,
          0.3730079684222205,
          0.36959642117244235,
          0.36516278554179693,
          0.3597661880709512,
          0.3534760615025058,
          0.3463712563218637,
          0.3385390176240306,
          0.33007384612432966,
          0.3210762638814355,
          0.3116515064604741,
          0.3019081639184818,
          0.29195679308851796,
          0.2819085232377605,
          0.2718736763304201,
          0.2619604218532727,
          0.25227348457987064,
          0.24291292181313212,
          0.23397298459047702,
          0.22554107523264097,
          0.21769681143146033,
          0.21051120494524567,
          0.20404596093823726,
          0.19835290207715145,
          0.19347351978528535,
          0.18943865347957978,
          0.1862682972911589,
          0.1839715325927706,
          0.18254658368035673,
          0.18198099311648888,
          0.1822519125433548,
          0.18332650412670287,
          0.18516244723708705,
          0.18770854439090487,
          0.19090541991188772,
          0.1946863041385254,
          0.19897789534584198,
          0.2037012907925765,
          0.20877297751150833,
          0.21410587261779604,
          0.219610402018606,
          0.2251956055618291,
          0.23077025581863275,
          0.23624397697046517,
          0.24152834966527834,
          0.24653798729173632,
          0.25119156892013567,
          0.2554128142310148,
          0.25913138611445374,
          0.26228370730465833,
          0.26481367842170944,
          0.26667328612857116,
          0.26782309176467284,
          0.26823259274535116,
          0.26788045120205967,
          0.2667545867159374,
          0.2648521325133844,
          0.26217925708178963,
          0.25875085575098566,
          0.2545901193042838,
          0.249727989060038,
          0.24420251002059823,
          0.2380580955754281,
          0.23134471882104274,
          0.22411704673269178,
          0.21643353422714018,
          0.20835549554254976,
          0.19994617029344314,
          0.19126980112378497,
          0.18239073901873118,
          0.17337259115102197,
          0.16427742460429906,
          0.15516503756480843,
          0.14609230757936567,
          0.13711262438627553,
          0.12827541262790815,
          0.11962574756137,
          0.1112040647419142,
          0.10304596261100413,
          0.09518209503306478,
          0.08763814914234182,
          0.0804349023935022,
          0.073588351510862,
          0.06710990508417958,
          0.06100663089535188,
          0.0552815486620017,
          0.04993395874281965,
          0.044959797445007346,
          0.04035200989557505,
          0.03610093193211803,
          0.032194673132975936,
          0.028619493883211722,
          0.02536017024749278,
          0.02240034134638166,
          0.019722834888770472,
          0.017309967464030015,
          0.01514381712137332,
          0.013206466640656339,
          0.011480216705007448,
          0.009947768915126075,
          0.00859237922231355,
          0.007397982899795961,
          0.006349292617027007,
          0.005431871529606899,
          0.004632183553011601,
          0.003937623156764082,
          0.003336527105287268,
          0.002818170590764173,
          0.002372750162269154,
          0.001991355763861599,
          0.0016659340623319512,
          0.0013892450828662172,
          0.001154813986602895,
          0.0009568796266661676,
          0.0007903413158608316,
          0.0006507050360666343,
          0.0005340301219719752,
          0.0004368772640953155,
          0.00035625850137181817,
          0.00028958971428474873,
          0.00023464598680832086,
          0.0001895200802374999,
          0.00015258415418198244,
          0.00012245477924845524,
          9.79612113553156e-05,
          7.811683802038466e-05,
          6.209366103217713e-05,
          4.9199646117385365e-05,
          3.885874703860035e-05,
          3.0593397449139284e-05,
          2.400925731296694e-05,
          1.8782000374399626e-05,
          1.4645933745039506e-05,
          1.1384249018278867e-05,
          8.820715406060068e-06,
          6.8126383466048906e-06,
          5.244921116410303e-06,
          4.025081591212709e-06,
          3.079090948841525e-06,
          2.34791541595052e-06,
          1.7846558459874255e-06,
          1.352192777563684e-06,
          1.021256529539255e-06,
          7.688527675480794e-07,
          5.769837992466577e-07,
          4.316146303846307e-07,
          3.218405763286322e-07,
          2.392200288386984e-07,
          1.7724189344868135e-07,
          1.3090231428546373e-07,
          9.636966957332973e-08,
          7.072053157733621e-08,
          5.173241636486302e-08,
          3.772177441201759e-08,
          2.741786060396358e-08,
          1.9864933520559468e-08,
          1.4346724850583283e-08,
          1.0328339946475086e-08,
          7.41174347619722e-09,
          5.3017877464943526e-09,
          3.780388171953992e-09,
          2.6869683794934277e-09,
          1.9037101128021154e-09,
          1.3444701969379464e-09,
          9.464847994603115e-10,
          6.641836934600874e-10,
          4.645953680106379e-10,
          3.239467622119861e-10,
          2.2515651240268618e-10,
          1.5599385246891548e-10,
          1.0773146252226084e-10,
          7.41634166306482e-11,
          5.0891939686350386e-11,
          3.4811311054363526e-11,
          2.373579909067065e-11,
          1.6132416875735916e-11,
          1.0929671677172286e-11,
          7.381198716427045e-12,
          4.9688831096798855e-12,
          3.3342853514314042e-12,
          2.2302772269525567e-12,
          1.487055017503975e-12,
          9.883421673612523e-13,
          6.54786496221323e-13,
          4.324184394442689e-13,
          2.8465629819242745e-13,
          1.8678822312893469e-13,
          1.2217723310517536e-13,
          7.96605282150982e-14,
          5.177357798025589e-14,
          3.354171606103122e-14,
          2.166079930184096e-14,
          1.394362774933399e-14,
          8.94724197540306e-15,
          5.722880626994161e-15,
          3.648818764679974e-15,
          2.319006679715174e-15,
          1.469142112574619e-15,
          9.277644291219472e-16,
          5.840146324305303e-16,
          3.6645600342376023e-16,
          2.2920920501949717e-16,
          1.4290728582426233e-16,
          8.881550518810628e-17,
          5.5021866314742987e-17,
          3.397769888533548e-17,
          2.0915331947135628e-17,
          1.283357963572778e-17,
          7.849525238279003e-18,
          4.785775496003063e-18,
          2.908552994648557e-18,
          1.7620744923986983e-18,
          1.0641777581162459e-18,
          6.407738035533389e-19,
          3.848257836394261e-19,
          2.307697463946566e-19,
          1.3862687078532096e-19,
          8.41824495401525e-20,
          5.2958394409699404e-20,
          3.65645675842803e-20,
          3.056140201052912e-20,
          3.3319863696937715e-20,
          4.5602368048447804e-20,
          7.07628919937266e-20,
          1.1561595739427747e-19,
          1.9218720087018741e-19,
          3.2077022955543116e-19,
          5.350232502157058e-19,
          8.903130081531658e-19,
          1.477256076403829e-18,
          2.44357731903433e-18,
          4.029248417127679e-18,
          6.622766840766012e-18,
          1.0850976842369482e-17,
          1.772192710317056e-17,
          2.885129928114482e-17,
          4.682006182390114e-17,
          7.573745670515202e-17,
          1.2212415224759635e-16,
          1.962928637965365e-16,
          3.1449921281405305e-16,
          5.022809604728056e-16,
          7.996242765691749e-16,
          1.2689290120872497e-15,
          2.007246847350549e-15,
          3.1650191591579143e-15,
          4.974666871372811e-15,
          7.794060364598824e-15,
          1.217238353547427e-14,
          1.894958015210364e-14,
          2.940598001383504e-14,
          4.5486636544540696e-14,
          7.013650052458367e-14,
          1.0779942949762804e-13,
          1.6515850133418863e-13,
          2.522304447438515e-13,
          3.8397785594422516e-13,
          5.826757639134442e-13,
          8.8137317924387e-13,
          1.3289382699461979e-12,
          1.9973854739175716e-12,
          2.9924786971983726e-12,
          4.469020523342997e-12,
          6.652819369684756e-12,
          9.872137973265066e-12,
          1.460255336779768e-11,
          2.1530716828119258e-11,
          3.1644648609439884e-11,
          4.636114647884263e-11,
          6.770490893262845e-11,
          9.85594453176306e-11,
          1.4301725705330127e-10,
          2.0686677285848216e-10,
          2.982669518027443e-10,
          4.2867843213304806e-10,
          6.141440275086434e-10,
          8.770430939590962e-10,
          1.2484861674027379e-09,
          1.7715713085880457e-09,
          2.5057956012791215e-09,
          3.533009037234118e-09,
          4.965419614725242e-09,
          6.956315387799821e-09,
          9.71437073763143e-09,
          1.352266175150477e-08,
          1.876384330219865e-08,
          2.5953355245121963e-08,
          3.578304763000446e-08,
          4.9178269553232616e-08,
          6.737228248468527e-08,
          9.200287104089077e-08,
          1.2523727250301108e-07,
          1.6993307750777603e-07,
          2.2984462170615814e-07,
          3.098866523619848e-07,
          4.1646978275103095e-07,
          5.579255158195987e-07,
          7.450425085705219e-07,
          9.917403473809513e-07,
          1.315912503358953e-06,
          1.7404764290662113e-06,
          2.2946760353138026e-06,
          3.015690135396215e-06,
          3.950609939278021e-06,
          5.158859379758891e-06,
          6.715143988009698e-06,
          8.71302720496733e-06,
          1.1269247368029165e-05,
          1.4528904042253695e-05,
          1.867165869335154e-05,
          2.391911165843586e-05,
          3.0543534594707175e-05,
          3.88781545888276e-05,
          4.9329202276613985e-05,
          6.238995088878526e-05,
          7.865698519272791e-05,
          9.884894775360884e-05,
          0.00012382801355652294,
          0.00015462434139846708,
          0.00019246374003897157,
          0.00023879876718981577,
          0.00029534344829438213,
          0.0003641117578459359,
          0.0004474599469605145,
          0.000548132725310806,
          0.0006693132118523431,
          0.0008146764557237844,
          0.0009884461954991208,
          0.0011954543711660721,
          0.0014412027292250507,
          0.0017319256681046663,
          0.002074653260760879,
          0.002477273166864292,
          0.0029485899124247214,
          0.00349837977558654,
          0.004137439279958446,
          0.004877625069392607,
          0.0057318827291256095,
          0.006714261937960185,
          0.007839915195857397,
          0.00912507728153372,
          0.010587022568466838,
          0.012243997375628448,
          0.014115124663461738,
          0.01622027861509581,
          0.018579926976919677,
          0.021214939476811162,
          0.024146361196709605,
          0.027395150447429194,
          0.030981881475805474,
          0.034926413217229876,
          0.03924752627809327,
          0.04396253137739825,
          0.049086853566712815,
          0.05463359766438022,
          0.060613101441169666,
          0.06703248416037966,
          0.07389519904992702,
          0.08120059914937262,
          0.08894352667079715,
          0.09711393652023058,
          0.1056965648917922,
          0.11467065385820908,
          0.12400974258935389,
          0.13368153524429904,
          0.1436478546625812,
          0.153864689753481,
          0.16428234293740768,
          0.17484568216591523,
          0.1854944999597412,
          0.19616397961339047,
          0.20678526624574145,
          0.21728613784306985,
          0.22759176883767693,
          0.23762557625063346,
          0.24731013600740281,
          0.2565681548250374,
          0.26532348114812665,
          0.27350213700387777,
          0.2810333514855731,
          0.2878505758284856,
          0.2938924598258686,
          0.2991037696031702,
          0.3034362275840785,
          0.30684925680099717,
          0.3093106135081669,
          0.31079689430292595
         ],
         "yaxis": "y"
        },
        {
         "legendgroup": "Fraud",
         "marker": {
          "color": "rgb(255, 127, 14)"
         },
         "mode": "lines",
         "name": "Fraud",
         "showlegend": true,
         "type": "scatter",
         "x": [
          60,
          60.018,
          60.036,
          60.054,
          60.072,
          60.09,
          60.108,
          60.126,
          60.144,
          60.162,
          60.18,
          60.198,
          60.216,
          60.234,
          60.252,
          60.27,
          60.288,
          60.306,
          60.324,
          60.342,
          60.36,
          60.378,
          60.396,
          60.414,
          60.432,
          60.45,
          60.468,
          60.486,
          60.504,
          60.522,
          60.54,
          60.558,
          60.576,
          60.594,
          60.612,
          60.63,
          60.648,
          60.666,
          60.684,
          60.702,
          60.72,
          60.738,
          60.756,
          60.774,
          60.792,
          60.81,
          60.828,
          60.846,
          60.864,
          60.882,
          60.9,
          60.918,
          60.936,
          60.954,
          60.972,
          60.99,
          61.008,
          61.026,
          61.044,
          61.062,
          61.08,
          61.098,
          61.116,
          61.134,
          61.152,
          61.17,
          61.188,
          61.206,
          61.224,
          61.242,
          61.26,
          61.278,
          61.296,
          61.314,
          61.332,
          61.35,
          61.368,
          61.386,
          61.403999999999996,
          61.422,
          61.44,
          61.458,
          61.476,
          61.494,
          61.512,
          61.53,
          61.548,
          61.566,
          61.584,
          61.602,
          61.62,
          61.638,
          61.656,
          61.674,
          61.692,
          61.71,
          61.728,
          61.746,
          61.764,
          61.782,
          61.8,
          61.818,
          61.836,
          61.854,
          61.872,
          61.89,
          61.908,
          61.926,
          61.944,
          61.962,
          61.98,
          61.998,
          62.016,
          62.034,
          62.052,
          62.07,
          62.088,
          62.106,
          62.124,
          62.142,
          62.16,
          62.178,
          62.196,
          62.214,
          62.232,
          62.25,
          62.268,
          62.286,
          62.304,
          62.322,
          62.34,
          62.358,
          62.376,
          62.394,
          62.412,
          62.43,
          62.448,
          62.466,
          62.484,
          62.502,
          62.52,
          62.538,
          62.556,
          62.574,
          62.592,
          62.61,
          62.628,
          62.646,
          62.664,
          62.682,
          62.7,
          62.718,
          62.736,
          62.754,
          62.772,
          62.79,
          62.808,
          62.826,
          62.844,
          62.862,
          62.88,
          62.898,
          62.916,
          62.934,
          62.952,
          62.97,
          62.988,
          63.006,
          63.024,
          63.042,
          63.06,
          63.078,
          63.096000000000004,
          63.114,
          63.132,
          63.15,
          63.168,
          63.186,
          63.204,
          63.222,
          63.24,
          63.258,
          63.275999999999996,
          63.294,
          63.312,
          63.33,
          63.348,
          63.366,
          63.384,
          63.402,
          63.42,
          63.438,
          63.456,
          63.474000000000004,
          63.492,
          63.51,
          63.528,
          63.546,
          63.564,
          63.582,
          63.6,
          63.618,
          63.636,
          63.653999999999996,
          63.672,
          63.69,
          63.708,
          63.726,
          63.744,
          63.762,
          63.78,
          63.798,
          63.816,
          63.834,
          63.852,
          63.87,
          63.888,
          63.906,
          63.924,
          63.942,
          63.96,
          63.978,
          63.996,
          64.014,
          64.032,
          64.05,
          64.068,
          64.086,
          64.104,
          64.122,
          64.14,
          64.158,
          64.176,
          64.194,
          64.212,
          64.23,
          64.248,
          64.266,
          64.284,
          64.30199999999999,
          64.32,
          64.338,
          64.356,
          64.374,
          64.392,
          64.41,
          64.428,
          64.446,
          64.464,
          64.482,
          64.5,
          64.518,
          64.536,
          64.554,
          64.572,
          64.59,
          64.608,
          64.626,
          64.644,
          64.662,
          64.68,
          64.69800000000001,
          64.716,
          64.734,
          64.752,
          64.77,
          64.788,
          64.806,
          64.824,
          64.842,
          64.86,
          64.878,
          64.896,
          64.914,
          64.932,
          64.95,
          64.968,
          64.986,
          65.004,
          65.022,
          65.04,
          65.05799999999999,
          65.076,
          65.094,
          65.112,
          65.13,
          65.148,
          65.166,
          65.184,
          65.202,
          65.22,
          65.238,
          65.256,
          65.274,
          65.292,
          65.31,
          65.328,
          65.346,
          65.364,
          65.382,
          65.4,
          65.418,
          65.436,
          65.454,
          65.472,
          65.49,
          65.508,
          65.526,
          65.544,
          65.562,
          65.58,
          65.598,
          65.616,
          65.634,
          65.652,
          65.67,
          65.688,
          65.706,
          65.724,
          65.742,
          65.76,
          65.778,
          65.796,
          65.814,
          65.832,
          65.85,
          65.868,
          65.886,
          65.904,
          65.922,
          65.94,
          65.958,
          65.976,
          65.994,
          66.012,
          66.03,
          66.048,
          66.066,
          66.084,
          66.102,
          66.12,
          66.138,
          66.156,
          66.174,
          66.19200000000001,
          66.21,
          66.228,
          66.246,
          66.264,
          66.282,
          66.3,
          66.318,
          66.336,
          66.354,
          66.372,
          66.39,
          66.408,
          66.426,
          66.444,
          66.462,
          66.48,
          66.498,
          66.516,
          66.534,
          66.55199999999999,
          66.57,
          66.588,
          66.606,
          66.624,
          66.642,
          66.66,
          66.678,
          66.696,
          66.714,
          66.732,
          66.75,
          66.768,
          66.786,
          66.804,
          66.822,
          66.84,
          66.858,
          66.876,
          66.894,
          66.912,
          66.93,
          66.94800000000001,
          66.966,
          66.984,
          67.002,
          67.02,
          67.038,
          67.056,
          67.074,
          67.092,
          67.11,
          67.128,
          67.146,
          67.164,
          67.182,
          67.2,
          67.218,
          67.236,
          67.254,
          67.272,
          67.29,
          67.30799999999999,
          67.326,
          67.344,
          67.362,
          67.38,
          67.398,
          67.416,
          67.434,
          67.452,
          67.47,
          67.488,
          67.506,
          67.524,
          67.542,
          67.56,
          67.578,
          67.596,
          67.614,
          67.632,
          67.65,
          67.668,
          67.686,
          67.704,
          67.722,
          67.74,
          67.758,
          67.776,
          67.794,
          67.812,
          67.83,
          67.848,
          67.866,
          67.884,
          67.902,
          67.92,
          67.938,
          67.956,
          67.974,
          67.992,
          68.01,
          68.028,
          68.04599999999999,
          68.064,
          68.082,
          68.1,
          68.118,
          68.136,
          68.154,
          68.172,
          68.19,
          68.208,
          68.226,
          68.244,
          68.262,
          68.28,
          68.298,
          68.316,
          68.334,
          68.352,
          68.37,
          68.388,
          68.406,
          68.424,
          68.44200000000001,
          68.46000000000001,
          68.478,
          68.496,
          68.514,
          68.532,
          68.55,
          68.568,
          68.586,
          68.604,
          68.622,
          68.64,
          68.658,
          68.676,
          68.694,
          68.712,
          68.73,
          68.748,
          68.766,
          68.784,
          68.80199999999999,
          68.82,
          68.838,
          68.856,
          68.874,
          68.892,
          68.91,
          68.928,
          68.946,
          68.964,
          68.982
         ],
         "xaxis": "x",
         "y": [
          0.10527068994896736,
          0.1052720101857294,
          0.10517659184824445,
          0.10498537805802802,
          0.10469964592337606,
          0.10432100490747248,
          0.10385139380099147,
          0.10329307632366592,
          0.1026486353874085,
          0.10192096606085213,
          0.10111326728337618,
          0.10022903238212312,
          0.09927203845283752,
          0.09824633466970177,
          0.09715622959505087,
          0.09600627756322555,
          0.0948012642162684,
          0.09354619127181613,
          0.09224626060542274,
          0.09090685772991028,
          0.08953353475550527,
          0.08813199291322438,
          0.08670806472336628,
          0.0852676958887983,
          0.08381692699048042,
          0.08236187505959025,
          0.08090871509707649,
          0.0794636616077792,
          0.07803295021161757,
          0.07662281939006828,
          0.07523949242130112,
          0.07388915955231579,
          0.0725779604516627,
          0.07131196698110448,
          0.07009716632012468,
          0.06893944447203113,
          0.06784457017648025,
          0.06681817924864943,
          0.06586575936187136,
          0.06499263528711338,
          0.06420395459969716,
          0.06350467386136315,
          0.06289954528411311,
          0.062393103880500546,
          0.061989655104998286,
          0.061693262990201406,
          0.06150773878252882,
          0.06143663008280312,
          0.06148321049846276,
          0.06165046981622769,
          0.06194110470625369,
          0.06235750997153474,
          0.06290177035942,
          0.06357565295502494,
          0.06438060018035152,
          0.06531772342565517,
          0.06638779734383621,
          0.06759125484145444,
          0.06892818280361847,
          0.07039831859274973,
          0.07200104736400856,
          0.07373540024221496,
          0.07560005340687699,
          0.07759332813314077,
          0.07971319183655382,
          0.08195726016975127,
          0.08432280021753295,
          0.08680673483535763,
          0.08940564817334823,
          0.09211579242396331,
          0.09493309582760141,
          0.09785317196412704,
          0.10087133035266935,
          0.1039825883743832,
          0.10718168452508003,
          0.11046309299570282,
          0.11382103956914032,
          0.11724951881186117,
          0.12074231252803884,
          0.12429300943276975,
          0.12789502598956365,
          0.13154162834587318,
          0.13522595528808418,
          0.13894104212660377,
          0.14267984540951395,
          0.14643526835246862,
          0.1502001868617829,
          0.15396747601758345,
          0.1577300368748609,
          0.16148082343167863,
          0.1652128696063358,
          0.16891931605982868,
          0.17259343669406124,
          0.17622866465376108,
          0.1798186176570428,
          0.18335712248029154,
          0.18683823842255767,
          0.19025627957941968,
          0.19360583575867032,
          0.19688179187800262,
          0.20007934569202823,
          0.20319402370515868,
          0.20622169513864558,
          0.20915858383247016,
          0.21200127797652718,
          0.2147467375814648,
          0.2173922996162018,
          0.21993568075622782,
          0.22237497770633086,
          0.2247086650801632,
          0.226935590839588,
          0.22905496931635047,
          0.23106637185989543,
          0.2329697151755281,
          0.23476524743702917,
          0.23645353227772978,
          0.23803543078410103,
          0.23951208163272059,
          0.24088487952990725,
          0.24215545212920225,
          0.243325635615382,
          0.2443974491582644,
          0.2453730684491678,
          0.24625479854357002,
          0.24704504623953052,
          0.2477462922273833,
          0.24836106324954046,
          0.24889190450853632,
          0.24934135256186868,
          0.24971190893684977,
          0.25000601469326783,
          0.25022602615430056,
          0.250374192013704,
          0.25045263201721585,
          0.2504633174004883,
          0.2504080532499094,
          0.2502884629355348,
          0.250105974745578,
          0.24986181083185105,
          0.2495569785542772,
          0.24919226428946797,
          0.24876822974644675,
          0.24828521080837912,
          0.24774331889690324,
          0.24714244483035258,
          0.24648226512665816,
          0.24576225067675303,
          0.2449816776944394,
          0.2441396408270557,
          0.2432350682920426,
          0.2422667388863293,
          0.24123330069943305,
          0.24013329134551942,
          0.23896515951743066,
          0.23772728765475995,
          0.2364180155087654,
          0.23503566438054815,
          0.2335785618046272,
          0.23204506644707082,
          0.23043359298819144,
          0.22874263676154633,
          0.22697079792479158,
          0.22511680494570357,
          0.22317953719359201,
          0.2211580464376502,
          0.21905157706540568,
          0.21685958484812767,
          0.21458175409537167,
          0.2122180130569054,
          0.20976854744800652,
          0.20723381199250007,
          0.2046145398970004,
          0.20191175018881222,
          0.19912675287121634,
          0.19626115186811666,
          0.19331684575145755,
          0.19029602626323333,
          0.18720117466344097,
          0.1840350559542841,
          0.18080071104702614,
          0.1775014469561396,
          0.17414082511996798,
          0.1707226479607842,
          0.16725094381170041,
          0.1637299503469489,
          0.1601640966640445,
          0.15655798417293798,
          0.15291636645500115,
          0.1492441282589893,
          0.14554626380469854,
          0.14182785456690547,
          0.1380940467119076,
          0.13435002835781434,
          0.13060100682668185,
          0.1268521860523855,
          0.12310874430187885,
          0.11937581236170604,
          0.11565845233227584,
          0.11196163716430858,
          0.10829023106166899,
          0.10464897086391672,
          0.10104244851105265,
          0.09747509468075087,
          0.09395116367622808,
          0.0904747196310946,
          0.08704962408392689,
          0.08367952496418012,
          0.08036784701738084,
          0.07711778368656663,
          0.07393229045432204,
          0.07081407963903893,
          0.0677656166279173,
          0.06478911751913476,
          0.061886548136250545,
          0.05905962436891912,
          0.05630981378613086,
          0.0536383384611169,
          0.05104617894057634,
          0.048534079285498494,
          0.04610255310633174,
          0.04375189051141287,
          0.0414821658848748,
          0.039293246408074724,
          0.037184801237502854,
          0.03515631125165835,
          0.03320707927973826,
          0.031336240726003446,
          0.029542774505319,
          0.027825514207734377,
          0.026183159412706884,
          0.024614287076914168,
          0.023117362923324655,
          0.021690752763323926,
          0.020332733688042285,
          0.01904150506978968,
          0.01781519931922257,
          0.016651892349003453,
          0.015549613699665324,
          0.014506356288552678,
          0.013520085747815276,
          0.012588749322376845,
          0.011710284303857761,
          0.010882625981053972,
          0.010103715092374023,
          0.009371504769854135,
          0.008683966968761819,
          0.008039098380563338,
          0.007434925830847187,
          0.00686951116709679,
          0.006340955644401929,
          0.005847403819960929,
          0.005387046969785108,
          0.004958126043245389,
          0.004558934173038122,
          0.004187818759792942,
          0.0038431831519418727,
          0.003523487942559112,
          0.003227251905747647,
          0.002953052595734918,
          0.0026995266322557094,
          0.0024653696959377586,
          0.0022493362573945026,
          0.0020502390635171886,
          0.0018669484040937268,
          0.001698391181365363,
          0.0015435498044837736,
          0.0014014609300935681,
          0.0012712140694016616,
          0.0011519500811769314,
          0.0010428595691291667,
          0.0009431812010761063,
          0.0008521999662339448,
          0.000769245385859665,
          0.0006936896913693893,
          0.0006249459829356503,
          0.0005624663804674027,
          0.0005057401777841589,
          0.00045429200973303775,
          0.0004076800409643321,
          0.00036549418408499503,
          0.0003273543539543805,
          0.0002929087639775427,
          0.00026183226939010466,
          0.00023382476171938493,
          0.0002086096178472067,
          0.00018593220639652634,
          0.00016555845351247928,
          0.00014727346951124855,
          0.00013088023732414376,
          0.00011619836317265452,
          0.00010306288946583213,
          9.132316951693653e-05,
          8.084180332803373e-05,
          7.149363338680744e-05,
          6.316479915711488e-05,
          5.57518487216968e-05,
          4.916090584861683e-05,
          4.330689060020629e-05,
          3.811279148225049e-05,
          3.350898703816882e-05,
          2.9432614726879343e-05,
          2.5826984880088576e-05,
          2.2641037513324697e-05,
          1.98288397623638e-05,
          1.7349121730759237e-05,
          1.516484856286621e-05,
          1.3242826597795595e-05,
          1.1553341511931056e-05,
          1.0069826418337053e-05,
          8.768557960096792e-06,
          7.628378508885304e-06,
          6.630442659339194e-06,
          5.757986292478099e-06,
          4.996116566608175e-06,
          4.331621280926745e-06,
          3.7527961445158307e-06,
          3.249288571022661e-06,
          2.8119567063132487e-06,
          2.432742482407769e-06,
          2.1045575755394966e-06,
          1.8211812289962644e-06,
          1.577168982199175e-06,
          1.3677714261170955e-06,
          1.188862181493143e-06,
          1.0368743704272042e-06,
          9.087449236422488e-07,
          8.018661352946282e-07,
          7.140439446178179e-07,
          6.43462489116183e-07,
          5.886545376540065e-07,
          5.484774738193932e-07,
          5.220945606084243e-07,
          5.089612770380971e-07,
          5.088165760257042e-07,
          5.216789710605124e-07,
          5.478474171428979e-07,
          5.87907009485027e-07,
          6.427395818762193e-07,
          7.135393457330291e-07,
          8.018337709960745e-07,
          9.095099715230593e-07,
          1.0388469207654102e-06,
          1.192553888604408e-06,
          1.3738155575435418e-06,
          1.5863443462847918e-06,
          1.8344405412771485e-06,
          2.123060912378707e-06,
          2.457896567435418e-06,
          2.84546088259287e-06,
          3.293188430531704e-06,
          3.8095459176833452e-06,
          4.404156233813446e-06,
          5.08793681308812e-06,
          5.87325360476442e-06,
          6.774092053727681e-06,
          7.806246595974964e-06,
          8.987530281409963e-06,
          1.0338006245479394e-05,
          1.1880242861687454e-05,
          1.3639594518056405e-05,
          1.5644510071440364e-05,
          1.792687114314225e-05,
          2.0522362526445696e-05,
          2.347087708022604e-05,
          2.6816957581121634e-05,
          3.0610278098507845e-05,
          3.49061675395253e-05,
          3.9766178084301556e-05,
          4.5258701291248115e-05,
          5.145963469772645e-05,
          5.845310176892538e-05,
          6.63322280553174e-05,
          7.51999764039091e-05,
          8.517004402696065e-05,
          9.636782416201448e-05,
          0.0001089314349537652,
          0.00012301281805083102,
          0.00013877890923256233,
          0.0001564128831612861,
          0.00017611547408927428,
          0.00019810637403430405,
          0.0002226257095687082,
          0.00024993559794183115,
          0.0002803217827719919,
          0.00031409534899606145,
          0.0003515945161537599,
          0.0003931865084040396,
          0.00043926949892148496,
          0.0004902746255035225,
          0.0005466680733244082,
          0.0006089532198135886,
          0.0006776728355981208,
          0.0007534113343466513,
          0.0008367970631805269,
          0.0009285046240785188,
          0.0010292572154072346,
          0.0011398289813539025,
          0.001261047355635699,
          0.001393795384419499,
          0.0015390140119041678,
          0.001697704310523663,
          0.0018709296362138766,
          0.002059817687682567,
          0.0022655624471241693,
          0.0024894259783610675,
          0.0027327400569789463,
          0.0029969076056726826,
          0.0032834039067609934,
          0.0035937775626555366,
          0.0039296511740515355,
          0.0042927217047107075,
          0.0046847605009889,
          0.005107612933740865,
          0.005563197629918394,
          0.006053505261112429,
          0.006580596856471353,
          0.007146601607902003,
          0.007753714136229505,
          0.008404191188096195,
          0.009100347734804764,
          0.009844552446122127,
          0.010639222514217953,
          0.011486817805463782,
          0.01238983432075406,
          0.013350796948384919,
          0.014372251497210263,
          0.015456756001964193,
          0.016606871297196058,
          0.017825150861088757,
          0.019114129935781553,
          0.020476313936404478,
          0.0219141661669477,
          0.023430094867343355,
          0.02502643962258945,
          0.02670545717146011,
          0.028469306659175214,
          0.030320034385345838,
          0.03225955810566014,
          0.03428965095263177,
          0.03641192504785486,
          0.038627814884958624,
          0.04093856056913204,
          0.04334519100543032,
          0.0458485071341156,
          0.048449065316848144,
          0.0511471609826787,
          0.053942812647287196,
          0.056835746422724424,
          0.059825381138256674,
          0.06291081419492967,
          0.06609080827841493,
          0.0693637790548136,
          0.07272778397413619,
          0.07618051230447058,
          0.07971927651752535,
          0.08334100514277619,
          0.08704223720258532,
          0.09081911833507887,
          0.09466739870463009,
          0.09858243279178076,
          0.10255918114536393,
          0.10659221416949126,
          0.11067571800678826,
          0.11480350256748088,
          0.1189690117405624,
          0.12316533580974941,
          0.12738522608259178,
          0.1316211117254123,
          0.13586511878213967,
          0.1401090913380797,
          0.144344614774438,
          0.1485630410424092,
          0.15275551586972458,
          0.15691300779666276,
          0.16102633892211235,
          0.1650862172259099,
          0.16908327031820888,
          0.17300808045352917,
          0.17685122063354458,
          0.18060329161135621,
          0.1842549595988666,
          0.1877969944700315,
          0.1912203082442206,
          0.19451599362812783,
          0.19767536238945974,
          0.20068998333277857,
          0.2035517196464524,
          0.20625276539014434,
          0.20878568089471064,
          0.2111434268500812,
          0.21331939686312057,
          0.21530744827499104,
          0.2171019310366612,
          0.21869771445326855,
          0.22009021161963666,
          0.22127540138448842,
          0.22224984769606507,
          0.2230107161988237,
          0.22355578796920955,
          0.22388347029723155
         ],
         "yaxis": "y"
        }
       ],
       "layout": {
        "barmode": "overlay",
        "hovermode": "closest",
        "legend": {
         "traceorder": "reversed"
        },
        "template": {
         "data": {
          "bar": [
           {
            "error_x": {
             "color": "#2a3f5f"
            },
            "error_y": {
             "color": "#2a3f5f"
            },
            "marker": {
             "line": {
              "color": "#E5ECF6",
              "width": 0.5
             },
             "pattern": {
              "fillmode": "overlay",
              "size": 10,
              "solidity": 0.2
             }
            },
            "type": "bar"
           }
          ],
          "barpolar": [
           {
            "marker": {
             "line": {
              "color": "#E5ECF6",
              "width": 0.5
             },
             "pattern": {
              "fillmode": "overlay",
              "size": 10,
              "solidity": 0.2
             }
            },
            "type": "barpolar"
           }
          ],
          "carpet": [
           {
            "aaxis": {
             "endlinecolor": "#2a3f5f",
             "gridcolor": "white",
             "linecolor": "white",
             "minorgridcolor": "white",
             "startlinecolor": "#2a3f5f"
            },
            "baxis": {
             "endlinecolor": "#2a3f5f",
             "gridcolor": "white",
             "linecolor": "white",
             "minorgridcolor": "white",
             "startlinecolor": "#2a3f5f"
            },
            "type": "carpet"
           }
          ],
          "choropleth": [
           {
            "colorbar": {
             "outlinewidth": 0,
             "ticks": ""
            },
            "type": "choropleth"
           }
          ],
          "contour": [
           {
            "colorbar": {
             "outlinewidth": 0,
             "ticks": ""
            },
            "colorscale": [
             [
              0,
              "#0d0887"
             ],
             [
              0.1111111111111111,
              "#46039f"
             ],
             [
              0.2222222222222222,
              "#7201a8"
             ],
             [
              0.3333333333333333,
              "#9c179e"
             ],
             [
              0.4444444444444444,
              "#bd3786"
             ],
             [
              0.5555555555555556,
              "#d8576b"
             ],
             [
              0.6666666666666666,
              "#ed7953"
             ],
             [
              0.7777777777777778,
              "#fb9f3a"
             ],
             [
              0.8888888888888888,
              "#fdca26"
             ],
             [
              1,
              "#f0f921"
             ]
            ],
            "type": "contour"
           }
          ],
          "contourcarpet": [
           {
            "colorbar": {
             "outlinewidth": 0,
             "ticks": ""
            },
            "type": "contourcarpet"
           }
          ],
          "heatmap": [
           {
            "colorbar": {
             "outlinewidth": 0,
             "ticks": ""
            },
            "colorscale": [
             [
              0,
              "#0d0887"
             ],
             [
              0.1111111111111111,
              "#46039f"
             ],
             [
              0.2222222222222222,
              "#7201a8"
             ],
             [
              0.3333333333333333,
              "#9c179e"
             ],
             [
              0.4444444444444444,
              "#bd3786"
             ],
             [
              0.5555555555555556,
              "#d8576b"
             ],
             [
              0.6666666666666666,
              "#ed7953"
             ],
             [
              0.7777777777777778,
              "#fb9f3a"
             ],
             [
              0.8888888888888888,
              "#fdca26"
             ],
             [
              1,
              "#f0f921"
             ]
            ],
            "type": "heatmap"
           }
          ],
          "heatmapgl": [
           {
            "colorbar": {
             "outlinewidth": 0,
             "ticks": ""
            },
            "colorscale": [
             [
              0,
              "#0d0887"
             ],
             [
              0.1111111111111111,
              "#46039f"
             ],
             [
              0.2222222222222222,
              "#7201a8"
             ],
             [
              0.3333333333333333,
              "#9c179e"
             ],
             [
              0.4444444444444444,
              "#bd3786"
             ],
             [
              0.5555555555555556,
              "#d8576b"
             ],
             [
              0.6666666666666666,
              "#ed7953"
             ],
             [
              0.7777777777777778,
              "#fb9f3a"
             ],
             [
              0.8888888888888888,
              "#fdca26"
             ],
             [
              1,
              "#f0f921"
             ]
            ],
            "type": "heatmapgl"
           }
          ],
          "histogram": [
           {
            "marker": {
             "pattern": {
              "fillmode": "overlay",
              "size": 10,
              "solidity": 0.2
             }
            },
            "type": "histogram"
           }
          ],
          "histogram2d": [
           {
            "colorbar": {
             "outlinewidth": 0,
             "ticks": ""
            },
            "colorscale": [
             [
              0,
              "#0d0887"
             ],
             [
              0.1111111111111111,
              "#46039f"
             ],
             [
              0.2222222222222222,
              "#7201a8"
             ],
             [
              0.3333333333333333,
              "#9c179e"
             ],
             [
              0.4444444444444444,
              "#bd3786"
             ],
             [
              0.5555555555555556,
              "#d8576b"
             ],
             [
              0.6666666666666666,
              "#ed7953"
             ],
             [
              0.7777777777777778,
              "#fb9f3a"
             ],
             [
              0.8888888888888888,
              "#fdca26"
             ],
             [
              1,
              "#f0f921"
             ]
            ],
            "type": "histogram2d"
           }
          ],
          "histogram2dcontour": [
           {
            "colorbar": {
             "outlinewidth": 0,
             "ticks": ""
            },
            "colorscale": [
             [
              0,
              "#0d0887"
             ],
             [
              0.1111111111111111,
              "#46039f"
             ],
             [
              0.2222222222222222,
              "#7201a8"
             ],
             [
              0.3333333333333333,
              "#9c179e"
             ],
             [
              0.4444444444444444,
              "#bd3786"
             ],
             [
              0.5555555555555556,
              "#d8576b"
             ],
             [
              0.6666666666666666,
              "#ed7953"
             ],
             [
              0.7777777777777778,
              "#fb9f3a"
             ],
             [
              0.8888888888888888,
              "#fdca26"
             ],
             [
              1,
              "#f0f921"
             ]
            ],
            "type": "histogram2dcontour"
           }
          ],
          "mesh3d": [
           {
            "colorbar": {
             "outlinewidth": 0,
             "ticks": ""
            },
            "type": "mesh3d"
           }
          ],
          "parcoords": [
           {
            "line": {
             "colorbar": {
              "outlinewidth": 0,
              "ticks": ""
             }
            },
            "type": "parcoords"
           }
          ],
          "pie": [
           {
            "automargin": true,
            "type": "pie"
           }
          ],
          "scatter": [
           {
            "fillpattern": {
             "fillmode": "overlay",
             "size": 10,
             "solidity": 0.2
            },
            "type": "scatter"
           }
          ],
          "scatter3d": [
           {
            "line": {
             "colorbar": {
              "outlinewidth": 0,
              "ticks": ""
             }
            },
            "marker": {
             "colorbar": {
              "outlinewidth": 0,
              "ticks": ""
             }
            },
            "type": "scatter3d"
           }
          ],
          "scattercarpet": [
           {
            "marker": {
             "colorbar": {
              "outlinewidth": 0,
              "ticks": ""
             }
            },
            "type": "scattercarpet"
           }
          ],
          "scattergeo": [
           {
            "marker": {
             "colorbar": {
              "outlinewidth": 0,
              "ticks": ""
             }
            },
            "type": "scattergeo"
           }
          ],
          "scattergl": [
           {
            "marker": {
             "colorbar": {
              "outlinewidth": 0,
              "ticks": ""
             }
            },
            "type": "scattergl"
           }
          ],
          "scattermapbox": [
           {
            "marker": {
             "colorbar": {
              "outlinewidth": 0,
              "ticks": ""
             }
            },
            "type": "scattermapbox"
           }
          ],
          "scatterpolar": [
           {
            "marker": {
             "colorbar": {
              "outlinewidth": 0,
              "ticks": ""
             }
            },
            "type": "scatterpolar"
           }
          ],
          "scatterpolargl": [
           {
            "marker": {
             "colorbar": {
              "outlinewidth": 0,
              "ticks": ""
             }
            },
            "type": "scatterpolargl"
           }
          ],
          "scatterternary": [
           {
            "marker": {
             "colorbar": {
              "outlinewidth": 0,
              "ticks": ""
             }
            },
            "type": "scatterternary"
           }
          ],
          "surface": [
           {
            "colorbar": {
             "outlinewidth": 0,
             "ticks": ""
            },
            "colorscale": [
             [
              0,
              "#0d0887"
             ],
             [
              0.1111111111111111,
              "#46039f"
             ],
             [
              0.2222222222222222,
              "#7201a8"
             ],
             [
              0.3333333333333333,
              "#9c179e"
             ],
             [
              0.4444444444444444,
              "#bd3786"
             ],
             [
              0.5555555555555556,
              "#d8576b"
             ],
             [
              0.6666666666666666,
              "#ed7953"
             ],
             [
              0.7777777777777778,
              "#fb9f3a"
             ],
             [
              0.8888888888888888,
              "#fdca26"
             ],
             [
              1,
              "#f0f921"
             ]
            ],
            "type": "surface"
           }
          ],
          "table": [
           {
            "cells": {
             "fill": {
              "color": "#EBF0F8"
             },
             "line": {
              "color": "white"
             }
            },
            "header": {
             "fill": {
              "color": "#C8D4E3"
             },
             "line": {
              "color": "white"
             }
            },
            "type": "table"
           }
          ]
         },
         "layout": {
          "annotationdefaults": {
           "arrowcolor": "#2a3f5f",
           "arrowhead": 0,
           "arrowwidth": 1
          },
          "autotypenumbers": "strict",
          "coloraxis": {
           "colorbar": {
            "outlinewidth": 0,
            "ticks": ""
           }
          },
          "colorscale": {
           "diverging": [
            [
             0,
             "#8e0152"
            ],
            [
             0.1,
             "#c51b7d"
            ],
            [
             0.2,
             "#de77ae"
            ],
            [
             0.3,
             "#f1b6da"
            ],
            [
             0.4,
             "#fde0ef"
            ],
            [
             0.5,
             "#f7f7f7"
            ],
            [
             0.6,
             "#e6f5d0"
            ],
            [
             0.7,
             "#b8e186"
            ],
            [
             0.8,
             "#7fbc41"
            ],
            [
             0.9,
             "#4d9221"
            ],
            [
             1,
             "#276419"
            ]
           ],
           "sequential": [
            [
             0,
             "#0d0887"
            ],
            [
             0.1111111111111111,
             "#46039f"
            ],
            [
             0.2222222222222222,
             "#7201a8"
            ],
            [
             0.3333333333333333,
             "#9c179e"
            ],
            [
             0.4444444444444444,
             "#bd3786"
            ],
            [
             0.5555555555555556,
             "#d8576b"
            ],
            [
             0.6666666666666666,
             "#ed7953"
            ],
            [
             0.7777777777777778,
             "#fb9f3a"
            ],
            [
             0.8888888888888888,
             "#fdca26"
            ],
            [
             1,
             "#f0f921"
            ]
           ],
           "sequentialminus": [
            [
             0,
             "#0d0887"
            ],
            [
             0.1111111111111111,
             "#46039f"
            ],
            [
             0.2222222222222222,
             "#7201a8"
            ],
            [
             0.3333333333333333,
             "#9c179e"
            ],
            [
             0.4444444444444444,
             "#bd3786"
            ],
            [
             0.5555555555555556,
             "#d8576b"
            ],
            [
             0.6666666666666666,
             "#ed7953"
            ],
            [
             0.7777777777777778,
             "#fb9f3a"
            ],
            [
             0.8888888888888888,
             "#fdca26"
            ],
            [
             1,
             "#f0f921"
            ]
           ]
          },
          "colorway": [
           "#636efa",
           "#EF553B",
           "#00cc96",
           "#ab63fa",
           "#FFA15A",
           "#19d3f3",
           "#FF6692",
           "#B6E880",
           "#FF97FF",
           "#FECB52"
          ],
          "font": {
           "color": "#2a3f5f"
          },
          "geo": {
           "bgcolor": "white",
           "lakecolor": "white",
           "landcolor": "#E5ECF6",
           "showlakes": true,
           "showland": true,
           "subunitcolor": "white"
          },
          "hoverlabel": {
           "align": "left"
          },
          "hovermode": "closest",
          "mapbox": {
           "style": "light"
          },
          "paper_bgcolor": "white",
          "plot_bgcolor": "#E5ECF6",
          "polar": {
           "angularaxis": {
            "gridcolor": "white",
            "linecolor": "white",
            "ticks": ""
           },
           "bgcolor": "#E5ECF6",
           "radialaxis": {
            "gridcolor": "white",
            "linecolor": "white",
            "ticks": ""
           }
          },
          "scene": {
           "xaxis": {
            "backgroundcolor": "#E5ECF6",
            "gridcolor": "white",
            "gridwidth": 2,
            "linecolor": "white",
            "showbackground": true,
            "ticks": "",
            "zerolinecolor": "white"
           },
           "yaxis": {
            "backgroundcolor": "#E5ECF6",
            "gridcolor": "white",
            "gridwidth": 2,
            "linecolor": "white",
            "showbackground": true,
            "ticks": "",
            "zerolinecolor": "white"
           },
           "zaxis": {
            "backgroundcolor": "#E5ECF6",
            "gridcolor": "white",
            "gridwidth": 2,
            "linecolor": "white",
            "showbackground": true,
            "ticks": "",
            "zerolinecolor": "white"
           }
          },
          "shapedefaults": {
           "line": {
            "color": "#2a3f5f"
           }
          },
          "ternary": {
           "aaxis": {
            "gridcolor": "white",
            "linecolor": "white",
            "ticks": ""
           },
           "baxis": {
            "gridcolor": "white",
            "linecolor": "white",
            "ticks": ""
           },
           "bgcolor": "#E5ECF6",
           "caxis": {
            "gridcolor": "white",
            "linecolor": "white",
            "ticks": ""
           }
          },
          "title": {
           "x": 0.05
          },
          "xaxis": {
           "automargin": true,
           "gridcolor": "white",
           "linecolor": "white",
           "ticks": "",
           "title": {
            "standoff": 15
           },
           "zerolinecolor": "white",
           "zerolinewidth": 2
          },
          "yaxis": {
           "automargin": true,
           "gridcolor": "white",
           "linecolor": "white",
           "ticks": "",
           "title": {
            "standoff": 15
           },
           "zerolinecolor": "white",
           "zerolinewidth": 2
          }
         }
        },
        "title": {
         "text": "Client District Density Plot"
        },
        "xaxis": {
         "anchor": "y2",
         "domain": [
          0,
          1
         ],
         "title": {
          "text": "Disrict"
         },
         "zeroline": false
        },
        "yaxis": {
         "anchor": "free",
         "domain": [
          0,
          1
         ],
         "position": 0
        }
       }
      },
      "text/html": [
       "<div>                            <div id=\"55d720d8-08f7-4f7d-b831-7cd06ce1eda4\" class=\"plotly-graph-div\" style=\"height:525px; width:100%;\"></div>            <script type=\"text/javascript\">                require([\"plotly\"], function(Plotly) {                    window.PLOTLYENV=window.PLOTLYENV || {};                                    if (document.getElementById(\"55d720d8-08f7-4f7d-b831-7cd06ce1eda4\")) {                    Plotly.newPlot(                        \"55d720d8-08f7-4f7d-b831-7cd06ce1eda4\",                        [{\"legendgroup\":\"Not Fraud\",\"marker\":{\"color\":\"rgb(31, 119, 180)\"},\"mode\":\"lines\",\"name\":\"Not Fraud\",\"showlegend\":true,\"x\":[60.0,60.018,60.036,60.054,60.072,60.09,60.108,60.126,60.144,60.162,60.18,60.198,60.216,60.234,60.252,60.27,60.288,60.306,60.324,60.342,60.36,60.378,60.396,60.414,60.432,60.45,60.468,60.486,60.504,60.522,60.54,60.558,60.576,60.594,60.612,60.63,60.648,60.666,60.684,60.702,60.72,60.738,60.756,60.774,60.792,60.81,60.828,60.846,60.864,60.882,60.9,60.918,60.936,60.954,60.972,60.99,61.008,61.026,61.044,61.062,61.08,61.098,61.116,61.134,61.152,61.17,61.188,61.206,61.224,61.242,61.26,61.278,61.296,61.314,61.332,61.35,61.368,61.386,61.403999999999996,61.422,61.44,61.458,61.476,61.494,61.512,61.53,61.548,61.566,61.584,61.602,61.62,61.638,61.656,61.674,61.692,61.71,61.728,61.746,61.764,61.782,61.8,61.818,61.836,61.854,61.872,61.89,61.908,61.926,61.944,61.962,61.98,61.998,62.016,62.034,62.052,62.07,62.088,62.106,62.124,62.142,62.16,62.178,62.196,62.214,62.232,62.25,62.268,62.286,62.304,62.322,62.34,62.358,62.376,62.394,62.412,62.43,62.448,62.466,62.484,62.502,62.52,62.538,62.556,62.574,62.592,62.61,62.628,62.646,62.664,62.682,62.7,62.718,62.736,62.754,62.772,62.79,62.808,62.826,62.844,62.862,62.88,62.898,62.916,62.934,62.952,62.97,62.988,63.006,63.024,63.042,63.06,63.078,63.096000000000004,63.114,63.132,63.15,63.168,63.186,63.204,63.222,63.24,63.258,63.275999999999996,63.294,63.312,63.33,63.348,63.366,63.384,63.402,63.42,63.438,63.456,63.474000000000004,63.492,63.51,63.528,63.546,63.564,63.582,63.6,63.618,63.636,63.653999999999996,63.672,63.69,63.708,63.726,63.744,63.762,63.78,63.798,63.816,63.834,63.852,63.87,63.888,63.906,63.924,63.942,63.96,63.978,63.996,64.014,64.032,64.05,64.068,64.086,64.104,64.122,64.14,64.158,64.176,64.194,64.212,64.23,64.248,64.266,64.284,64.30199999999999,64.32,64.338,64.356,64.374,64.392,64.41,64.428,64.446,64.464,64.482,64.5,64.518,64.536,64.554,64.572,64.59,64.608,64.626,64.644,64.662,64.68,64.69800000000001,64.716,64.734,64.752,64.77,64.788,64.806,64.824,64.842,64.86,64.878,64.896,64.914,64.932,64.95,64.968,64.986,65.004,65.022,65.04,65.05799999999999,65.076,65.094,65.112,65.13,65.148,65.166,65.184,65.202,65.22,65.238,65.256,65.274,65.292,65.31,65.328,65.346,65.364,65.382,65.4,65.418,65.436,65.454,65.472,65.49,65.508,65.526,65.544,65.562,65.58,65.598,65.616,65.634,65.652,65.67,65.688,65.706,65.724,65.742,65.76,65.778,65.796,65.814,65.832,65.85,65.868,65.886,65.904,65.922,65.94,65.958,65.976,65.994,66.012,66.03,66.048,66.066,66.084,66.102,66.12,66.138,66.156,66.174,66.19200000000001,66.21,66.228,66.246,66.264,66.282,66.3,66.318,66.336,66.354,66.372,66.39,66.408,66.426,66.444,66.462,66.48,66.498,66.516,66.534,66.55199999999999,66.57,66.588,66.606,66.624,66.642,66.66,66.678,66.696,66.714,66.732,66.75,66.768,66.786,66.804,66.822,66.84,66.858,66.876,66.894,66.912,66.93,66.94800000000001,66.966,66.984,67.002,67.02,67.038,67.056,67.074,67.092,67.11,67.128,67.146,67.164,67.182,67.2,67.218,67.236,67.254,67.272,67.29,67.30799999999999,67.326,67.344,67.362,67.38,67.398,67.416,67.434,67.452,67.47,67.488,67.506,67.524,67.542,67.56,67.578,67.596,67.614,67.632,67.65,67.668,67.686,67.704,67.722,67.74,67.758,67.776,67.794,67.812,67.83,67.848,67.866,67.884,67.902,67.92,67.938,67.956,67.974,67.992,68.01,68.028,68.04599999999999,68.064,68.082,68.1,68.118,68.136,68.154,68.172,68.19,68.208,68.226,68.244,68.262,68.28,68.298,68.316,68.334,68.352,68.37,68.388,68.406,68.424,68.44200000000001,68.46000000000001,68.478,68.496,68.514,68.532,68.55,68.568,68.586,68.604,68.622,68.64,68.658,68.676,68.694,68.712,68.73,68.748,68.766,68.784,68.80199999999999,68.82,68.838,68.856,68.874,68.892,68.91,68.928,68.946,68.964,68.982],\"xaxis\":\"x\",\"y\":[0.3014313049306699,0.30095003970252615,0.29951084876565803,0.29712747510887094,0.29382258074868695,0.2896273879966278,0.28458118841345603,0.2787307302589842,0.27212949778482604,0.2648368979079775,0.25691737155578487,0.24843944823386938,0.239474763179571,0.230097056707142,0.22038117515699662,0.21040209213767513,0.2002339676171943,0.1899492608795965,0.17961791150137074,0.16930660035742598,0.15907810033598235,0.14899072401156488,0.13909787300044654,0.12944769128930383,0.12008282243313578,0.11104026831742762,0.1023513451622428,0.0940417306907759,0.08613159490262728,0.0786358057149291,0.07156419986091012,0.0649219088888611,0.05870972983217134,0.05292453015936089,0.04755967688680749,0.04260548024991199,0.03804964302216809,0.033877707430518586,0.030073492577204167,0.02661951632204314,0.023497396661311083,0.020688228720447926,0.01817293453525707,0.015932583793944053,0.013948684631576102,0.01220344438728834,0.01068000094020995,0.00936262582252737,0.008236900757701159,0.007289869594195099,0.006510167793227538,0.005888131694519905,0.005415889731670877,0.0050874376075587275,0.004898699185573219,0.004847574513936217,0.004933975995992933,0.005159853263756942,0.005529206821624764,0.006048090020881486,0.006724598420036425,0.007568845099588448,0.008592920052028165,0.00981083137504935,0.011238425677383378,0.01289328487912453,0.01479459646725739,0.01696299426804745,0.019420366932960332,0.02218963161334563,0.02529447073000174,0.02875903032713914,0.03260757924043224,0.03686412919117401,0.0415520169449607,0.04669345081229325,0.052309025012020866,0.0584172067274028,0.06503380203372232,0.07217140822165655,0.07983886134633343,0.08804068904001185,0.0967765797124003,0.10604088014405243,0.11582213414820432,0.12610267535743744,0.1368582872642619,0.14805794336538727,0.15966363962390107,0.17163033042127143,0.18390597776405904,0.19643172172275278,0.20914217792478274,0.22196586548074587,0.23482576599480243,0.24764001138432212,0.2603226951887274,0.27278479892999874,0.2849352220463806,0.29668190097030595,0.3079330002211767,0.3185981559942596,0.3285897507117863,0.33782419547162124,0.34622319633605003,0.3537149799453272,0.36023545414547864,0.36572928005680344,0.3701508334582228,0.3734650352482172,0.3756480332999083,0.376687720911243,0.37658408041711433,0.37534934411069837,0.3730079684222205,0.36959642117244235,0.36516278554179693,0.3597661880709512,0.3534760615025058,0.3463712563218637,0.3385390176240306,0.33007384612432966,0.3210762638814355,0.3116515064604741,0.3019081639184818,0.29195679308851796,0.2819085232377605,0.2718736763304201,0.2619604218532727,0.25227348457987064,0.24291292181313212,0.23397298459047702,0.22554107523264097,0.21769681143146033,0.21051120494524567,0.20404596093823726,0.19835290207715145,0.19347351978528535,0.18943865347957978,0.1862682972911589,0.1839715325927706,0.18254658368035673,0.18198099311648888,0.1822519125433548,0.18332650412670287,0.18516244723708705,0.18770854439090487,0.19090541991188772,0.1946863041385254,0.19897789534584198,0.2037012907925765,0.20877297751150833,0.21410587261779604,0.219610402018606,0.2251956055618291,0.23077025581863275,0.23624397697046517,0.24152834966527834,0.24653798729173632,0.25119156892013567,0.2554128142310148,0.25913138611445374,0.26228370730465833,0.26481367842170944,0.26667328612857116,0.26782309176467284,0.26823259274535116,0.26788045120205967,0.2667545867159374,0.2648521325133844,0.26217925708178963,0.25875085575098566,0.2545901193042838,0.249727989060038,0.24420251002059823,0.2380580955754281,0.23134471882104274,0.22411704673269178,0.21643353422714018,0.20835549554254976,0.19994617029344314,0.19126980112378497,0.18239073901873118,0.17337259115102197,0.16427742460429906,0.15516503756480843,0.14609230757936567,0.13711262438627553,0.12827541262790815,0.11962574756137,0.1112040647419142,0.10304596261100413,0.09518209503306478,0.08763814914234182,0.0804349023935022,0.073588351510862,0.06710990508417958,0.06100663089535188,0.0552815486620017,0.04993395874281965,0.044959797445007346,0.04035200989557505,0.03610093193211803,0.032194673132975936,0.028619493883211722,0.02536017024749278,0.02240034134638166,0.019722834888770472,0.017309967464030015,0.01514381712137332,0.013206466640656339,0.011480216705007448,0.009947768915126075,0.00859237922231355,0.007397982899795961,0.006349292617027007,0.005431871529606899,0.004632183553011601,0.003937623156764082,0.003336527105287268,0.002818170590764173,0.002372750162269154,0.001991355763861599,0.0016659340623319512,0.0013892450828662172,0.001154813986602895,0.0009568796266661676,0.0007903413158608316,0.0006507050360666343,0.0005340301219719752,0.0004368772640953155,0.00035625850137181817,0.00028958971428474873,0.00023464598680832086,0.0001895200802374999,0.00015258415418198244,0.00012245477924845524,9.79612113553156e-05,7.811683802038466e-05,6.209366103217713e-05,4.9199646117385365e-05,3.885874703860035e-05,3.0593397449139284e-05,2.400925731296694e-05,1.8782000374399626e-05,1.4645933745039506e-05,1.1384249018278867e-05,8.820715406060068e-06,6.8126383466048906e-06,5.244921116410303e-06,4.025081591212709e-06,3.079090948841525e-06,2.34791541595052e-06,1.7846558459874255e-06,1.352192777563684e-06,1.021256529539255e-06,7.688527675480794e-07,5.769837992466577e-07,4.316146303846307e-07,3.218405763286322e-07,2.392200288386984e-07,1.7724189344868135e-07,1.3090231428546373e-07,9.636966957332973e-08,7.072053157733621e-08,5.173241636486302e-08,3.772177441201759e-08,2.741786060396358e-08,1.9864933520559468e-08,1.4346724850583283e-08,1.0328339946475086e-08,7.41174347619722e-09,5.3017877464943526e-09,3.780388171953992e-09,2.6869683794934277e-09,1.9037101128021154e-09,1.3444701969379464e-09,9.464847994603115e-10,6.641836934600874e-10,4.645953680106379e-10,3.239467622119861e-10,2.2515651240268618e-10,1.5599385246891548e-10,1.0773146252226084e-10,7.41634166306482e-11,5.0891939686350386e-11,3.4811311054363526e-11,2.373579909067065e-11,1.6132416875735916e-11,1.0929671677172286e-11,7.381198716427045e-12,4.9688831096798855e-12,3.3342853514314042e-12,2.2302772269525567e-12,1.487055017503975e-12,9.883421673612523e-13,6.54786496221323e-13,4.324184394442689e-13,2.8465629819242745e-13,1.8678822312893469e-13,1.2217723310517536e-13,7.96605282150982e-14,5.177357798025589e-14,3.354171606103122e-14,2.166079930184096e-14,1.394362774933399e-14,8.94724197540306e-15,5.722880626994161e-15,3.648818764679974e-15,2.319006679715174e-15,1.469142112574619e-15,9.277644291219472e-16,5.840146324305303e-16,3.6645600342376023e-16,2.2920920501949717e-16,1.4290728582426233e-16,8.881550518810628e-17,5.5021866314742987e-17,3.397769888533548e-17,2.0915331947135628e-17,1.283357963572778e-17,7.849525238279003e-18,4.785775496003063e-18,2.908552994648557e-18,1.7620744923986983e-18,1.0641777581162459e-18,6.407738035533389e-19,3.848257836394261e-19,2.307697463946566e-19,1.3862687078532096e-19,8.41824495401525e-20,5.2958394409699404e-20,3.65645675842803e-20,3.056140201052912e-20,3.3319863696937715e-20,4.5602368048447804e-20,7.07628919937266e-20,1.1561595739427747e-19,1.9218720087018741e-19,3.2077022955543116e-19,5.350232502157058e-19,8.903130081531658e-19,1.477256076403829e-18,2.44357731903433e-18,4.029248417127679e-18,6.622766840766012e-18,1.0850976842369482e-17,1.772192710317056e-17,2.885129928114482e-17,4.682006182390114e-17,7.573745670515202e-17,1.2212415224759635e-16,1.962928637965365e-16,3.1449921281405305e-16,5.022809604728056e-16,7.996242765691749e-16,1.2689290120872497e-15,2.007246847350549e-15,3.1650191591579143e-15,4.974666871372811e-15,7.794060364598824e-15,1.217238353547427e-14,1.894958015210364e-14,2.940598001383504e-14,4.5486636544540696e-14,7.013650052458367e-14,1.0779942949762804e-13,1.6515850133418863e-13,2.522304447438515e-13,3.8397785594422516e-13,5.826757639134442e-13,8.8137317924387e-13,1.3289382699461979e-12,1.9973854739175716e-12,2.9924786971983726e-12,4.469020523342997e-12,6.652819369684756e-12,9.872137973265066e-12,1.460255336779768e-11,2.1530716828119258e-11,3.1644648609439884e-11,4.636114647884263e-11,6.770490893262845e-11,9.85594453176306e-11,1.4301725705330127e-10,2.0686677285848216e-10,2.982669518027443e-10,4.2867843213304806e-10,6.141440275086434e-10,8.770430939590962e-10,1.2484861674027379e-09,1.7715713085880457e-09,2.5057956012791215e-09,3.533009037234118e-09,4.965419614725242e-09,6.956315387799821e-09,9.71437073763143e-09,1.352266175150477e-08,1.876384330219865e-08,2.5953355245121963e-08,3.578304763000446e-08,4.9178269553232616e-08,6.737228248468527e-08,9.200287104089077e-08,1.2523727250301108e-07,1.6993307750777603e-07,2.2984462170615814e-07,3.098866523619848e-07,4.1646978275103095e-07,5.579255158195987e-07,7.450425085705219e-07,9.917403473809513e-07,1.315912503358953e-06,1.7404764290662113e-06,2.2946760353138026e-06,3.015690135396215e-06,3.950609939278021e-06,5.158859379758891e-06,6.715143988009698e-06,8.71302720496733e-06,1.1269247368029165e-05,1.4528904042253695e-05,1.867165869335154e-05,2.391911165843586e-05,3.0543534594707175e-05,3.88781545888276e-05,4.9329202276613985e-05,6.238995088878526e-05,7.865698519272791e-05,9.884894775360884e-05,0.00012382801355652294,0.00015462434139846708,0.00019246374003897157,0.00023879876718981577,0.00029534344829438213,0.0003641117578459359,0.0004474599469605145,0.000548132725310806,0.0006693132118523431,0.0008146764557237844,0.0009884461954991208,0.0011954543711660721,0.0014412027292250507,0.0017319256681046663,0.002074653260760879,0.002477273166864292,0.0029485899124247214,0.00349837977558654,0.004137439279958446,0.004877625069392607,0.0057318827291256095,0.006714261937960185,0.007839915195857397,0.00912507728153372,0.010587022568466838,0.012243997375628448,0.014115124663461738,0.01622027861509581,0.018579926976919677,0.021214939476811162,0.024146361196709605,0.027395150447429194,0.030981881475805474,0.034926413217229876,0.03924752627809327,0.04396253137739825,0.049086853566712815,0.05463359766438022,0.060613101441169666,0.06703248416037966,0.07389519904992702,0.08120059914937262,0.08894352667079715,0.09711393652023058,0.1056965648917922,0.11467065385820908,0.12400974258935389,0.13368153524429904,0.1436478546625812,0.153864689753481,0.16428234293740768,0.17484568216591523,0.1854944999597412,0.19616397961339047,0.20678526624574145,0.21728613784306985,0.22759176883767693,0.23762557625063346,0.24731013600740281,0.2565681548250374,0.26532348114812665,0.27350213700387777,0.2810333514855731,0.2878505758284856,0.2938924598258686,0.2991037696031702,0.3034362275840785,0.30684925680099717,0.3093106135081669,0.31079689430292595],\"yaxis\":\"y\",\"type\":\"scatter\"},{\"legendgroup\":\"Fraud\",\"marker\":{\"color\":\"rgb(255, 127, 14)\"},\"mode\":\"lines\",\"name\":\"Fraud\",\"showlegend\":true,\"x\":[60.0,60.018,60.036,60.054,60.072,60.09,60.108,60.126,60.144,60.162,60.18,60.198,60.216,60.234,60.252,60.27,60.288,60.306,60.324,60.342,60.36,60.378,60.396,60.414,60.432,60.45,60.468,60.486,60.504,60.522,60.54,60.558,60.576,60.594,60.612,60.63,60.648,60.666,60.684,60.702,60.72,60.738,60.756,60.774,60.792,60.81,60.828,60.846,60.864,60.882,60.9,60.918,60.936,60.954,60.972,60.99,61.008,61.026,61.044,61.062,61.08,61.098,61.116,61.134,61.152,61.17,61.188,61.206,61.224,61.242,61.26,61.278,61.296,61.314,61.332,61.35,61.368,61.386,61.403999999999996,61.422,61.44,61.458,61.476,61.494,61.512,61.53,61.548,61.566,61.584,61.602,61.62,61.638,61.656,61.674,61.692,61.71,61.728,61.746,61.764,61.782,61.8,61.818,61.836,61.854,61.872,61.89,61.908,61.926,61.944,61.962,61.98,61.998,62.016,62.034,62.052,62.07,62.088,62.106,62.124,62.142,62.16,62.178,62.196,62.214,62.232,62.25,62.268,62.286,62.304,62.322,62.34,62.358,62.376,62.394,62.412,62.43,62.448,62.466,62.484,62.502,62.52,62.538,62.556,62.574,62.592,62.61,62.628,62.646,62.664,62.682,62.7,62.718,62.736,62.754,62.772,62.79,62.808,62.826,62.844,62.862,62.88,62.898,62.916,62.934,62.952,62.97,62.988,63.006,63.024,63.042,63.06,63.078,63.096000000000004,63.114,63.132,63.15,63.168,63.186,63.204,63.222,63.24,63.258,63.275999999999996,63.294,63.312,63.33,63.348,63.366,63.384,63.402,63.42,63.438,63.456,63.474000000000004,63.492,63.51,63.528,63.546,63.564,63.582,63.6,63.618,63.636,63.653999999999996,63.672,63.69,63.708,63.726,63.744,63.762,63.78,63.798,63.816,63.834,63.852,63.87,63.888,63.906,63.924,63.942,63.96,63.978,63.996,64.014,64.032,64.05,64.068,64.086,64.104,64.122,64.14,64.158,64.176,64.194,64.212,64.23,64.248,64.266,64.284,64.30199999999999,64.32,64.338,64.356,64.374,64.392,64.41,64.428,64.446,64.464,64.482,64.5,64.518,64.536,64.554,64.572,64.59,64.608,64.626,64.644,64.662,64.68,64.69800000000001,64.716,64.734,64.752,64.77,64.788,64.806,64.824,64.842,64.86,64.878,64.896,64.914,64.932,64.95,64.968,64.986,65.004,65.022,65.04,65.05799999999999,65.076,65.094,65.112,65.13,65.148,65.166,65.184,65.202,65.22,65.238,65.256,65.274,65.292,65.31,65.328,65.346,65.364,65.382,65.4,65.418,65.436,65.454,65.472,65.49,65.508,65.526,65.544,65.562,65.58,65.598,65.616,65.634,65.652,65.67,65.688,65.706,65.724,65.742,65.76,65.778,65.796,65.814,65.832,65.85,65.868,65.886,65.904,65.922,65.94,65.958,65.976,65.994,66.012,66.03,66.048,66.066,66.084,66.102,66.12,66.138,66.156,66.174,66.19200000000001,66.21,66.228,66.246,66.264,66.282,66.3,66.318,66.336,66.354,66.372,66.39,66.408,66.426,66.444,66.462,66.48,66.498,66.516,66.534,66.55199999999999,66.57,66.588,66.606,66.624,66.642,66.66,66.678,66.696,66.714,66.732,66.75,66.768,66.786,66.804,66.822,66.84,66.858,66.876,66.894,66.912,66.93,66.94800000000001,66.966,66.984,67.002,67.02,67.038,67.056,67.074,67.092,67.11,67.128,67.146,67.164,67.182,67.2,67.218,67.236,67.254,67.272,67.29,67.30799999999999,67.326,67.344,67.362,67.38,67.398,67.416,67.434,67.452,67.47,67.488,67.506,67.524,67.542,67.56,67.578,67.596,67.614,67.632,67.65,67.668,67.686,67.704,67.722,67.74,67.758,67.776,67.794,67.812,67.83,67.848,67.866,67.884,67.902,67.92,67.938,67.956,67.974,67.992,68.01,68.028,68.04599999999999,68.064,68.082,68.1,68.118,68.136,68.154,68.172,68.19,68.208,68.226,68.244,68.262,68.28,68.298,68.316,68.334,68.352,68.37,68.388,68.406,68.424,68.44200000000001,68.46000000000001,68.478,68.496,68.514,68.532,68.55,68.568,68.586,68.604,68.622,68.64,68.658,68.676,68.694,68.712,68.73,68.748,68.766,68.784,68.80199999999999,68.82,68.838,68.856,68.874,68.892,68.91,68.928,68.946,68.964,68.982],\"xaxis\":\"x\",\"y\":[0.10527068994896736,0.1052720101857294,0.10517659184824445,0.10498537805802802,0.10469964592337606,0.10432100490747248,0.10385139380099147,0.10329307632366592,0.1026486353874085,0.10192096606085213,0.10111326728337618,0.10022903238212312,0.09927203845283752,0.09824633466970177,0.09715622959505087,0.09600627756322555,0.0948012642162684,0.09354619127181613,0.09224626060542274,0.09090685772991028,0.08953353475550527,0.08813199291322438,0.08670806472336628,0.0852676958887983,0.08381692699048042,0.08236187505959025,0.08090871509707649,0.0794636616077792,0.07803295021161757,0.07662281939006828,0.07523949242130112,0.07388915955231579,0.0725779604516627,0.07131196698110448,0.07009716632012468,0.06893944447203113,0.06784457017648025,0.06681817924864943,0.06586575936187136,0.06499263528711338,0.06420395459969716,0.06350467386136315,0.06289954528411311,0.062393103880500546,0.061989655104998286,0.061693262990201406,0.06150773878252882,0.06143663008280312,0.06148321049846276,0.06165046981622769,0.06194110470625369,0.06235750997153474,0.06290177035942,0.06357565295502494,0.06438060018035152,0.06531772342565517,0.06638779734383621,0.06759125484145444,0.06892818280361847,0.07039831859274973,0.07200104736400856,0.07373540024221496,0.07560005340687699,0.07759332813314077,0.07971319183655382,0.08195726016975127,0.08432280021753295,0.08680673483535763,0.08940564817334823,0.09211579242396331,0.09493309582760141,0.09785317196412704,0.10087133035266935,0.1039825883743832,0.10718168452508003,0.11046309299570282,0.11382103956914032,0.11724951881186117,0.12074231252803884,0.12429300943276975,0.12789502598956365,0.13154162834587318,0.13522595528808418,0.13894104212660377,0.14267984540951395,0.14643526835246862,0.1502001868617829,0.15396747601758345,0.1577300368748609,0.16148082343167863,0.1652128696063358,0.16891931605982868,0.17259343669406124,0.17622866465376108,0.1798186176570428,0.18335712248029154,0.18683823842255767,0.19025627957941968,0.19360583575867032,0.19688179187800262,0.20007934569202823,0.20319402370515868,0.20622169513864558,0.20915858383247016,0.21200127797652718,0.2147467375814648,0.2173922996162018,0.21993568075622782,0.22237497770633086,0.2247086650801632,0.226935590839588,0.22905496931635047,0.23106637185989543,0.2329697151755281,0.23476524743702917,0.23645353227772978,0.23803543078410103,0.23951208163272059,0.24088487952990725,0.24215545212920225,0.243325635615382,0.2443974491582644,0.2453730684491678,0.24625479854357002,0.24704504623953052,0.2477462922273833,0.24836106324954046,0.24889190450853632,0.24934135256186868,0.24971190893684977,0.25000601469326783,0.25022602615430056,0.250374192013704,0.25045263201721585,0.2504633174004883,0.2504080532499094,0.2502884629355348,0.250105974745578,0.24986181083185105,0.2495569785542772,0.24919226428946797,0.24876822974644675,0.24828521080837912,0.24774331889690324,0.24714244483035258,0.24648226512665816,0.24576225067675303,0.2449816776944394,0.2441396408270557,0.2432350682920426,0.2422667388863293,0.24123330069943305,0.24013329134551942,0.23896515951743066,0.23772728765475995,0.2364180155087654,0.23503566438054815,0.2335785618046272,0.23204506644707082,0.23043359298819144,0.22874263676154633,0.22697079792479158,0.22511680494570357,0.22317953719359201,0.2211580464376502,0.21905157706540568,0.21685958484812767,0.21458175409537167,0.2122180130569054,0.20976854744800652,0.20723381199250007,0.2046145398970004,0.20191175018881222,0.19912675287121634,0.19626115186811666,0.19331684575145755,0.19029602626323333,0.18720117466344097,0.1840350559542841,0.18080071104702614,0.1775014469561396,0.17414082511996798,0.1707226479607842,0.16725094381170041,0.1637299503469489,0.1601640966640445,0.15655798417293798,0.15291636645500115,0.1492441282589893,0.14554626380469854,0.14182785456690547,0.1380940467119076,0.13435002835781434,0.13060100682668185,0.1268521860523855,0.12310874430187885,0.11937581236170604,0.11565845233227584,0.11196163716430858,0.10829023106166899,0.10464897086391672,0.10104244851105265,0.09747509468075087,0.09395116367622808,0.0904747196310946,0.08704962408392689,0.08367952496418012,0.08036784701738084,0.07711778368656663,0.07393229045432204,0.07081407963903893,0.0677656166279173,0.06478911751913476,0.061886548136250545,0.05905962436891912,0.05630981378613086,0.0536383384611169,0.05104617894057634,0.048534079285498494,0.04610255310633174,0.04375189051141287,0.0414821658848748,0.039293246408074724,0.037184801237502854,0.03515631125165835,0.03320707927973826,0.031336240726003446,0.029542774505319,0.027825514207734377,0.026183159412706884,0.024614287076914168,0.023117362923324655,0.021690752763323926,0.020332733688042285,0.01904150506978968,0.01781519931922257,0.016651892349003453,0.015549613699665324,0.014506356288552678,0.013520085747815276,0.012588749322376845,0.011710284303857761,0.010882625981053972,0.010103715092374023,0.009371504769854135,0.008683966968761819,0.008039098380563338,0.007434925830847187,0.00686951116709679,0.006340955644401929,0.005847403819960929,0.005387046969785108,0.004958126043245389,0.004558934173038122,0.004187818759792942,0.0038431831519418727,0.003523487942559112,0.003227251905747647,0.002953052595734918,0.0026995266322557094,0.0024653696959377586,0.0022493362573945026,0.0020502390635171886,0.0018669484040937268,0.001698391181365363,0.0015435498044837736,0.0014014609300935681,0.0012712140694016616,0.0011519500811769314,0.0010428595691291667,0.0009431812010761063,0.0008521999662339448,0.000769245385859665,0.0006936896913693893,0.0006249459829356503,0.0005624663804674027,0.0005057401777841589,0.00045429200973303775,0.0004076800409643321,0.00036549418408499503,0.0003273543539543805,0.0002929087639775427,0.00026183226939010466,0.00023382476171938493,0.0002086096178472067,0.00018593220639652634,0.00016555845351247928,0.00014727346951124855,0.00013088023732414376,0.00011619836317265452,0.00010306288946583213,9.132316951693653e-05,8.084180332803373e-05,7.149363338680744e-05,6.316479915711488e-05,5.57518487216968e-05,4.916090584861683e-05,4.330689060020629e-05,3.811279148225049e-05,3.350898703816882e-05,2.9432614726879343e-05,2.5826984880088576e-05,2.2641037513324697e-05,1.98288397623638e-05,1.7349121730759237e-05,1.516484856286621e-05,1.3242826597795595e-05,1.1553341511931056e-05,1.0069826418337053e-05,8.768557960096792e-06,7.628378508885304e-06,6.630442659339194e-06,5.757986292478099e-06,4.996116566608175e-06,4.331621280926745e-06,3.7527961445158307e-06,3.249288571022661e-06,2.8119567063132487e-06,2.432742482407769e-06,2.1045575755394966e-06,1.8211812289962644e-06,1.577168982199175e-06,1.3677714261170955e-06,1.188862181493143e-06,1.0368743704272042e-06,9.087449236422488e-07,8.018661352946282e-07,7.140439446178179e-07,6.43462489116183e-07,5.886545376540065e-07,5.484774738193932e-07,5.220945606084243e-07,5.089612770380971e-07,5.088165760257042e-07,5.216789710605124e-07,5.478474171428979e-07,5.87907009485027e-07,6.427395818762193e-07,7.135393457330291e-07,8.018337709960745e-07,9.095099715230593e-07,1.0388469207654102e-06,1.192553888604408e-06,1.3738155575435418e-06,1.5863443462847918e-06,1.8344405412771485e-06,2.123060912378707e-06,2.457896567435418e-06,2.84546088259287e-06,3.293188430531704e-06,3.8095459176833452e-06,4.404156233813446e-06,5.08793681308812e-06,5.87325360476442e-06,6.774092053727681e-06,7.806246595974964e-06,8.987530281409963e-06,1.0338006245479394e-05,1.1880242861687454e-05,1.3639594518056405e-05,1.5644510071440364e-05,1.792687114314225e-05,2.0522362526445696e-05,2.347087708022604e-05,2.6816957581121634e-05,3.0610278098507845e-05,3.49061675395253e-05,3.9766178084301556e-05,4.5258701291248115e-05,5.145963469772645e-05,5.845310176892538e-05,6.63322280553174e-05,7.51999764039091e-05,8.517004402696065e-05,9.636782416201448e-05,0.0001089314349537652,0.00012301281805083102,0.00013877890923256233,0.0001564128831612861,0.00017611547408927428,0.00019810637403430405,0.0002226257095687082,0.00024993559794183115,0.0002803217827719919,0.00031409534899606145,0.0003515945161537599,0.0003931865084040396,0.00043926949892148496,0.0004902746255035225,0.0005466680733244082,0.0006089532198135886,0.0006776728355981208,0.0007534113343466513,0.0008367970631805269,0.0009285046240785188,0.0010292572154072346,0.0011398289813539025,0.001261047355635699,0.001393795384419499,0.0015390140119041678,0.001697704310523663,0.0018709296362138766,0.002059817687682567,0.0022655624471241693,0.0024894259783610675,0.0027327400569789463,0.0029969076056726826,0.0032834039067609934,0.0035937775626555366,0.0039296511740515355,0.0042927217047107075,0.0046847605009889,0.005107612933740865,0.005563197629918394,0.006053505261112429,0.006580596856471353,0.007146601607902003,0.007753714136229505,0.008404191188096195,0.009100347734804764,0.009844552446122127,0.010639222514217953,0.011486817805463782,0.01238983432075406,0.013350796948384919,0.014372251497210263,0.015456756001964193,0.016606871297196058,0.017825150861088757,0.019114129935781553,0.020476313936404478,0.0219141661669477,0.023430094867343355,0.02502643962258945,0.02670545717146011,0.028469306659175214,0.030320034385345838,0.03225955810566014,0.03428965095263177,0.03641192504785486,0.038627814884958624,0.04093856056913204,0.04334519100543032,0.0458485071341156,0.048449065316848144,0.0511471609826787,0.053942812647287196,0.056835746422724424,0.059825381138256674,0.06291081419492967,0.06609080827841493,0.0693637790548136,0.07272778397413619,0.07618051230447058,0.07971927651752535,0.08334100514277619,0.08704223720258532,0.09081911833507887,0.09466739870463009,0.09858243279178076,0.10255918114536393,0.10659221416949126,0.11067571800678826,0.11480350256748088,0.1189690117405624,0.12316533580974941,0.12738522608259178,0.1316211117254123,0.13586511878213967,0.1401090913380797,0.144344614774438,0.1485630410424092,0.15275551586972458,0.15691300779666276,0.16102633892211235,0.1650862172259099,0.16908327031820888,0.17300808045352917,0.17685122063354458,0.18060329161135621,0.1842549595988666,0.1877969944700315,0.1912203082442206,0.19451599362812783,0.19767536238945974,0.20068998333277857,0.2035517196464524,0.20625276539014434,0.20878568089471064,0.2111434268500812,0.21331939686312057,0.21530744827499104,0.2171019310366612,0.21869771445326855,0.22009021161963666,0.22127540138448842,0.22224984769606507,0.2230107161988237,0.22355578796920955,0.22388347029723155],\"yaxis\":\"y\",\"type\":\"scatter\"}],                        {\"barmode\":\"overlay\",\"hovermode\":\"closest\",\"legend\":{\"traceorder\":\"reversed\"},\"template\":{\"data\":{\"barpolar\":[{\"marker\":{\"line\":{\"color\":\"#E5ECF6\",\"width\":0.5},\"pattern\":{\"fillmode\":\"overlay\",\"size\":10,\"solidity\":0.2}},\"type\":\"barpolar\"}],\"bar\":[{\"error_x\":{\"color\":\"#2a3f5f\"},\"error_y\":{\"color\":\"#2a3f5f\"},\"marker\":{\"line\":{\"color\":\"#E5ECF6\",\"width\":0.5},\"pattern\":{\"fillmode\":\"overlay\",\"size\":10,\"solidity\":0.2}},\"type\":\"bar\"}],\"carpet\":[{\"aaxis\":{\"endlinecolor\":\"#2a3f5f\",\"gridcolor\":\"white\",\"linecolor\":\"white\",\"minorgridcolor\":\"white\",\"startlinecolor\":\"#2a3f5f\"},\"baxis\":{\"endlinecolor\":\"#2a3f5f\",\"gridcolor\":\"white\",\"linecolor\":\"white\",\"minorgridcolor\":\"white\",\"startlinecolor\":\"#2a3f5f\"},\"type\":\"carpet\"}],\"choropleth\":[{\"colorbar\":{\"outlinewidth\":0,\"ticks\":\"\"},\"type\":\"choropleth\"}],\"contourcarpet\":[{\"colorbar\":{\"outlinewidth\":0,\"ticks\":\"\"},\"type\":\"contourcarpet\"}],\"contour\":[{\"colorbar\":{\"outlinewidth\":0,\"ticks\":\"\"},\"colorscale\":[[0.0,\"#0d0887\"],[0.1111111111111111,\"#46039f\"],[0.2222222222222222,\"#7201a8\"],[0.3333333333333333,\"#9c179e\"],[0.4444444444444444,\"#bd3786\"],[0.5555555555555556,\"#d8576b\"],[0.6666666666666666,\"#ed7953\"],[0.7777777777777778,\"#fb9f3a\"],[0.8888888888888888,\"#fdca26\"],[1.0,\"#f0f921\"]],\"type\":\"contour\"}],\"heatmapgl\":[{\"colorbar\":{\"outlinewidth\":0,\"ticks\":\"\"},\"colorscale\":[[0.0,\"#0d0887\"],[0.1111111111111111,\"#46039f\"],[0.2222222222222222,\"#7201a8\"],[0.3333333333333333,\"#9c179e\"],[0.4444444444444444,\"#bd3786\"],[0.5555555555555556,\"#d8576b\"],[0.6666666666666666,\"#ed7953\"],[0.7777777777777778,\"#fb9f3a\"],[0.8888888888888888,\"#fdca26\"],[1.0,\"#f0f921\"]],\"type\":\"heatmapgl\"}],\"heatmap\":[{\"colorbar\":{\"outlinewidth\":0,\"ticks\":\"\"},\"colorscale\":[[0.0,\"#0d0887\"],[0.1111111111111111,\"#46039f\"],[0.2222222222222222,\"#7201a8\"],[0.3333333333333333,\"#9c179e\"],[0.4444444444444444,\"#bd3786\"],[0.5555555555555556,\"#d8576b\"],[0.6666666666666666,\"#ed7953\"],[0.7777777777777778,\"#fb9f3a\"],[0.8888888888888888,\"#fdca26\"],[1.0,\"#f0f921\"]],\"type\":\"heatmap\"}],\"histogram2dcontour\":[{\"colorbar\":{\"outlinewidth\":0,\"ticks\":\"\"},\"colorscale\":[[0.0,\"#0d0887\"],[0.1111111111111111,\"#46039f\"],[0.2222222222222222,\"#7201a8\"],[0.3333333333333333,\"#9c179e\"],[0.4444444444444444,\"#bd3786\"],[0.5555555555555556,\"#d8576b\"],[0.6666666666666666,\"#ed7953\"],[0.7777777777777778,\"#fb9f3a\"],[0.8888888888888888,\"#fdca26\"],[1.0,\"#f0f921\"]],\"type\":\"histogram2dcontour\"}],\"histogram2d\":[{\"colorbar\":{\"outlinewidth\":0,\"ticks\":\"\"},\"colorscale\":[[0.0,\"#0d0887\"],[0.1111111111111111,\"#46039f\"],[0.2222222222222222,\"#7201a8\"],[0.3333333333333333,\"#9c179e\"],[0.4444444444444444,\"#bd3786\"],[0.5555555555555556,\"#d8576b\"],[0.6666666666666666,\"#ed7953\"],[0.7777777777777778,\"#fb9f3a\"],[0.8888888888888888,\"#fdca26\"],[1.0,\"#f0f921\"]],\"type\":\"histogram2d\"}],\"histogram\":[{\"marker\":{\"pattern\":{\"fillmode\":\"overlay\",\"size\":10,\"solidity\":0.2}},\"type\":\"histogram\"}],\"mesh3d\":[{\"colorbar\":{\"outlinewidth\":0,\"ticks\":\"\"},\"type\":\"mesh3d\"}],\"parcoords\":[{\"line\":{\"colorbar\":{\"outlinewidth\":0,\"ticks\":\"\"}},\"type\":\"parcoords\"}],\"pie\":[{\"automargin\":true,\"type\":\"pie\"}],\"scatter3d\":[{\"line\":{\"colorbar\":{\"outlinewidth\":0,\"ticks\":\"\"}},\"marker\":{\"colorbar\":{\"outlinewidth\":0,\"ticks\":\"\"}},\"type\":\"scatter3d\"}],\"scattercarpet\":[{\"marker\":{\"colorbar\":{\"outlinewidth\":0,\"ticks\":\"\"}},\"type\":\"scattercarpet\"}],\"scattergeo\":[{\"marker\":{\"colorbar\":{\"outlinewidth\":0,\"ticks\":\"\"}},\"type\":\"scattergeo\"}],\"scattergl\":[{\"marker\":{\"colorbar\":{\"outlinewidth\":0,\"ticks\":\"\"}},\"type\":\"scattergl\"}],\"scattermapbox\":[{\"marker\":{\"colorbar\":{\"outlinewidth\":0,\"ticks\":\"\"}},\"type\":\"scattermapbox\"}],\"scatterpolargl\":[{\"marker\":{\"colorbar\":{\"outlinewidth\":0,\"ticks\":\"\"}},\"type\":\"scatterpolargl\"}],\"scatterpolar\":[{\"marker\":{\"colorbar\":{\"outlinewidth\":0,\"ticks\":\"\"}},\"type\":\"scatterpolar\"}],\"scatter\":[{\"fillpattern\":{\"fillmode\":\"overlay\",\"size\":10,\"solidity\":0.2},\"type\":\"scatter\"}],\"scatterternary\":[{\"marker\":{\"colorbar\":{\"outlinewidth\":0,\"ticks\":\"\"}},\"type\":\"scatterternary\"}],\"surface\":[{\"colorbar\":{\"outlinewidth\":0,\"ticks\":\"\"},\"colorscale\":[[0.0,\"#0d0887\"],[0.1111111111111111,\"#46039f\"],[0.2222222222222222,\"#7201a8\"],[0.3333333333333333,\"#9c179e\"],[0.4444444444444444,\"#bd3786\"],[0.5555555555555556,\"#d8576b\"],[0.6666666666666666,\"#ed7953\"],[0.7777777777777778,\"#fb9f3a\"],[0.8888888888888888,\"#fdca26\"],[1.0,\"#f0f921\"]],\"type\":\"surface\"}],\"table\":[{\"cells\":{\"fill\":{\"color\":\"#EBF0F8\"},\"line\":{\"color\":\"white\"}},\"header\":{\"fill\":{\"color\":\"#C8D4E3\"},\"line\":{\"color\":\"white\"}},\"type\":\"table\"}]},\"layout\":{\"annotationdefaults\":{\"arrowcolor\":\"#2a3f5f\",\"arrowhead\":0,\"arrowwidth\":1},\"autotypenumbers\":\"strict\",\"coloraxis\":{\"colorbar\":{\"outlinewidth\":0,\"ticks\":\"\"}},\"colorscale\":{\"diverging\":[[0,\"#8e0152\"],[0.1,\"#c51b7d\"],[0.2,\"#de77ae\"],[0.3,\"#f1b6da\"],[0.4,\"#fde0ef\"],[0.5,\"#f7f7f7\"],[0.6,\"#e6f5d0\"],[0.7,\"#b8e186\"],[0.8,\"#7fbc41\"],[0.9,\"#4d9221\"],[1,\"#276419\"]],\"sequential\":[[0.0,\"#0d0887\"],[0.1111111111111111,\"#46039f\"],[0.2222222222222222,\"#7201a8\"],[0.3333333333333333,\"#9c179e\"],[0.4444444444444444,\"#bd3786\"],[0.5555555555555556,\"#d8576b\"],[0.6666666666666666,\"#ed7953\"],[0.7777777777777778,\"#fb9f3a\"],[0.8888888888888888,\"#fdca26\"],[1.0,\"#f0f921\"]],\"sequentialminus\":[[0.0,\"#0d0887\"],[0.1111111111111111,\"#46039f\"],[0.2222222222222222,\"#7201a8\"],[0.3333333333333333,\"#9c179e\"],[0.4444444444444444,\"#bd3786\"],[0.5555555555555556,\"#d8576b\"],[0.6666666666666666,\"#ed7953\"],[0.7777777777777778,\"#fb9f3a\"],[0.8888888888888888,\"#fdca26\"],[1.0,\"#f0f921\"]]},\"colorway\":[\"#636efa\",\"#EF553B\",\"#00cc96\",\"#ab63fa\",\"#FFA15A\",\"#19d3f3\",\"#FF6692\",\"#B6E880\",\"#FF97FF\",\"#FECB52\"],\"font\":{\"color\":\"#2a3f5f\"},\"geo\":{\"bgcolor\":\"white\",\"lakecolor\":\"white\",\"landcolor\":\"#E5ECF6\",\"showlakes\":true,\"showland\":true,\"subunitcolor\":\"white\"},\"hoverlabel\":{\"align\":\"left\"},\"hovermode\":\"closest\",\"mapbox\":{\"style\":\"light\"},\"paper_bgcolor\":\"white\",\"plot_bgcolor\":\"#E5ECF6\",\"polar\":{\"angularaxis\":{\"gridcolor\":\"white\",\"linecolor\":\"white\",\"ticks\":\"\"},\"bgcolor\":\"#E5ECF6\",\"radialaxis\":{\"gridcolor\":\"white\",\"linecolor\":\"white\",\"ticks\":\"\"}},\"scene\":{\"xaxis\":{\"backgroundcolor\":\"#E5ECF6\",\"gridcolor\":\"white\",\"gridwidth\":2,\"linecolor\":\"white\",\"showbackground\":true,\"ticks\":\"\",\"zerolinecolor\":\"white\"},\"yaxis\":{\"backgroundcolor\":\"#E5ECF6\",\"gridcolor\":\"white\",\"gridwidth\":2,\"linecolor\":\"white\",\"showbackground\":true,\"ticks\":\"\",\"zerolinecolor\":\"white\"},\"zaxis\":{\"backgroundcolor\":\"#E5ECF6\",\"gridcolor\":\"white\",\"gridwidth\":2,\"linecolor\":\"white\",\"showbackground\":true,\"ticks\":\"\",\"zerolinecolor\":\"white\"}},\"shapedefaults\":{\"line\":{\"color\":\"#2a3f5f\"}},\"ternary\":{\"aaxis\":{\"gridcolor\":\"white\",\"linecolor\":\"white\",\"ticks\":\"\"},\"baxis\":{\"gridcolor\":\"white\",\"linecolor\":\"white\",\"ticks\":\"\"},\"bgcolor\":\"#E5ECF6\",\"caxis\":{\"gridcolor\":\"white\",\"linecolor\":\"white\",\"ticks\":\"\"}},\"title\":{\"x\":0.05},\"xaxis\":{\"automargin\":true,\"gridcolor\":\"white\",\"linecolor\":\"white\",\"ticks\":\"\",\"title\":{\"standoff\":15},\"zerolinecolor\":\"white\",\"zerolinewidth\":2},\"yaxis\":{\"automargin\":true,\"gridcolor\":\"white\",\"linecolor\":\"white\",\"ticks\":\"\",\"title\":{\"standoff\":15},\"zerolinecolor\":\"white\",\"zerolinewidth\":2}}},\"title\":{\"text\":\"Client District Density Plot\"},\"xaxis\":{\"anchor\":\"y2\",\"domain\":[0.0,1.0],\"title\":{\"text\":\"Disrict\"},\"zeroline\":false},\"yaxis\":{\"anchor\":\"free\",\"domain\":[0.0,1],\"position\":0.0}},                        {\"responsive\": true}                    ).then(function(){\n",
       "                            \n",
       "var gd = document.getElementById('55d720d8-08f7-4f7d-b831-7cd06ce1eda4');\n",
       "var x = new MutationObserver(function (mutations, observer) {{\n",
       "        var display = window.getComputedStyle(gd).display;\n",
       "        if (!display || display === 'none') {{\n",
       "            console.log([gd, 'removed!']);\n",
       "            Plotly.purge(gd);\n",
       "            observer.disconnect();\n",
       "        }}\n",
       "}});\n",
       "\n",
       "// Listen for the removal of the full notebook cells\n",
       "var notebookContainer = gd.closest('#notebook-container');\n",
       "if (notebookContainer) {{\n",
       "    x.observe(notebookContainer, {childList: true});\n",
       "}}\n",
       "\n",
       "// Listen for the clearing of the current output cell\n",
       "var outputEl = gd.closest('.output');\n",
       "if (outputEl) {{\n",
       "    x.observe(outputEl, {childList: true});\n",
       "}}\n",
       "\n",
       "                        })                };                });            </script>        </div>"
      ]
     },
     "metadata": {},
     "output_type": "display_data"
    }
   ],
   "source": [
    "target_0 = client_train.loc[client_train['target'] == 0][\"disrict\"]\n",
    "target_1 = client_train.loc[client_train['target'] == 1][\"disrict\"]\n",
    "\n",
    "hist_data = [target_0, target_1]\n",
    "group_labels = ['Not Fraud', 'Fraud']\n",
    "\n",
    "fig = ff.create_distplot(hist_data, group_labels, show_hist=False, show_rug=False)\n",
    "fig['layout'].update(title='Client District Density Plot', xaxis=dict(title='Disrict'))\n",
    "iplot(fig, filename='dist_only')"
   ]
  },
  {
   "cell_type": "code",
   "execution_count": 23,
   "id": "15e4b5de",
   "metadata": {},
   "outputs": [
    {
     "data": {
      "application/vnd.plotly.v1+json": {
       "config": {
        "linkText": "Export to plot.ly",
        "plotlyServerURL": "https://plot.ly",
        "showLink": false
       },
       "data": [
        {
         "legendgroup": "Not Fraud",
         "marker": {
          "color": "rgb(31, 119, 180)"
         },
         "mode": "lines",
         "name": "Not Fraud",
         "showlegend": true,
         "type": "scatter",
         "x": [
          101,
          101.596,
          102.192,
          102.788,
          103.384,
          103.98,
          104.576,
          105.172,
          105.768,
          106.364,
          106.96,
          107.556,
          108.152,
          108.748,
          109.344,
          109.94,
          110.536,
          111.132,
          111.728,
          112.324,
          112.92,
          113.516,
          114.112,
          114.708,
          115.304,
          115.9,
          116.496,
          117.092,
          117.688,
          118.28399999999999,
          118.88,
          119.476,
          120.072,
          120.668,
          121.264,
          121.86,
          122.456,
          123.05199999999999,
          123.648,
          124.244,
          124.84,
          125.436,
          126.032,
          126.628,
          127.224,
          127.82,
          128.416,
          129.012,
          129.608,
          130.204,
          130.8,
          131.39600000000002,
          131.992,
          132.588,
          133.184,
          133.78,
          134.376,
          134.972,
          135.56799999999998,
          136.164,
          136.76,
          137.356,
          137.952,
          138.548,
          139.144,
          139.74,
          140.336,
          140.93200000000002,
          141.528,
          142.124,
          142.72,
          143.316,
          143.912,
          144.508,
          145.10399999999998,
          145.7,
          146.296,
          146.892,
          147.488,
          148.084,
          148.68,
          149.276,
          149.872,
          150.46800000000002,
          151.064,
          151.66,
          152.256,
          152.852,
          153.448,
          154.04399999999998,
          154.64,
          155.236,
          155.832,
          156.428,
          157.024,
          157.62,
          158.216,
          158.812,
          159.40800000000002,
          160.004,
          160.6,
          161.196,
          161.792,
          162.388,
          162.984,
          163.57999999999998,
          164.176,
          164.772,
          165.368,
          165.964,
          166.56,
          167.156,
          167.752,
          168.348,
          168.94400000000002,
          169.54000000000002,
          170.136,
          170.732,
          171.328,
          171.924,
          172.51999999999998,
          173.11599999999999,
          173.712,
          174.308,
          174.904,
          175.5,
          176.096,
          176.692,
          177.288,
          177.88400000000001,
          178.48000000000002,
          179.076,
          179.672,
          180.268,
          180.864,
          181.45999999999998,
          182.05599999999998,
          182.652,
          183.248,
          183.844,
          184.44,
          185.036,
          185.632,
          186.228,
          186.824,
          187.42000000000002,
          188.01600000000002,
          188.612,
          189.208,
          189.804,
          190.4,
          190.99599999999998,
          191.59199999999998,
          192.188,
          192.784,
          193.38,
          193.976,
          194.572,
          195.168,
          195.764,
          196.36,
          196.95600000000002,
          197.55200000000002,
          198.148,
          198.744,
          199.34,
          199.936,
          200.53199999999998,
          201.128,
          201.724,
          202.32,
          202.916,
          203.512,
          204.108,
          204.704,
          205.3,
          205.89600000000002,
          206.49200000000002,
          207.088,
          207.684,
          208.28,
          208.876,
          209.47199999999998,
          210.06799999999998,
          210.664,
          211.26,
          211.856,
          212.452,
          213.048,
          213.644,
          214.24,
          214.836,
          215.43200000000002,
          216.02800000000002,
          216.624,
          217.22,
          217.816,
          218.412,
          219.00799999999998,
          219.60399999999998,
          220.2,
          220.796,
          221.392,
          221.988,
          222.584,
          223.18,
          223.776,
          224.372,
          224.96800000000002,
          225.564,
          226.16,
          226.756,
          227.352,
          227.94799999999998,
          228.54399999999998,
          229.14,
          229.736,
          230.332,
          230.928,
          231.524,
          232.12,
          232.716,
          233.312,
          233.908,
          234.504,
          235.1,
          235.696,
          236.292,
          236.888,
          237.484,
          238.08,
          238.676,
          239.272,
          239.868,
          240.464,
          241.06,
          241.656,
          242.252,
          242.848,
          243.444,
          244.04,
          244.636,
          245.232,
          245.828,
          246.424,
          247.02,
          247.616,
          248.212,
          248.808,
          249.404,
          250,
          250.596,
          251.192,
          251.788,
          252.384,
          252.98,
          253.576,
          254.172,
          254.768,
          255.364,
          255.96,
          256.55600000000004,
          257.152,
          257.748,
          258.344,
          258.94,
          259.536,
          260.132,
          260.728,
          261.324,
          261.91999999999996,
          262.51599999999996,
          263.11199999999997,
          263.70799999999997,
          264.304,
          264.9,
          265.496,
          266.092,
          266.688,
          267.284,
          267.88,
          268.476,
          269.072,
          269.668,
          270.264,
          270.86,
          271.456,
          272.052,
          272.648,
          273.244,
          273.84000000000003,
          274.43600000000004,
          275.03200000000004,
          275.628,
          276.224,
          276.82,
          277.416,
          278.012,
          278.608,
          279.204,
          279.8,
          280.39599999999996,
          280.99199999999996,
          281.58799999999997,
          282.18399999999997,
          282.78,
          283.376,
          283.972,
          284.568,
          285.164,
          285.76,
          286.356,
          286.952,
          287.548,
          288.144,
          288.74,
          289.336,
          289.932,
          290.528,
          291.124,
          291.72,
          292.31600000000003,
          292.91200000000003,
          293.50800000000004,
          294.10400000000004,
          294.7,
          295.296,
          295.892,
          296.488,
          297.084,
          297.68,
          298.276,
          298.872,
          299.46799999999996,
          300.06399999999996,
          300.65999999999997,
          301.256,
          301.852,
          302.448,
          303.044,
          303.64,
          304.236,
          304.832,
          305.428,
          306.024,
          306.62,
          307.216,
          307.812,
          308.408,
          309.004,
          309.6,
          310.196,
          310.79200000000003,
          311.38800000000003,
          311.98400000000004,
          312.58000000000004,
          313.176,
          313.772,
          314.368,
          314.964,
          315.56,
          316.156,
          316.752,
          317.348,
          317.94399999999996,
          318.53999999999996,
          319.13599999999997,
          319.73199999999997,
          320.328,
          320.924,
          321.52,
          322.116,
          322.712,
          323.308,
          323.904,
          324.5,
          325.096,
          325.692,
          326.288,
          326.884,
          327.48,
          328.076,
          328.672,
          329.26800000000003,
          329.86400000000003,
          330.46000000000004,
          331.05600000000004,
          331.652,
          332.248,
          332.844,
          333.44,
          334.036,
          334.632,
          335.228,
          335.824,
          336.41999999999996,
          337.01599999999996,
          337.61199999999997,
          338.20799999999997,
          338.804,
          339.4,
          339.996,
          340.592,
          341.188,
          341.784,
          342.38,
          342.976,
          343.572,
          344.168,
          344.764,
          345.36,
          345.956,
          346.552,
          347.148,
          347.744,
          348.34000000000003,
          348.93600000000004,
          349.53200000000004,
          350.128,
          350.724,
          351.32,
          351.916,
          352.512,
          353.108,
          353.704,
          354.3,
          354.89599999999996,
          355.49199999999996,
          356.08799999999997,
          356.68399999999997,
          357.28,
          357.876,
          358.472,
          359.068,
          359.664,
          360.26,
          360.856,
          361.452,
          362.048,
          362.644,
          363.24,
          363.836,
          364.432,
          365.028,
          365.624,
          366.22,
          366.816,
          367.412,
          368.008,
          368.604,
          369.2,
          369.796,
          370.392,
          370.988,
          371.584,
          372.18,
          372.776,
          373.372,
          373.968,
          374.564,
          375.16,
          375.756,
          376.352,
          376.948,
          377.544,
          378.14,
          378.736,
          379.332,
          379.928,
          380.524,
          381.12,
          381.716,
          382.312,
          382.908,
          383.504,
          384.1,
          384.696,
          385.292,
          385.888,
          386.484,
          387.08,
          387.676,
          388.272,
          388.868,
          389.464,
          390.06,
          390.656,
          391.252,
          391.848,
          392.444,
          393.04,
          393.636,
          394.232,
          394.828,
          395.424,
          396.02,
          396.616,
          397.212,
          397.808,
          398.404
         ],
         "xaxis": "x",
         "y": [
          0.019442110240635312,
          0.019611026642809982,
          0.019713304063903196,
          0.019747924915995002,
          0.01971456760905715,
          0.019613611431102636,
          0.019446129403846397,
          0.019213869301205746,
          0.018919223300582162,
          0.01856518700298745,
          0.018155308802739367,
          0.017693630802326728,
          0.017184622644074925,
          0.016633109769450982,
          0.016044197708402652,
          0.015423194048651471,
          0.01477552973688194,
          0.01410668131957579,
          0.013422095648416973,
          0.012727118451961825,
          0.012026928022358645,
          0.011326475086040337,
          0.010630429728084177,
          0.009943136028551064,
          0.009268574852204987,
          0.008610335017900145,
          0.0079715928653476,
          0.007355100043395636,
          0.006763179166661067,
          0.0061977268340154,
          0.005660223371949809,
          0.005151748564435947,
          0.004673002554990536,
          0.004224331059990422,
          0.0038057540109465104,
          0.003416996747609193,
          0.003057522909788416,
          0.0027265682215096717,
          0.002423174422923273,
          0.0021462226799315847,
          0.0018944658853011782,
          0.0016665593547500444,
          0.0014610895137433222,
          0.0012766002627305115,
          0.0011116167975940708,
          0.0009646667459836631,
          0.0008342985573267658,
          0.0007190971531327847,
          0.000617696903911362,
          0.0005287920492057053,
          0.00045114471762884725,
          0.0003835907346331869,
          0.0003250434275435387,
          0.000274495650768893,
          0.00023102025996281803,
          0.0001937692631574065,
          0.00016197187059854138,
          0.0001349316541676215,
          0.00011202301291613749,
          9.268712433624805e-05,
          7.642754239983402e-05,
          6.280558394753318e-05,
          5.1435625360088405e-05,
          4.198041217965801e-05,
          3.4146465944032504e-05,
          2.767965529007346e-05,
          2.236098265153639e-05,
          1.8002623768588178e-05,
          1.4444244843688819e-05,
          1.1549611521964044e-05,
          9.203494922044297e-06,
          7.308872598224133e-06,
          5.784416471930115e-06,
          4.562255285849499e-06,
          3.5859958587054163e-06,
          2.8089851946042555e-06,
          2.1927941717785263e-06,
          1.7059029496656523e-06,
          1.322568250130221e-06,
          1.0218531574556539e-06,
          7.868009280280193e-07,
          6.037354023206901e-07,
          4.616718830922351e-07,
          3.5182371206885976e-07,
          2.671911842853254e-07,
          2.0222083816518052e-07,
          1.525245148595469e-07,
          1.1464886647881997e-07,
          8.588719190279875e-08,
          6.412657992460273e-08,
          4.772433720848588e-08,
          3.540857186869982e-08,
          2.6198594723967714e-08,
          1.9341494152820046e-08,
          1.4261843377549404e-08,
          1.0522018352296993e-08,
          7.791048201213802e-09,
          5.820296442607177e-09,
          4.4245880006536754e-09,
          3.467661825626606e-09,
          2.851048878725504e-09,
          2.505656750515649e-09,
          2.3854910782839357e-09,
          2.4630653572045012e-09,
          2.7261492033604273e-09,
          3.175584511192571e-09,
          3.8239625697581566e-09,
          4.6950058575223005e-09,
          5.8235382536023705e-09,
          7.255958700014424e-09,
          9.051157480797189e-09,
          1.128183249339008e-08,
          1.403617615511522e-08,
          1.741991267031291e-08,
          2.1558670853893847e-08,
          2.6600679992609083e-08,
          3.271977563373264e-08,
          4.011869895001845e-08,
          4.903266760535221e-08,
          5.973318797398041e-08,
          7.253206827734658e-08,
          8.778557983920853e-08,
          1.058986994037875e-07,
          1.2732934955365963e-07,
          1.525925370048567e-07,
          1.822642703618184e-07,
          2.1698512026222178e-07,
          2.574632663522881e-07,
          3.044768579093703e-07,
          3.588754989830703e-07,
          4.2158065559120844e-07,
          4.935847727202448e-07,
          5.759488837545606e-07,
          6.697984954504072e-07,
          7.763175388320148e-07,
          8.967401912536303e-07,
          1.0323403982879176e-06,
          1.18441895671162e-06,
          1.3542880619767574e-06,
          1.5432532755592818e-06,
          1.75259292889519e-06,
          1.9835350509979806e-06,
          2.237231985020967e-06,
          2.5147329434150288e-06,
          2.8169548403386785e-06,
          3.1446518307192992e-06,
          3.4983840753681673e-06,
          3.878486337539425e-06,
          4.2850370948258035e-06,
          4.71782891787406e-06,
          5.1763409203035445e-06,
          5.659714119123664e-06,
          6.166730558555333e-06,
          6.695797039859816e-06,
          7.24493426325636e-06,
          7.811772124058746e-06,
          8.39355181318152e-06,
          8.987135252702324e-06,
          9.58902225177762e-06,
          1.0195375599562303e-05,
          1.0802054123620071e-05,
          1.1404653539389975e-05,
          1.1998554704254212e-05,
          1.2578978675019562e-05,
          1.3141047757105372e-05,
          1.3679851534615866e-05,
          1.4190516689978524e-05,
          1.4668279266873777e-05,
          1.5108557907115891e-05,
          1.550702650645956e-05,
          1.5859684690374308e-05,
          1.6162924511673708e-05,
          1.6413591819030716e-05,
          1.660904083873348e-05,
          1.67471806497594e-05,
          1.6826512410928634e-05,
          1.6846156413561835e-05,
          1.6805868277337117e-05,
          1.670604387339779e-05,
          1.6547712838806797e-05,
          1.6332520831232643e-05,
          1.6062700953138957e-05,
          1.574103504175297e-05,
          1.537080576622877e-05,
          1.4955740689072406e-05,
          1.449994962854795e-05,
          1.400785679731226e-05,
          1.3484129286343904e-05,
          1.2933603510412072e-05,
          1.2361211231645184e-05,
          1.177190673262547e-05,
          1.1170596622831578e-05,
          1.0562073636535053e-05,
          9.9509556219514e-06,
          9.341630736976165e-06,
          8.738209663247645e-06,
          8.144485434928888e-06,
          7.563901258873551e-06,
          6.999526485848021e-06,
          6.454040684802695e-06,
          5.929725579780107e-06,
          5.4284644365718895e-06,
          4.951748338063219e-06,
          4.500688665598883e-06,
          4.076035010780176e-06,
          3.678197677926274e-06,
          3.30727390220335e-06,
          2.9630768997278713e-06,
          2.6451668827008664e-06,
          2.352883210918174e-06,
          2.085376908255431e-06,
          1.841642844883521e-06,
          1.620550969393251e-06,
          1.420876065996848e-06,
          1.2413256068096434e-06,
          1.0805653646505662e-06,
          9.372425449010111e-07,
          8.100062831238798e-07,
          6.97525436373747e-07,
          5.985036688381074e-07,
          5.116918955847321e-07,
          4.3589820110683025e-07,
          3.699953918833918e-07,
          3.129263745110031e-07,
          2.637075735537051e-07,
          2.2143061694292028e-07,
          1.8526252239372547e-07,
          1.5444461702132722e-07,
          1.2829041527280778e-07,
          1.061826685899945e-07,
          8.756978507105644e-08,
          7.19617998782452e-08,
          5.8926058291377414e-08,
          4.808275406035034e-08,
          3.910044690586508e-08,
          3.169166540527685e-08,
          2.5608685734163084e-08,
          2.0639563411458455e-08,
          1.660448485300285e-08,
          1.3352498703253116e-08,
          1.075868411536701e-08,
          8.72181496864989e-09,
          7.1625861091840405e-09,
          6.022480863284295e-09,
          5.263379259816707e-09,
          4.868034777100884e-09,
          4.841585431006673e-09,
          5.2143143792055915e-09,
          6.045938016591639e-09,
          7.431778256828773e-09,
          9.511273239951569e-09,
          1.2479400438558e-08,
          1.6601731888928126e-08,
          2.2234017352669028e-08,
          2.984740236946383e-08,
          4.0060639532948165e-08,
          5.368094835327109e-08,
          7.175552736752244e-08,
          9.563612729988488e-08,
          1.27059561360716e-07,
          1.6824756288976177e-07,
          2.2203000517344628e-07,
          2.9199617556671085e-07,
          3.826795460982594e-07,
          4.997823028640701e-07,
          6.504467805017656e-07,
          8.435818853739217e-07,
          1.0902535659917945e-06,
          1.40414937981255e-06,
          1.8021281829434001e-06,
          2.3048668967378347e-06,
          2.9376171374128556e-06,
          3.731085177395863e-06,
          4.722449176061944e-06,
          5.956527800216888e-06,
          7.487114168917032e-06,
          9.378488413769187e-06,
          1.1707120949070014e-05,
          1.4563576696972514e-05,
          1.805462791113157e-05,
          2.230557979203842e-05,
          2.7462808699614133e-05,
          3.369650736865445e-05,
          4.120362506454231e-05,
          5.021098305119909e-05,
          6.097853708335029e-05,
          7.3802748924532e-05,
          8.902001821965183e-05,
          0.00010701011456374045,
          0.00012819953749710602,
          0.00015306471969791122,
          0.00018213497614679813,
          0.00021599508990354597,
          0.0002552874138010689,
          0.0003007133573290737,
          0.0003530341197961599,
          0.0004130705250742739,
          0.00048170181045795814,
          0.0005598632229515331,
          0.0006485422811939006,
          0.0007487735707386252,
          0.000861631954894171,
          0.0009882241031200856,
          0.0011296782642565369,
          0.0012871322425078802,
          0.0014617195701193987,
          0.0016545539115150366,
          0.001866711778796342,
          0.0020992136871375716,
          0.002353003929728093,
          0.002628929204255834,
          0.002927716375175832,
          0.0032499497066816162,
          0.003596047948572926,
          0.003966241699697419,
          0.0043605515093926035,
          0.004778767204989819,
          0.005220428951129373,
          0.0056848105535008695,
          0.00617090551409358,
          0.006677416326695105,
          0.0072027474694933286,
          0.007745002506403091,
          0.00830198565003435,
          0.008871208068373387,
          0.009449899134758742,
          0.010035022728666307,
          0.010623298594789441,
          0.011211228662164079,
          0.011795128116206218,
          0.012371160907304102,
          0.012935379272502153,
          0.01348376674512056,
          0.014012284033293545,
          0.01451691706552565,
          0.014993726431215961,
          0.015438897389955712,
          0.015848789585558357,
          0.01621998558266382,
          0.016549337343540558,
          0.01683400978443724,
          0.01707152059007053,
          0.01725977552553703,
          0.017397098561419924,
          0.01748225622277864,
          0.017514475680209682,
          0.017493456221590993,
          0.017419373871613096,
          0.017292879061631843,
          0.017115087389016653,
          0.016887563642474762,
          0.016612299402174856,
          0.01629168464886649,
          0.01592847393131029,
          0.015525747743298512,
          0.015086869847992497,
          0.014615441356415397,
          0.014115252417109527,
          0.013590232403832479,
          0.013044399498420197,
          0.012481810554812536,
          0.01190651210082443,
          0.011322493285093153,
          0.010733641511712553,
          0.01014370142500616,
          0.00955623781434258,
          0.00897460290786599,
          0.00840190841469436,
          0.007841002563938815,
          0.007294452275766768,
          0.006764530489549757,
          0.00625320856872624,
          0.005762153603925014,
          0.005292730347805762,
          0.0048460074379191274,
          0.0044227674995664075,
          0.004023520670184534,
          0.0036485210500221184,
          0.0032977855614493554,
          0.002971114690503442,
          0.002668114588471781,
          0.0023882200273870574,
          0.0021307177299190573,
          0.0018947696297340823,
          0.0016794356612426405,
          0.0014836957260105591,
          0.001306470535164394,
          0.0011466410811737792,
          0.0010030665468151688,
          0.0008746005123648875,
          0.0007601053728750605,
          0.0006584649246949624,
          0.0005685951231543467,
          0.0004894530511217367,
          0.0004200441702944286,
          0.00035942795354384523,
          0.0003067220172827179,
          0.0002611048878416355,
          0.00022181754552337885,
          0.00018816389475360303,
          0.00015951030909181374,
          0.00013528439636524415,
          0.00011497312247054226,
          9.812042306746439e-05,
          8.432442110315018e-05,
          7.32343554406681e-05,
          6.45473123893243e-05,
          5.8004838156163054e-05,
          5.338949660956979e-05,
          5.052142366090549e-05,
          4.925491735708324e-05,
          4.947509169743792e-05,
          5.1094612448581944e-05,
          5.405052496791446e-05,
          5.83011773533797e-05,
          6.382323714471072e-05,
          7.060879630340658e-05,
          7.866255723607437e-05,
          8.7999092114931e-05,
          9.86401685567242e-05,
          0.00011061213669877973,
          0.00012394337567731164,
          0.00013866180125894693,
          0.0001547924406967739,
          0.00017235508552913319,
          0.00019136203778787967,
          0.00021181596967915356,
          0.0002337079210159041,
          0.0002570154622838188,
          0.0002817010540035952,
          0.00030771063482438283,
          0.00033497247139153285,
          0.0003633963023594172,
          0.0003928728068846535,
          0.00042327342452397457,
          0.00045445054867439077,
          0.000486238109632462,
          0.000518452556135607,
          0.000550894236033115,
          0.0005833491678136838,
          0.000615591185262772,
          0.0006473844279225642,
          0.0006784861405318024,
          0.0007086497356231406,
          0.0007376280651863878,
          0.0007651768402207794,
          0.0007910581311962628,
          0.0008150438783601537,
          0.0008369193384811886,
          0.0008564863942761109,
          0.0008735666544025767,
          0.0008880042755625085,
          0.0008996684438401641,
          0.0009084554597876584,
          0.0009142903807144842,
          0.0009171281839081195,
          0.0009169544258009884,
          0.0009137853839905142,
          0.0009076676812902653,
          0.0008986774030830041,
          0.0008869187309570359,
          0.0008725221265029109,
          0.0008556421089225087,
          0.0008364546785569074,
          0.0008151544452446483,
          0.0007919515255433891,
          0.0007670682761267626,
          0.000740735932076582,
          0.0007131912184169724,
          0.0006846730010933057,
          0.0006554190399133735,
          0.0006256629008786913,
          0.0005956310790463615,
          0.0005655403758987463,
          0.0005355955673064519,
          0.0005059873899302865,
          0.0004768908654607229,
          0.000448463973776238,
          0.00042084667806751105,
          0.00039416029744157805,
          0.0003685072156375505,
          0.00034397090840328107,
          0.0003206162668329125,
          0.00029849018968449787,
          0.00027762241433291123,
          0.0002580265536145577,
          0.00023970130433085464,
          0.00022263179254665647,
          0.00020679102099113004,
          0.00019214138474293662,
          0.00017863622288511746,
          0.00016622137583942266,
          0.00015483672054782398,
          0.00014441765846127044,
          0.00013489653433280906,
          0.00012620396700817855,
          0.00011827007668437672,
          0.00011102559639139105,
          0.00010440285868466334,
          9.833665165594527e-05
         ],
         "yaxis": "y"
        },
        {
         "legendgroup": "Fraud",
         "marker": {
          "color": "rgb(255, 127, 14)"
         },
         "mode": "lines",
         "name": "Fraud",
         "showlegend": true,
         "type": "scatter",
         "x": [
          101,
          101.596,
          102.192,
          102.788,
          103.384,
          103.98,
          104.576,
          105.172,
          105.768,
          106.364,
          106.96,
          107.556,
          108.152,
          108.748,
          109.344,
          109.94,
          110.536,
          111.132,
          111.728,
          112.324,
          112.92,
          113.516,
          114.112,
          114.708,
          115.304,
          115.9,
          116.496,
          117.092,
          117.688,
          118.28399999999999,
          118.88,
          119.476,
          120.072,
          120.668,
          121.264,
          121.86,
          122.456,
          123.05199999999999,
          123.648,
          124.244,
          124.84,
          125.436,
          126.032,
          126.628,
          127.224,
          127.82,
          128.416,
          129.012,
          129.608,
          130.204,
          130.8,
          131.39600000000002,
          131.992,
          132.588,
          133.184,
          133.78,
          134.376,
          134.972,
          135.56799999999998,
          136.164,
          136.76,
          137.356,
          137.952,
          138.548,
          139.144,
          139.74,
          140.336,
          140.93200000000002,
          141.528,
          142.124,
          142.72,
          143.316,
          143.912,
          144.508,
          145.10399999999998,
          145.7,
          146.296,
          146.892,
          147.488,
          148.084,
          148.68,
          149.276,
          149.872,
          150.46800000000002,
          151.064,
          151.66,
          152.256,
          152.852,
          153.448,
          154.04399999999998,
          154.64,
          155.236,
          155.832,
          156.428,
          157.024,
          157.62,
          158.216,
          158.812,
          159.40800000000002,
          160.004,
          160.6,
          161.196,
          161.792,
          162.388,
          162.984,
          163.57999999999998,
          164.176,
          164.772,
          165.368,
          165.964,
          166.56,
          167.156,
          167.752,
          168.348,
          168.94400000000002,
          169.54000000000002,
          170.136,
          170.732,
          171.328,
          171.924,
          172.51999999999998,
          173.11599999999999,
          173.712,
          174.308,
          174.904,
          175.5,
          176.096,
          176.692,
          177.288,
          177.88400000000001,
          178.48000000000002,
          179.076,
          179.672,
          180.268,
          180.864,
          181.45999999999998,
          182.05599999999998,
          182.652,
          183.248,
          183.844,
          184.44,
          185.036,
          185.632,
          186.228,
          186.824,
          187.42000000000002,
          188.01600000000002,
          188.612,
          189.208,
          189.804,
          190.4,
          190.99599999999998,
          191.59199999999998,
          192.188,
          192.784,
          193.38,
          193.976,
          194.572,
          195.168,
          195.764,
          196.36,
          196.95600000000002,
          197.55200000000002,
          198.148,
          198.744,
          199.34,
          199.936,
          200.53199999999998,
          201.128,
          201.724,
          202.32,
          202.916,
          203.512,
          204.108,
          204.704,
          205.3,
          205.89600000000002,
          206.49200000000002,
          207.088,
          207.684,
          208.28,
          208.876,
          209.47199999999998,
          210.06799999999998,
          210.664,
          211.26,
          211.856,
          212.452,
          213.048,
          213.644,
          214.24,
          214.836,
          215.43200000000002,
          216.02800000000002,
          216.624,
          217.22,
          217.816,
          218.412,
          219.00799999999998,
          219.60399999999998,
          220.2,
          220.796,
          221.392,
          221.988,
          222.584,
          223.18,
          223.776,
          224.372,
          224.96800000000002,
          225.564,
          226.16,
          226.756,
          227.352,
          227.94799999999998,
          228.54399999999998,
          229.14,
          229.736,
          230.332,
          230.928,
          231.524,
          232.12,
          232.716,
          233.312,
          233.908,
          234.504,
          235.1,
          235.696,
          236.292,
          236.888,
          237.484,
          238.08,
          238.676,
          239.272,
          239.868,
          240.464,
          241.06,
          241.656,
          242.252,
          242.848,
          243.444,
          244.04,
          244.636,
          245.232,
          245.828,
          246.424,
          247.02,
          247.616,
          248.212,
          248.808,
          249.404,
          250,
          250.596,
          251.192,
          251.788,
          252.384,
          252.98,
          253.576,
          254.172,
          254.768,
          255.364,
          255.96,
          256.55600000000004,
          257.152,
          257.748,
          258.344,
          258.94,
          259.536,
          260.132,
          260.728,
          261.324,
          261.91999999999996,
          262.51599999999996,
          263.11199999999997,
          263.70799999999997,
          264.304,
          264.9,
          265.496,
          266.092,
          266.688,
          267.284,
          267.88,
          268.476,
          269.072,
          269.668,
          270.264,
          270.86,
          271.456,
          272.052,
          272.648,
          273.244,
          273.84000000000003,
          274.43600000000004,
          275.03200000000004,
          275.628,
          276.224,
          276.82,
          277.416,
          278.012,
          278.608,
          279.204,
          279.8,
          280.39599999999996,
          280.99199999999996,
          281.58799999999997,
          282.18399999999997,
          282.78,
          283.376,
          283.972,
          284.568,
          285.164,
          285.76,
          286.356,
          286.952,
          287.548,
          288.144,
          288.74,
          289.336,
          289.932,
          290.528,
          291.124,
          291.72,
          292.31600000000003,
          292.91200000000003,
          293.50800000000004,
          294.10400000000004,
          294.7,
          295.296,
          295.892,
          296.488,
          297.084,
          297.68,
          298.276,
          298.872,
          299.46799999999996,
          300.06399999999996,
          300.65999999999997,
          301.256,
          301.852,
          302.448,
          303.044,
          303.64,
          304.236,
          304.832,
          305.428,
          306.024,
          306.62,
          307.216,
          307.812,
          308.408,
          309.004,
          309.6,
          310.196,
          310.79200000000003,
          311.38800000000003,
          311.98400000000004,
          312.58000000000004,
          313.176,
          313.772,
          314.368,
          314.964,
          315.56,
          316.156,
          316.752,
          317.348,
          317.94399999999996,
          318.53999999999996,
          319.13599999999997,
          319.73199999999997,
          320.328,
          320.924,
          321.52,
          322.116,
          322.712,
          323.308,
          323.904,
          324.5,
          325.096,
          325.692,
          326.288,
          326.884,
          327.48,
          328.076,
          328.672,
          329.26800000000003,
          329.86400000000003,
          330.46000000000004,
          331.05600000000004,
          331.652,
          332.248,
          332.844,
          333.44,
          334.036,
          334.632,
          335.228,
          335.824,
          336.41999999999996,
          337.01599999999996,
          337.61199999999997,
          338.20799999999997,
          338.804,
          339.4,
          339.996,
          340.592,
          341.188,
          341.784,
          342.38,
          342.976,
          343.572,
          344.168,
          344.764,
          345.36,
          345.956,
          346.552,
          347.148,
          347.744,
          348.34000000000003,
          348.93600000000004,
          349.53200000000004,
          350.128,
          350.724,
          351.32,
          351.916,
          352.512,
          353.108,
          353.704,
          354.3,
          354.89599999999996,
          355.49199999999996,
          356.08799999999997,
          356.68399999999997,
          357.28,
          357.876,
          358.472,
          359.068,
          359.664,
          360.26,
          360.856,
          361.452,
          362.048,
          362.644,
          363.24,
          363.836,
          364.432,
          365.028,
          365.624,
          366.22,
          366.816,
          367.412,
          368.008,
          368.604,
          369.2,
          369.796,
          370.392,
          370.988,
          371.584,
          372.18,
          372.776,
          373.372,
          373.968,
          374.564,
          375.16,
          375.756,
          376.352,
          376.948,
          377.544,
          378.14,
          378.736,
          379.332,
          379.928,
          380.524,
          381.12,
          381.716,
          382.312,
          382.908,
          383.504,
          384.1,
          384.696,
          385.292,
          385.888,
          386.484,
          387.08,
          387.676,
          388.272,
          388.868,
          389.464,
          390.06,
          390.656,
          391.252,
          391.848,
          392.444,
          393.04,
          393.636,
          394.232,
          394.828,
          395.424,
          396.02,
          396.616,
          397.212,
          397.808,
          398.404
         ],
         "xaxis": "x",
         "y": [
          0.010817584048447891,
          0.01085976078522457,
          0.010889719015079086,
          0.010907357275937777,
          0.010912615904515012,
          0.010905477372477336,
          0.010885966383699527,
          0.010854149731842015,
          0.010810135919398549,
          0.010754074541273357,
          0.010686155437758024,
          0.010606607623648725,
          0.010515698001935634,
          0.01041372987218816,
          0.010301041245289957,
          0.010178002977625696,
          0.010045016739129947,
          0.009902512830760482,
          0.009750947867983957,
          0.009590802347692497,
          0.009422578116665602,
          0.009246795760188211,
          0.009063991929775413,
          0.008874716629098459,
          0.00867953047720954,
          0.008479001967943342,
          0.008273704744046692,
          0.008064214904054283,
          0.00785110835926616,
          0.00763495825738989,
          0.007416332488457653,
          0.007195791287592777,
          0.006973884948041128,
          0.006751151656643884,
          0.0065281154626147635,
          0.006305284389110003,
          0.006083148695667826,
          0.005862179298154216,
          0.005642826351393147,
          0.005425517998224233,
          0.00521065928727575,
          0.004998631260373331,
          0.00478979020911869,
          0.00458446709889467,
          0.004382967157315571,
          0.004185569622979136,
          0.003992527649321961,
          0.003804068357386319,
          0.0036203930304371267,
          0.003441677442589833,
          0.0032680723129269364,
          0.0030997038760337933,
          0.0029366745594089087,
          0.0027790637578663227,
          0.002626928694794697,
          0.0024803053600004517,
          0.0023392095138102275,
          0.0022036377471629054,
          0.0020735685875560217,
          0.0019489636409253258,
          0.0018297687598347627,
          0.0017159152287135645,
          0.001607320957295044,
          0.001503891673888016,
          0.0014055221106290309,
          0.001312097173418435,
          0.0012234930898245718,
          0.0011395785288494358,
          0.0010602156870640716,
          0.0009852613362500344,
          0.0009145678283078339,
          0.0008479840538159085,
          0.0007853563512286247,
          0.0007265293642975116,
          0.0006713468458681781,
          0.0006196524067506576,
          0.0005712902088785807,
          0.0005261056024549811,
          0.00048394570723422594,
          0.00044465993850317006,
          0.00040810047870155577,
          0.00037412269596094524,
          0.0003425855111419767,
          0.00031335171521207486,
          0.0002862882390312418,
          0.0002612663778008801,
          0.00023816197258450387,
          0.00021685555142690453,
          0.00019723243268607844,
          0.00017918279324777645,
          0.00016260170432163182,
          0.0001473891375195252,
          0.000133449943896547,
          0.00012069380859166616,
          0.00010903518364469223,
          9.839320148804766e-05,
          8.869157151979943e-05,
          7.985846206082914e-05,
          7.182636988503632e-05,
          6.45319793900404e-05,
          5.7916013348856064e-05,
          5.192307705121483e-05,
          4.650149751030474e-05,
          4.160315927569462e-05,
          3.7183338259817976e-05,
          3.320053485328902e-05,
          2.9616307475202426e-05,
          2.6395107579433996e-05,
          2.350411701734939e-05,
          2.0913088542058367e-05,
          1.859419012996276e-05,
          1.652185369218421e-05,
          1.4672628651870474e-05,
          1.3025040773592913e-05,
          1.155945654806586e-05,
          1.0257953359382417e-05,
          9.10419559275993e-06,
          8.083316778215366e-06,
          7.181807809669386e-06,
          6.387411229242596e-06,
          5.689021522874678e-06,
          5.076591335446158e-06,
          4.541043481064515e-06,
          4.0741885966776675e-06,
          3.6686482644079667e-06,
          3.3177834095380392e-06,
          3.0156277665973853e-06,
          2.7568261951159726e-06,
          2.5365776189877127e-06,
          2.3505823586487075e-06,
          2.194993623138584e-06,
          2.066372929206696e-06,
          1.961649216693629e-06,
          1.8780814331550093e-06,
          1.8132243658404102e-06,
          1.764897505467673e-06,
          1.731156733499832e-06,
          1.7102686326382758e-06,
          1.7006872288312071e-06,
          1.701032982063266e-06,
          1.7100738524136864e-06,
          1.7267082772344553e-06,
          1.7499499046408435e-06,
          1.7789139378117012e-06,
          1.8128049536993747e-06,
          1.8509060686473652e-06,
          1.8925693320244147e-06,
          1.937207237257841e-06,
          1.9842852475808196e-06,
          2.0333152413457747e-06,
          2.0838497889069013e-06,
          2.1354771798093997e-06,
          2.1878171253719324e-06,
          2.240517067668782e-06,
          2.293249031466688e-06,
          2.3457069608390993e-06,
          2.397604486956528e-06,
          2.4486730780133593e-06,
          2.4986605263664096e-06,
          2.5473297317549877e-06,
          2.5944577430241045e-06,
          2.6398350240045296e-06,
          2.6832649122262713e-06,
          2.7245632419588956e-06,
          2.7635581056429904e-06,
          2.8000897302148744e-06,
          2.8340104470878934e-06,
          2.865184736670642e-06,
          2.893489330315733e-06,
          2.918813354483114e-06,
          2.9410585037156865e-06,
          2.960139230767619e-06,
          2.975982943893189e-06,
          2.9885302029323486e-06,
          2.9977349074375397e-06,
          3.003564471634825e-06,
          3.0059999825657895e-06,
          3.0050363393279845e-06,
          3.000682372836704e-06,
          2.9929609471342504e-06,
          2.981909044823701e-06,
          2.9675778408419404e-06,
          2.9500327703890797e-06,
          2.929353598579811e-06,
          2.9056345010912024e-06,
          2.8789841668967566e-06,
          2.8495259360892934e-06,
          2.8173979877381912e-06,
          2.7827535948214846e-06,
          2.745761465435283e-06,
          2.706606191804849e-06,
          2.6654888310553006e-06,
          2.6226276442811887e-06,
          2.5782590232466747e-06,
          2.532638636959032e-06,
          2.4860428335234793e-06,
          2.4387703360440125e-06,
          2.391144274928552e-06,
          2.3435146027985165e-06,
          2.2962609423234958e-06,
          2.2497959216743885e-06,
          2.2045690569952193e-06,
          2.1610712462546393e-06,
          2.1198399441674094e-06,
          2.0814650934705363e-06,
          2.0465958938033644e-06,
          2.0159484956751648e-06,
          1.9903147136066235e-06,
          1.9705718593555034e-06,
          1.9576938033204156e-06,
          1.952763379570171e-06,
          1.956986257573998e-06,
          1.971706411444345e-06,
          1.9984233253936916e-06,
          2.03881108199798e-06,
          2.0947394877283368e-06,
          2.1682973979387597e-06,
          2.2618184109739894e-06,
          2.3779091081792145e-06,
          2.5194800232005315e-06,
          2.6897795299069205e-06,
          2.892430843400675e-06,
          3.131472332670518e-06,
          3.4114013463420595e-06,
          3.7372217544360796e-06,
          4.114495408815615e-06,
          4.5493977228878235e-06,
          5.048777566794885e-06,
          5.620221667574346e-06,
          6.2721236942459625e-06,
          7.0137581952553725e-06,
          7.855359539820459e-06,
          8.808205995227065e-06,
          9.884709048680329e-06,
          1.1098508054673064e-05,
          1.2464570256618976e-05,
          1.3999296194619286e-05,
          1.57206304691638e-05,
          1.7648177783416428e-05,
          1.980332413400737e-05,
          2.220936296202423e-05,
          2.4891626011875573e-05,
          2.78776185760448e-05,
          3.119715872822738e-05,
          3.488252006624427e-05,
          3.8968577399433215e-05,
          4.349295472332449e-05,
          4.849617472745678e-05,
          5.402180898078147e-05,
          6.011662783359965e-05,
          6.683074896613334e-05,
          7.421778340235317e-05,
          8.233497769430806e-05,
          9.124335086813131e-05,
          0.00010100782460904159,
          0.00011169734505029789,
          0.0001233849944214831,
          0.00013614809070624896,
          0.00015006827336015236,
          0.00016523157304714669,
          0.00018172846327032472,
          0.0001996538917009442,
          0.00021910728895011217,
          0.00024019255248388592,
          0.00026301800335426403,
          0.00028769631340992913,
          0.00031434440066177994,
          0.0003430832905122545,
          0.00037403794061517394,
          0.0004073370272167267,
          0.0004431126909391509,
          0.0004815002401081935,
          0.0005226378098950307,
          0.0005666659757438625,
          0.0006137273197872529,
          0.0006639659492153652,
          0.0007175269658599169,
          0.0007745558865800575,
          0.0008351980143946375,
          0.000899597760692349,
          0.0009678979192648113,
          0.001040238893349792,
          0.00111675787733409,
          0.0011975879952519969,
          0.0012828573987162808,
          0.0013726883274341208,
          0.0014671961359856622,
          0.0015664882910705028,
          0.0016706633439587861,
          0.0017798098834020232,
          0.0018940054747763283,
          0.002013315591715608,
          0.002137792546971062,
          0.002267474429667092,
          0.002402384056529097,
          0.0025425279450199045,
          0.002687895316631683,
          0.0028384571388383006,
          0.00299416521440691,
          0.00315495132689614,
          0.0033207264512280497,
          0.0034913800381973638,
          0.003666779381684038,
          0.00384676907715425,
          0.004031170579758879,
          0.004219781869987961,
          0.0044123772343884924,
          0.004608707168318237,
          0.004808498407087108,
          0.0050114540911269405,
          0.005217254070041099,
          0.005425555349513667,
          0.005635992684118982,
          0.0058481793180597645,
          0.006061707874796046,
          0.006276151395409165,
          0.006491064524377371,
          0.006705984840255321,
          0.006920434327530473,
          0.0071339209846978556,
          0.007345940562393599,
          0.0075559784241934535,
          0.007763511521520523,
          0.007968010472949283,
          0.008168941737124149,
          0.008365769867457165,
          0.008557959835837717,
          0.008744979411725518,
          0.008926301582217615,
          0.00910140699804832,
          0.009269786429920575,
          0.00943094321916879,
          0.009584395706467413,
          0.009729679622161069,
          0.009866350421783854,
          0.009993985550490074,
          0.010112186620393345,
          0.010220581485264514,
          0.010318826197592532,
          0.010406606833749638,
          0.0104836411738348,
          0.01054968022375859,
          0.01060450956821887,
          0.010647950544422753,
          0.010679861227714513,
          0.01070013722165008,
          0.010708712246533872,
          0.010705558521925616,
          0.010690686940219376,
          0.010664147029957188,
          0.010626026709175408,
          0.010576451830651612,
          0.010515585522525175,
          0.010443627329311396,
          0.010360812159813024,
          0.010267409049888479,
          0.010163719749384926,
          0.010050077143814961,
          0.009926843522510746,
          0.009794408706076554,
          0.009653188046833936,
          0.009503620316820612,
          0.009346165498511432,
          0.009181302493996204,
          0.009009526768691078,
          0.008831347945924939,
          0.00864728736880481,
          0.008457875645717572,
          0.008263650195621525,
          0.008065152808943326,
          0.0078629272394353,
          0.007657516841744984,
          0.007449462268753798,
          0.007239299241927323,
          0.007027556407008136,
          0.006814753286402476,
          0.006601398338540671,
          0.006387987133380599,
          0.006175000652049235,
          0.00596290371742153,
          0.0057521435612176465,
          0.005543148531960353,
          0.005336326946929951,
          0.005132066090021546,
          0.004930731356254457,
          0.00473266554252687,
          0.004538188283120783,
          0.004347595627430698,
          0.004161159756416618,
          0.003979128833385531,
          0.0038017269838911683,
          0.003629154398800872,
          0.0034615875539379093,
          0.003299179539145447,
          0.003142060489152946,
          0.002990338108251214,
          0.0028440982804981817,
          0.002703405756986231,
          0.002568304911588539,
          0.0024388205565845597,
          0.0023149588096167575,
          0.002196708003561696,
          0.0020840396310991814,
          0.001976909316024624,
          0.0018752578036683911,
          0.0017790119631585428,
          0.001688085794672182,
          0.0016023814352741047,
          0.0015217901574153636,
          0.001446193354669079,
          0.00137546350979425,
          0.001309465140745546,
          0.0012480557207709788,
          0.0011910865692686347,
          0.0011384037105839878,
          0.0010898486984316851,
          0.0010452594041094508,
          0.001004470767127684,
          0.0009673155073136817,
          0.0009336247978500694,
          0.0009032288990808698,
          0.0008759577532521215,
          0.0008516415406592778,
          0.0008301111979370486,
          0.0008111988994577722,
          0.0007947385029970369,
          0.0007805659609832698,
          0.0007685196987709373,
          0.000758440961466259,
          0.0007501741308949002,
          0.0007435670143281144,
          0.0007384711065889671,
          0.0007347418271363898,
          0.0007322387336834273,
          0.0007308257138417556,
          0.0007303711562087474,
          0.0007307481022199292,
          0.0007318343799897187,
          0.0007335127212543426,
          0.0007356708624163845,
          0.000738201630576771,
          0.0007410030153232087,
          0.0007439782269329905,
          0.0007470357415401795,
          0.0007500893337159354,
          0.0007530580968188644,
          0.0007558664513881043,
          0.0007584441417809093,
          0.0007607262211940793,
          0.0007626530251616256,
          0.0007641701335837681,
          0.0007652283213198866,
          0.0007657834973667322,
          0.0007657966326445663,
          0.0007652336764279098,
          0.0007640654614803286,
          0.0007622675979877801,
          0.0007598203564290327,
          0.0007567085395704504,
          0.0007529213438336208,
          0.0007484522103451167,
          0.0007432986660459907,
          0.0007374621553095891,
          0.0007309478625851997,
          0.0007237645266593957,
          0.0007159242471934835,
          0.0007074422842650536,
          0.0006983368517035442,
          0.0006886289050676105,
          0.0006783419251652757,
          0.0006675016980616306,
          0.0006561360925574309,
          0.0006442748361502762,
          0.0006319492905108153,
          0.000619192227517593,
          0.0006060376068955143,
          0.0005925203564959383,
          0.0005786761562386625,
          0.0005645412267104204,
          0.0005501521233792741,
          0.0005355455373406493,
          0.0005207581034597524,
          0.000505826216716036,
          0.0004907858574911442,
          0.0004756724264696597,
          0.00046052058974766576,
          0.00044536413466314073,
          0.0004302358367804421,
          0.0004151673383753712,
          0.00040018903868162346,
          0.00038532999607275207,
          0.00037061784226783616,
          0.00035607870856462653,
          0.00034173716402180373,
          0.0003276161654329825,
          0.0003137370188594219,
          0.00030011935241757424,
          0.0002867810999517097,
          0.00027373849516112016,
          0.00026100607569627503
         ],
         "yaxis": "y"
        }
       ],
       "layout": {
        "barmode": "overlay",
        "hovermode": "closest",
        "legend": {
         "traceorder": "reversed"
        },
        "template": {
         "data": {
          "bar": [
           {
            "error_x": {
             "color": "#2a3f5f"
            },
            "error_y": {
             "color": "#2a3f5f"
            },
            "marker": {
             "line": {
              "color": "#E5ECF6",
              "width": 0.5
             },
             "pattern": {
              "fillmode": "overlay",
              "size": 10,
              "solidity": 0.2
             }
            },
            "type": "bar"
           }
          ],
          "barpolar": [
           {
            "marker": {
             "line": {
              "color": "#E5ECF6",
              "width": 0.5
             },
             "pattern": {
              "fillmode": "overlay",
              "size": 10,
              "solidity": 0.2
             }
            },
            "type": "barpolar"
           }
          ],
          "carpet": [
           {
            "aaxis": {
             "endlinecolor": "#2a3f5f",
             "gridcolor": "white",
             "linecolor": "white",
             "minorgridcolor": "white",
             "startlinecolor": "#2a3f5f"
            },
            "baxis": {
             "endlinecolor": "#2a3f5f",
             "gridcolor": "white",
             "linecolor": "white",
             "minorgridcolor": "white",
             "startlinecolor": "#2a3f5f"
            },
            "type": "carpet"
           }
          ],
          "choropleth": [
           {
            "colorbar": {
             "outlinewidth": 0,
             "ticks": ""
            },
            "type": "choropleth"
           }
          ],
          "contour": [
           {
            "colorbar": {
             "outlinewidth": 0,
             "ticks": ""
            },
            "colorscale": [
             [
              0,
              "#0d0887"
             ],
             [
              0.1111111111111111,
              "#46039f"
             ],
             [
              0.2222222222222222,
              "#7201a8"
             ],
             [
              0.3333333333333333,
              "#9c179e"
             ],
             [
              0.4444444444444444,
              "#bd3786"
             ],
             [
              0.5555555555555556,
              "#d8576b"
             ],
             [
              0.6666666666666666,
              "#ed7953"
             ],
             [
              0.7777777777777778,
              "#fb9f3a"
             ],
             [
              0.8888888888888888,
              "#fdca26"
             ],
             [
              1,
              "#f0f921"
             ]
            ],
            "type": "contour"
           }
          ],
          "contourcarpet": [
           {
            "colorbar": {
             "outlinewidth": 0,
             "ticks": ""
            },
            "type": "contourcarpet"
           }
          ],
          "heatmap": [
           {
            "colorbar": {
             "outlinewidth": 0,
             "ticks": ""
            },
            "colorscale": [
             [
              0,
              "#0d0887"
             ],
             [
              0.1111111111111111,
              "#46039f"
             ],
             [
              0.2222222222222222,
              "#7201a8"
             ],
             [
              0.3333333333333333,
              "#9c179e"
             ],
             [
              0.4444444444444444,
              "#bd3786"
             ],
             [
              0.5555555555555556,
              "#d8576b"
             ],
             [
              0.6666666666666666,
              "#ed7953"
             ],
             [
              0.7777777777777778,
              "#fb9f3a"
             ],
             [
              0.8888888888888888,
              "#fdca26"
             ],
             [
              1,
              "#f0f921"
             ]
            ],
            "type": "heatmap"
           }
          ],
          "heatmapgl": [
           {
            "colorbar": {
             "outlinewidth": 0,
             "ticks": ""
            },
            "colorscale": [
             [
              0,
              "#0d0887"
             ],
             [
              0.1111111111111111,
              "#46039f"
             ],
             [
              0.2222222222222222,
              "#7201a8"
             ],
             [
              0.3333333333333333,
              "#9c179e"
             ],
             [
              0.4444444444444444,
              "#bd3786"
             ],
             [
              0.5555555555555556,
              "#d8576b"
             ],
             [
              0.6666666666666666,
              "#ed7953"
             ],
             [
              0.7777777777777778,
              "#fb9f3a"
             ],
             [
              0.8888888888888888,
              "#fdca26"
             ],
             [
              1,
              "#f0f921"
             ]
            ],
            "type": "heatmapgl"
           }
          ],
          "histogram": [
           {
            "marker": {
             "pattern": {
              "fillmode": "overlay",
              "size": 10,
              "solidity": 0.2
             }
            },
            "type": "histogram"
           }
          ],
          "histogram2d": [
           {
            "colorbar": {
             "outlinewidth": 0,
             "ticks": ""
            },
            "colorscale": [
             [
              0,
              "#0d0887"
             ],
             [
              0.1111111111111111,
              "#46039f"
             ],
             [
              0.2222222222222222,
              "#7201a8"
             ],
             [
              0.3333333333333333,
              "#9c179e"
             ],
             [
              0.4444444444444444,
              "#bd3786"
             ],
             [
              0.5555555555555556,
              "#d8576b"
             ],
             [
              0.6666666666666666,
              "#ed7953"
             ],
             [
              0.7777777777777778,
              "#fb9f3a"
             ],
             [
              0.8888888888888888,
              "#fdca26"
             ],
             [
              1,
              "#f0f921"
             ]
            ],
            "type": "histogram2d"
           }
          ],
          "histogram2dcontour": [
           {
            "colorbar": {
             "outlinewidth": 0,
             "ticks": ""
            },
            "colorscale": [
             [
              0,
              "#0d0887"
             ],
             [
              0.1111111111111111,
              "#46039f"
             ],
             [
              0.2222222222222222,
              "#7201a8"
             ],
             [
              0.3333333333333333,
              "#9c179e"
             ],
             [
              0.4444444444444444,
              "#bd3786"
             ],
             [
              0.5555555555555556,
              "#d8576b"
             ],
             [
              0.6666666666666666,
              "#ed7953"
             ],
             [
              0.7777777777777778,
              "#fb9f3a"
             ],
             [
              0.8888888888888888,
              "#fdca26"
             ],
             [
              1,
              "#f0f921"
             ]
            ],
            "type": "histogram2dcontour"
           }
          ],
          "mesh3d": [
           {
            "colorbar": {
             "outlinewidth": 0,
             "ticks": ""
            },
            "type": "mesh3d"
           }
          ],
          "parcoords": [
           {
            "line": {
             "colorbar": {
              "outlinewidth": 0,
              "ticks": ""
             }
            },
            "type": "parcoords"
           }
          ],
          "pie": [
           {
            "automargin": true,
            "type": "pie"
           }
          ],
          "scatter": [
           {
            "fillpattern": {
             "fillmode": "overlay",
             "size": 10,
             "solidity": 0.2
            },
            "type": "scatter"
           }
          ],
          "scatter3d": [
           {
            "line": {
             "colorbar": {
              "outlinewidth": 0,
              "ticks": ""
             }
            },
            "marker": {
             "colorbar": {
              "outlinewidth": 0,
              "ticks": ""
             }
            },
            "type": "scatter3d"
           }
          ],
          "scattercarpet": [
           {
            "marker": {
             "colorbar": {
              "outlinewidth": 0,
              "ticks": ""
             }
            },
            "type": "scattercarpet"
           }
          ],
          "scattergeo": [
           {
            "marker": {
             "colorbar": {
              "outlinewidth": 0,
              "ticks": ""
             }
            },
            "type": "scattergeo"
           }
          ],
          "scattergl": [
           {
            "marker": {
             "colorbar": {
              "outlinewidth": 0,
              "ticks": ""
             }
            },
            "type": "scattergl"
           }
          ],
          "scattermapbox": [
           {
            "marker": {
             "colorbar": {
              "outlinewidth": 0,
              "ticks": ""
             }
            },
            "type": "scattermapbox"
           }
          ],
          "scatterpolar": [
           {
            "marker": {
             "colorbar": {
              "outlinewidth": 0,
              "ticks": ""
             }
            },
            "type": "scatterpolar"
           }
          ],
          "scatterpolargl": [
           {
            "marker": {
             "colorbar": {
              "outlinewidth": 0,
              "ticks": ""
             }
            },
            "type": "scatterpolargl"
           }
          ],
          "scatterternary": [
           {
            "marker": {
             "colorbar": {
              "outlinewidth": 0,
              "ticks": ""
             }
            },
            "type": "scatterternary"
           }
          ],
          "surface": [
           {
            "colorbar": {
             "outlinewidth": 0,
             "ticks": ""
            },
            "colorscale": [
             [
              0,
              "#0d0887"
             ],
             [
              0.1111111111111111,
              "#46039f"
             ],
             [
              0.2222222222222222,
              "#7201a8"
             ],
             [
              0.3333333333333333,
              "#9c179e"
             ],
             [
              0.4444444444444444,
              "#bd3786"
             ],
             [
              0.5555555555555556,
              "#d8576b"
             ],
             [
              0.6666666666666666,
              "#ed7953"
             ],
             [
              0.7777777777777778,
              "#fb9f3a"
             ],
             [
              0.8888888888888888,
              "#fdca26"
             ],
             [
              1,
              "#f0f921"
             ]
            ],
            "type": "surface"
           }
          ],
          "table": [
           {
            "cells": {
             "fill": {
              "color": "#EBF0F8"
             },
             "line": {
              "color": "white"
             }
            },
            "header": {
             "fill": {
              "color": "#C8D4E3"
             },
             "line": {
              "color": "white"
             }
            },
            "type": "table"
           }
          ]
         },
         "layout": {
          "annotationdefaults": {
           "arrowcolor": "#2a3f5f",
           "arrowhead": 0,
           "arrowwidth": 1
          },
          "autotypenumbers": "strict",
          "coloraxis": {
           "colorbar": {
            "outlinewidth": 0,
            "ticks": ""
           }
          },
          "colorscale": {
           "diverging": [
            [
             0,
             "#8e0152"
            ],
            [
             0.1,
             "#c51b7d"
            ],
            [
             0.2,
             "#de77ae"
            ],
            [
             0.3,
             "#f1b6da"
            ],
            [
             0.4,
             "#fde0ef"
            ],
            [
             0.5,
             "#f7f7f7"
            ],
            [
             0.6,
             "#e6f5d0"
            ],
            [
             0.7,
             "#b8e186"
            ],
            [
             0.8,
             "#7fbc41"
            ],
            [
             0.9,
             "#4d9221"
            ],
            [
             1,
             "#276419"
            ]
           ],
           "sequential": [
            [
             0,
             "#0d0887"
            ],
            [
             0.1111111111111111,
             "#46039f"
            ],
            [
             0.2222222222222222,
             "#7201a8"
            ],
            [
             0.3333333333333333,
             "#9c179e"
            ],
            [
             0.4444444444444444,
             "#bd3786"
            ],
            [
             0.5555555555555556,
             "#d8576b"
            ],
            [
             0.6666666666666666,
             "#ed7953"
            ],
            [
             0.7777777777777778,
             "#fb9f3a"
            ],
            [
             0.8888888888888888,
             "#fdca26"
            ],
            [
             1,
             "#f0f921"
            ]
           ],
           "sequentialminus": [
            [
             0,
             "#0d0887"
            ],
            [
             0.1111111111111111,
             "#46039f"
            ],
            [
             0.2222222222222222,
             "#7201a8"
            ],
            [
             0.3333333333333333,
             "#9c179e"
            ],
            [
             0.4444444444444444,
             "#bd3786"
            ],
            [
             0.5555555555555556,
             "#d8576b"
            ],
            [
             0.6666666666666666,
             "#ed7953"
            ],
            [
             0.7777777777777778,
             "#fb9f3a"
            ],
            [
             0.8888888888888888,
             "#fdca26"
            ],
            [
             1,
             "#f0f921"
            ]
           ]
          },
          "colorway": [
           "#636efa",
           "#EF553B",
           "#00cc96",
           "#ab63fa",
           "#FFA15A",
           "#19d3f3",
           "#FF6692",
           "#B6E880",
           "#FF97FF",
           "#FECB52"
          ],
          "font": {
           "color": "#2a3f5f"
          },
          "geo": {
           "bgcolor": "white",
           "lakecolor": "white",
           "landcolor": "#E5ECF6",
           "showlakes": true,
           "showland": true,
           "subunitcolor": "white"
          },
          "hoverlabel": {
           "align": "left"
          },
          "hovermode": "closest",
          "mapbox": {
           "style": "light"
          },
          "paper_bgcolor": "white",
          "plot_bgcolor": "#E5ECF6",
          "polar": {
           "angularaxis": {
            "gridcolor": "white",
            "linecolor": "white",
            "ticks": ""
           },
           "bgcolor": "#E5ECF6",
           "radialaxis": {
            "gridcolor": "white",
            "linecolor": "white",
            "ticks": ""
           }
          },
          "scene": {
           "xaxis": {
            "backgroundcolor": "#E5ECF6",
            "gridcolor": "white",
            "gridwidth": 2,
            "linecolor": "white",
            "showbackground": true,
            "ticks": "",
            "zerolinecolor": "white"
           },
           "yaxis": {
            "backgroundcolor": "#E5ECF6",
            "gridcolor": "white",
            "gridwidth": 2,
            "linecolor": "white",
            "showbackground": true,
            "ticks": "",
            "zerolinecolor": "white"
           },
           "zaxis": {
            "backgroundcolor": "#E5ECF6",
            "gridcolor": "white",
            "gridwidth": 2,
            "linecolor": "white",
            "showbackground": true,
            "ticks": "",
            "zerolinecolor": "white"
           }
          },
          "shapedefaults": {
           "line": {
            "color": "#2a3f5f"
           }
          },
          "ternary": {
           "aaxis": {
            "gridcolor": "white",
            "linecolor": "white",
            "ticks": ""
           },
           "baxis": {
            "gridcolor": "white",
            "linecolor": "white",
            "ticks": ""
           },
           "bgcolor": "#E5ECF6",
           "caxis": {
            "gridcolor": "white",
            "linecolor": "white",
            "ticks": ""
           }
          },
          "title": {
           "x": 0.05
          },
          "xaxis": {
           "automargin": true,
           "gridcolor": "white",
           "linecolor": "white",
           "ticks": "",
           "title": {
            "standoff": 15
           },
           "zerolinecolor": "white",
           "zerolinewidth": 2
          },
          "yaxis": {
           "automargin": true,
           "gridcolor": "white",
           "linecolor": "white",
           "ticks": "",
           "title": {
            "standoff": 15
           },
           "zerolinecolor": "white",
           "zerolinewidth": 2
          }
         }
        },
        "title": {
         "text": "Client Region Density Plot"
        },
        "xaxis": {
         "anchor": "y2",
         "domain": [
          0,
          1
         ],
         "title": {
          "text": "region"
         },
         "zeroline": false
        },
        "yaxis": {
         "anchor": "free",
         "domain": [
          0,
          1
         ],
         "position": 0
        }
       }
      },
      "text/html": [
       "<div>                            <div id=\"d6026afd-cab1-47d0-90fb-7204e981d4b2\" class=\"plotly-graph-div\" style=\"height:525px; width:100%;\"></div>            <script type=\"text/javascript\">                require([\"plotly\"], function(Plotly) {                    window.PLOTLYENV=window.PLOTLYENV || {};                                    if (document.getElementById(\"d6026afd-cab1-47d0-90fb-7204e981d4b2\")) {                    Plotly.newPlot(                        \"d6026afd-cab1-47d0-90fb-7204e981d4b2\",                        [{\"legendgroup\":\"Not Fraud\",\"marker\":{\"color\":\"rgb(31, 119, 180)\"},\"mode\":\"lines\",\"name\":\"Not Fraud\",\"showlegend\":true,\"x\":[101.0,101.596,102.192,102.788,103.384,103.98,104.576,105.172,105.768,106.364,106.96,107.556,108.152,108.748,109.344,109.94,110.536,111.132,111.728,112.324,112.92,113.516,114.112,114.708,115.304,115.9,116.496,117.092,117.688,118.28399999999999,118.88,119.476,120.072,120.668,121.264,121.86,122.456,123.05199999999999,123.648,124.244,124.84,125.436,126.032,126.628,127.224,127.82,128.416,129.012,129.608,130.204,130.8,131.39600000000002,131.992,132.588,133.184,133.78,134.376,134.972,135.56799999999998,136.164,136.76,137.356,137.952,138.548,139.144,139.74,140.336,140.93200000000002,141.528,142.124,142.72,143.316,143.912,144.508,145.10399999999998,145.7,146.296,146.892,147.488,148.084,148.68,149.276,149.872,150.46800000000002,151.064,151.66,152.256,152.852,153.448,154.04399999999998,154.64,155.236,155.832,156.428,157.024,157.62,158.216,158.812,159.40800000000002,160.004,160.6,161.196,161.792,162.388,162.984,163.57999999999998,164.176,164.772,165.368,165.964,166.56,167.156,167.752,168.348,168.94400000000002,169.54000000000002,170.136,170.732,171.328,171.924,172.51999999999998,173.11599999999999,173.712,174.308,174.904,175.5,176.096,176.692,177.288,177.88400000000001,178.48000000000002,179.076,179.672,180.268,180.864,181.45999999999998,182.05599999999998,182.652,183.248,183.844,184.44,185.036,185.632,186.228,186.824,187.42000000000002,188.01600000000002,188.612,189.208,189.804,190.4,190.99599999999998,191.59199999999998,192.188,192.784,193.38,193.976,194.572,195.168,195.764,196.36,196.95600000000002,197.55200000000002,198.148,198.744,199.34,199.936,200.53199999999998,201.128,201.724,202.32,202.916,203.512,204.108,204.704,205.3,205.89600000000002,206.49200000000002,207.088,207.684,208.28,208.876,209.47199999999998,210.06799999999998,210.664,211.26,211.856,212.452,213.048,213.644,214.24,214.836,215.43200000000002,216.02800000000002,216.624,217.22,217.816,218.412,219.00799999999998,219.60399999999998,220.2,220.796,221.392,221.988,222.584,223.18,223.776,224.372,224.96800000000002,225.564,226.16,226.756,227.352,227.94799999999998,228.54399999999998,229.14,229.736,230.332,230.928,231.524,232.12,232.716,233.312,233.908,234.504,235.1,235.696,236.292,236.888,237.484,238.08,238.676,239.272,239.868,240.464,241.06,241.656,242.252,242.848,243.444,244.04,244.636,245.232,245.828,246.424,247.02,247.616,248.212,248.808,249.404,250.0,250.596,251.192,251.788,252.384,252.98,253.576,254.172,254.768,255.364,255.96,256.55600000000004,257.152,257.748,258.344,258.94,259.536,260.132,260.728,261.324,261.91999999999996,262.51599999999996,263.11199999999997,263.70799999999997,264.304,264.9,265.496,266.092,266.688,267.284,267.88,268.476,269.072,269.668,270.264,270.86,271.456,272.052,272.648,273.244,273.84000000000003,274.43600000000004,275.03200000000004,275.628,276.224,276.82,277.416,278.012,278.608,279.204,279.8,280.39599999999996,280.99199999999996,281.58799999999997,282.18399999999997,282.78,283.376,283.972,284.568,285.164,285.76,286.356,286.952,287.548,288.144,288.74,289.336,289.932,290.528,291.124,291.72,292.31600000000003,292.91200000000003,293.50800000000004,294.10400000000004,294.7,295.296,295.892,296.488,297.084,297.68,298.276,298.872,299.46799999999996,300.06399999999996,300.65999999999997,301.256,301.852,302.448,303.044,303.64,304.236,304.832,305.428,306.024,306.62,307.216,307.812,308.408,309.004,309.6,310.196,310.79200000000003,311.38800000000003,311.98400000000004,312.58000000000004,313.176,313.772,314.368,314.964,315.56,316.156,316.752,317.348,317.94399999999996,318.53999999999996,319.13599999999997,319.73199999999997,320.328,320.924,321.52,322.116,322.712,323.308,323.904,324.5,325.096,325.692,326.288,326.884,327.48,328.076,328.672,329.26800000000003,329.86400000000003,330.46000000000004,331.05600000000004,331.652,332.248,332.844,333.44,334.036,334.632,335.228,335.824,336.41999999999996,337.01599999999996,337.61199999999997,338.20799999999997,338.804,339.4,339.996,340.592,341.188,341.784,342.38,342.976,343.572,344.168,344.764,345.36,345.956,346.552,347.148,347.744,348.34000000000003,348.93600000000004,349.53200000000004,350.128,350.724,351.32,351.916,352.512,353.108,353.704,354.3,354.89599999999996,355.49199999999996,356.08799999999997,356.68399999999997,357.28,357.876,358.472,359.068,359.664,360.26,360.856,361.452,362.048,362.644,363.24,363.836,364.432,365.028,365.624,366.22,366.816,367.412,368.008,368.604,369.2,369.796,370.392,370.988,371.584,372.18,372.776,373.372,373.968,374.564,375.16,375.756,376.352,376.948,377.544,378.14,378.736,379.332,379.928,380.524,381.12,381.716,382.312,382.908,383.504,384.1,384.696,385.292,385.888,386.484,387.08,387.676,388.272,388.868,389.464,390.06,390.656,391.252,391.848,392.444,393.04,393.636,394.232,394.828,395.424,396.02,396.616,397.212,397.808,398.404],\"xaxis\":\"x\",\"y\":[0.019442110240635312,0.019611026642809982,0.019713304063903196,0.019747924915995002,0.01971456760905715,0.019613611431102636,0.019446129403846397,0.019213869301205746,0.018919223300582162,0.01856518700298745,0.018155308802739367,0.017693630802326728,0.017184622644074925,0.016633109769450982,0.016044197708402652,0.015423194048651471,0.01477552973688194,0.01410668131957579,0.013422095648416973,0.012727118451961825,0.012026928022358645,0.011326475086040337,0.010630429728084177,0.009943136028551064,0.009268574852204987,0.008610335017900145,0.0079715928653476,0.007355100043395636,0.006763179166661067,0.0061977268340154,0.005660223371949809,0.005151748564435947,0.004673002554990536,0.004224331059990422,0.0038057540109465104,0.003416996747609193,0.003057522909788416,0.0027265682215096717,0.002423174422923273,0.0021462226799315847,0.0018944658853011782,0.0016665593547500444,0.0014610895137433222,0.0012766002627305115,0.0011116167975940708,0.0009646667459836631,0.0008342985573267658,0.0007190971531327847,0.000617696903911362,0.0005287920492057053,0.00045114471762884725,0.0003835907346331869,0.0003250434275435387,0.000274495650768893,0.00023102025996281803,0.0001937692631574065,0.00016197187059854138,0.0001349316541676215,0.00011202301291613749,9.268712433624805e-05,7.642754239983402e-05,6.280558394753318e-05,5.1435625360088405e-05,4.198041217965801e-05,3.4146465944032504e-05,2.767965529007346e-05,2.236098265153639e-05,1.8002623768588178e-05,1.4444244843688819e-05,1.1549611521964044e-05,9.203494922044297e-06,7.308872598224133e-06,5.784416471930115e-06,4.562255285849499e-06,3.5859958587054163e-06,2.8089851946042555e-06,2.1927941717785263e-06,1.7059029496656523e-06,1.322568250130221e-06,1.0218531574556539e-06,7.868009280280193e-07,6.037354023206901e-07,4.616718830922351e-07,3.5182371206885976e-07,2.671911842853254e-07,2.0222083816518052e-07,1.525245148595469e-07,1.1464886647881997e-07,8.588719190279875e-08,6.412657992460273e-08,4.772433720848588e-08,3.540857186869982e-08,2.6198594723967714e-08,1.9341494152820046e-08,1.4261843377549404e-08,1.0522018352296993e-08,7.791048201213802e-09,5.820296442607177e-09,4.4245880006536754e-09,3.467661825626606e-09,2.851048878725504e-09,2.505656750515649e-09,2.3854910782839357e-09,2.4630653572045012e-09,2.7261492033604273e-09,3.175584511192571e-09,3.8239625697581566e-09,4.6950058575223005e-09,5.8235382536023705e-09,7.255958700014424e-09,9.051157480797189e-09,1.128183249339008e-08,1.403617615511522e-08,1.741991267031291e-08,2.1558670853893847e-08,2.6600679992609083e-08,3.271977563373264e-08,4.011869895001845e-08,4.903266760535221e-08,5.973318797398041e-08,7.253206827734658e-08,8.778557983920853e-08,1.058986994037875e-07,1.2732934955365963e-07,1.525925370048567e-07,1.822642703618184e-07,2.1698512026222178e-07,2.574632663522881e-07,3.044768579093703e-07,3.588754989830703e-07,4.2158065559120844e-07,4.935847727202448e-07,5.759488837545606e-07,6.697984954504072e-07,7.763175388320148e-07,8.967401912536303e-07,1.0323403982879176e-06,1.18441895671162e-06,1.3542880619767574e-06,1.5432532755592818e-06,1.75259292889519e-06,1.9835350509979806e-06,2.237231985020967e-06,2.5147329434150288e-06,2.8169548403386785e-06,3.1446518307192992e-06,3.4983840753681673e-06,3.878486337539425e-06,4.2850370948258035e-06,4.71782891787406e-06,5.1763409203035445e-06,5.659714119123664e-06,6.166730558555333e-06,6.695797039859816e-06,7.24493426325636e-06,7.811772124058746e-06,8.39355181318152e-06,8.987135252702324e-06,9.58902225177762e-06,1.0195375599562303e-05,1.0802054123620071e-05,1.1404653539389975e-05,1.1998554704254212e-05,1.2578978675019562e-05,1.3141047757105372e-05,1.3679851534615866e-05,1.4190516689978524e-05,1.4668279266873777e-05,1.5108557907115891e-05,1.550702650645956e-05,1.5859684690374308e-05,1.6162924511673708e-05,1.6413591819030716e-05,1.660904083873348e-05,1.67471806497594e-05,1.6826512410928634e-05,1.6846156413561835e-05,1.6805868277337117e-05,1.670604387339779e-05,1.6547712838806797e-05,1.6332520831232643e-05,1.6062700953138957e-05,1.574103504175297e-05,1.537080576622877e-05,1.4955740689072406e-05,1.449994962854795e-05,1.400785679731226e-05,1.3484129286343904e-05,1.2933603510412072e-05,1.2361211231645184e-05,1.177190673262547e-05,1.1170596622831578e-05,1.0562073636535053e-05,9.9509556219514e-06,9.341630736976165e-06,8.738209663247645e-06,8.144485434928888e-06,7.563901258873551e-06,6.999526485848021e-06,6.454040684802695e-06,5.929725579780107e-06,5.4284644365718895e-06,4.951748338063219e-06,4.500688665598883e-06,4.076035010780176e-06,3.678197677926274e-06,3.30727390220335e-06,2.9630768997278713e-06,2.6451668827008664e-06,2.352883210918174e-06,2.085376908255431e-06,1.841642844883521e-06,1.620550969393251e-06,1.420876065996848e-06,1.2413256068096434e-06,1.0805653646505662e-06,9.372425449010111e-07,8.100062831238798e-07,6.97525436373747e-07,5.985036688381074e-07,5.116918955847321e-07,4.3589820110683025e-07,3.699953918833918e-07,3.129263745110031e-07,2.637075735537051e-07,2.2143061694292028e-07,1.8526252239372547e-07,1.5444461702132722e-07,1.2829041527280778e-07,1.061826685899945e-07,8.756978507105644e-08,7.19617998782452e-08,5.8926058291377414e-08,4.808275406035034e-08,3.910044690586508e-08,3.169166540527685e-08,2.5608685734163084e-08,2.0639563411458455e-08,1.660448485300285e-08,1.3352498703253116e-08,1.075868411536701e-08,8.72181496864989e-09,7.1625861091840405e-09,6.022480863284295e-09,5.263379259816707e-09,4.868034777100884e-09,4.841585431006673e-09,5.2143143792055915e-09,6.045938016591639e-09,7.431778256828773e-09,9.511273239951569e-09,1.2479400438558e-08,1.6601731888928126e-08,2.2234017352669028e-08,2.984740236946383e-08,4.0060639532948165e-08,5.368094835327109e-08,7.175552736752244e-08,9.563612729988488e-08,1.27059561360716e-07,1.6824756288976177e-07,2.2203000517344628e-07,2.9199617556671085e-07,3.826795460982594e-07,4.997823028640701e-07,6.504467805017656e-07,8.435818853739217e-07,1.0902535659917945e-06,1.40414937981255e-06,1.8021281829434001e-06,2.3048668967378347e-06,2.9376171374128556e-06,3.731085177395863e-06,4.722449176061944e-06,5.956527800216888e-06,7.487114168917032e-06,9.378488413769187e-06,1.1707120949070014e-05,1.4563576696972514e-05,1.805462791113157e-05,2.230557979203842e-05,2.7462808699614133e-05,3.369650736865445e-05,4.120362506454231e-05,5.021098305119909e-05,6.097853708335029e-05,7.3802748924532e-05,8.902001821965183e-05,0.00010701011456374045,0.00012819953749710602,0.00015306471969791122,0.00018213497614679813,0.00021599508990354597,0.0002552874138010689,0.0003007133573290737,0.0003530341197961599,0.0004130705250742739,0.00048170181045795814,0.0005598632229515331,0.0006485422811939006,0.0007487735707386252,0.000861631954894171,0.0009882241031200856,0.0011296782642565369,0.0012871322425078802,0.0014617195701193987,0.0016545539115150366,0.001866711778796342,0.0020992136871375716,0.002353003929728093,0.002628929204255834,0.002927716375175832,0.0032499497066816162,0.003596047948572926,0.003966241699697419,0.0043605515093926035,0.004778767204989819,0.005220428951129373,0.0056848105535008695,0.00617090551409358,0.006677416326695105,0.0072027474694933286,0.007745002506403091,0.00830198565003435,0.008871208068373387,0.009449899134758742,0.010035022728666307,0.010623298594789441,0.011211228662164079,0.011795128116206218,0.012371160907304102,0.012935379272502153,0.01348376674512056,0.014012284033293545,0.01451691706552565,0.014993726431215961,0.015438897389955712,0.015848789585558357,0.01621998558266382,0.016549337343540558,0.01683400978443724,0.01707152059007053,0.01725977552553703,0.017397098561419924,0.01748225622277864,0.017514475680209682,0.017493456221590993,0.017419373871613096,0.017292879061631843,0.017115087389016653,0.016887563642474762,0.016612299402174856,0.01629168464886649,0.01592847393131029,0.015525747743298512,0.015086869847992497,0.014615441356415397,0.014115252417109527,0.013590232403832479,0.013044399498420197,0.012481810554812536,0.01190651210082443,0.011322493285093153,0.010733641511712553,0.01014370142500616,0.00955623781434258,0.00897460290786599,0.00840190841469436,0.007841002563938815,0.007294452275766768,0.006764530489549757,0.00625320856872624,0.005762153603925014,0.005292730347805762,0.0048460074379191274,0.0044227674995664075,0.004023520670184534,0.0036485210500221184,0.0032977855614493554,0.002971114690503442,0.002668114588471781,0.0023882200273870574,0.0021307177299190573,0.0018947696297340823,0.0016794356612426405,0.0014836957260105591,0.001306470535164394,0.0011466410811737792,0.0010030665468151688,0.0008746005123648875,0.0007601053728750605,0.0006584649246949624,0.0005685951231543467,0.0004894530511217367,0.0004200441702944286,0.00035942795354384523,0.0003067220172827179,0.0002611048878416355,0.00022181754552337885,0.00018816389475360303,0.00015951030909181374,0.00013528439636524415,0.00011497312247054226,9.812042306746439e-05,8.432442110315018e-05,7.32343554406681e-05,6.45473123893243e-05,5.8004838156163054e-05,5.338949660956979e-05,5.052142366090549e-05,4.925491735708324e-05,4.947509169743792e-05,5.1094612448581944e-05,5.405052496791446e-05,5.83011773533797e-05,6.382323714471072e-05,7.060879630340658e-05,7.866255723607437e-05,8.7999092114931e-05,9.86401685567242e-05,0.00011061213669877973,0.00012394337567731164,0.00013866180125894693,0.0001547924406967739,0.00017235508552913319,0.00019136203778787967,0.00021181596967915356,0.0002337079210159041,0.0002570154622838188,0.0002817010540035952,0.00030771063482438283,0.00033497247139153285,0.0003633963023594172,0.0003928728068846535,0.00042327342452397457,0.00045445054867439077,0.000486238109632462,0.000518452556135607,0.000550894236033115,0.0005833491678136838,0.000615591185262772,0.0006473844279225642,0.0006784861405318024,0.0007086497356231406,0.0007376280651863878,0.0007651768402207794,0.0007910581311962628,0.0008150438783601537,0.0008369193384811886,0.0008564863942761109,0.0008735666544025767,0.0008880042755625085,0.0008996684438401641,0.0009084554597876584,0.0009142903807144842,0.0009171281839081195,0.0009169544258009884,0.0009137853839905142,0.0009076676812902653,0.0008986774030830041,0.0008869187309570359,0.0008725221265029109,0.0008556421089225087,0.0008364546785569074,0.0008151544452446483,0.0007919515255433891,0.0007670682761267626,0.000740735932076582,0.0007131912184169724,0.0006846730010933057,0.0006554190399133735,0.0006256629008786913,0.0005956310790463615,0.0005655403758987463,0.0005355955673064519,0.0005059873899302865,0.0004768908654607229,0.000448463973776238,0.00042084667806751105,0.00039416029744157805,0.0003685072156375505,0.00034397090840328107,0.0003206162668329125,0.00029849018968449787,0.00027762241433291123,0.0002580265536145577,0.00023970130433085464,0.00022263179254665647,0.00020679102099113004,0.00019214138474293662,0.00017863622288511746,0.00016622137583942266,0.00015483672054782398,0.00014441765846127044,0.00013489653433280906,0.00012620396700817855,0.00011827007668437672,0.00011102559639139105,0.00010440285868466334,9.833665165594527e-05],\"yaxis\":\"y\",\"type\":\"scatter\"},{\"legendgroup\":\"Fraud\",\"marker\":{\"color\":\"rgb(255, 127, 14)\"},\"mode\":\"lines\",\"name\":\"Fraud\",\"showlegend\":true,\"x\":[101.0,101.596,102.192,102.788,103.384,103.98,104.576,105.172,105.768,106.364,106.96,107.556,108.152,108.748,109.344,109.94,110.536,111.132,111.728,112.324,112.92,113.516,114.112,114.708,115.304,115.9,116.496,117.092,117.688,118.28399999999999,118.88,119.476,120.072,120.668,121.264,121.86,122.456,123.05199999999999,123.648,124.244,124.84,125.436,126.032,126.628,127.224,127.82,128.416,129.012,129.608,130.204,130.8,131.39600000000002,131.992,132.588,133.184,133.78,134.376,134.972,135.56799999999998,136.164,136.76,137.356,137.952,138.548,139.144,139.74,140.336,140.93200000000002,141.528,142.124,142.72,143.316,143.912,144.508,145.10399999999998,145.7,146.296,146.892,147.488,148.084,148.68,149.276,149.872,150.46800000000002,151.064,151.66,152.256,152.852,153.448,154.04399999999998,154.64,155.236,155.832,156.428,157.024,157.62,158.216,158.812,159.40800000000002,160.004,160.6,161.196,161.792,162.388,162.984,163.57999999999998,164.176,164.772,165.368,165.964,166.56,167.156,167.752,168.348,168.94400000000002,169.54000000000002,170.136,170.732,171.328,171.924,172.51999999999998,173.11599999999999,173.712,174.308,174.904,175.5,176.096,176.692,177.288,177.88400000000001,178.48000000000002,179.076,179.672,180.268,180.864,181.45999999999998,182.05599999999998,182.652,183.248,183.844,184.44,185.036,185.632,186.228,186.824,187.42000000000002,188.01600000000002,188.612,189.208,189.804,190.4,190.99599999999998,191.59199999999998,192.188,192.784,193.38,193.976,194.572,195.168,195.764,196.36,196.95600000000002,197.55200000000002,198.148,198.744,199.34,199.936,200.53199999999998,201.128,201.724,202.32,202.916,203.512,204.108,204.704,205.3,205.89600000000002,206.49200000000002,207.088,207.684,208.28,208.876,209.47199999999998,210.06799999999998,210.664,211.26,211.856,212.452,213.048,213.644,214.24,214.836,215.43200000000002,216.02800000000002,216.624,217.22,217.816,218.412,219.00799999999998,219.60399999999998,220.2,220.796,221.392,221.988,222.584,223.18,223.776,224.372,224.96800000000002,225.564,226.16,226.756,227.352,227.94799999999998,228.54399999999998,229.14,229.736,230.332,230.928,231.524,232.12,232.716,233.312,233.908,234.504,235.1,235.696,236.292,236.888,237.484,238.08,238.676,239.272,239.868,240.464,241.06,241.656,242.252,242.848,243.444,244.04,244.636,245.232,245.828,246.424,247.02,247.616,248.212,248.808,249.404,250.0,250.596,251.192,251.788,252.384,252.98,253.576,254.172,254.768,255.364,255.96,256.55600000000004,257.152,257.748,258.344,258.94,259.536,260.132,260.728,261.324,261.91999999999996,262.51599999999996,263.11199999999997,263.70799999999997,264.304,264.9,265.496,266.092,266.688,267.284,267.88,268.476,269.072,269.668,270.264,270.86,271.456,272.052,272.648,273.244,273.84000000000003,274.43600000000004,275.03200000000004,275.628,276.224,276.82,277.416,278.012,278.608,279.204,279.8,280.39599999999996,280.99199999999996,281.58799999999997,282.18399999999997,282.78,283.376,283.972,284.568,285.164,285.76,286.356,286.952,287.548,288.144,288.74,289.336,289.932,290.528,291.124,291.72,292.31600000000003,292.91200000000003,293.50800000000004,294.10400000000004,294.7,295.296,295.892,296.488,297.084,297.68,298.276,298.872,299.46799999999996,300.06399999999996,300.65999999999997,301.256,301.852,302.448,303.044,303.64,304.236,304.832,305.428,306.024,306.62,307.216,307.812,308.408,309.004,309.6,310.196,310.79200000000003,311.38800000000003,311.98400000000004,312.58000000000004,313.176,313.772,314.368,314.964,315.56,316.156,316.752,317.348,317.94399999999996,318.53999999999996,319.13599999999997,319.73199999999997,320.328,320.924,321.52,322.116,322.712,323.308,323.904,324.5,325.096,325.692,326.288,326.884,327.48,328.076,328.672,329.26800000000003,329.86400000000003,330.46000000000004,331.05600000000004,331.652,332.248,332.844,333.44,334.036,334.632,335.228,335.824,336.41999999999996,337.01599999999996,337.61199999999997,338.20799999999997,338.804,339.4,339.996,340.592,341.188,341.784,342.38,342.976,343.572,344.168,344.764,345.36,345.956,346.552,347.148,347.744,348.34000000000003,348.93600000000004,349.53200000000004,350.128,350.724,351.32,351.916,352.512,353.108,353.704,354.3,354.89599999999996,355.49199999999996,356.08799999999997,356.68399999999997,357.28,357.876,358.472,359.068,359.664,360.26,360.856,361.452,362.048,362.644,363.24,363.836,364.432,365.028,365.624,366.22,366.816,367.412,368.008,368.604,369.2,369.796,370.392,370.988,371.584,372.18,372.776,373.372,373.968,374.564,375.16,375.756,376.352,376.948,377.544,378.14,378.736,379.332,379.928,380.524,381.12,381.716,382.312,382.908,383.504,384.1,384.696,385.292,385.888,386.484,387.08,387.676,388.272,388.868,389.464,390.06,390.656,391.252,391.848,392.444,393.04,393.636,394.232,394.828,395.424,396.02,396.616,397.212,397.808,398.404],\"xaxis\":\"x\",\"y\":[0.010817584048447891,0.01085976078522457,0.010889719015079086,0.010907357275937777,0.010912615904515012,0.010905477372477336,0.010885966383699527,0.010854149731842015,0.010810135919398549,0.010754074541273357,0.010686155437758024,0.010606607623648725,0.010515698001935634,0.01041372987218816,0.010301041245289957,0.010178002977625696,0.010045016739129947,0.009902512830760482,0.009750947867983957,0.009590802347692497,0.009422578116665602,0.009246795760188211,0.009063991929775413,0.008874716629098459,0.00867953047720954,0.008479001967943342,0.008273704744046692,0.008064214904054283,0.00785110835926616,0.00763495825738989,0.007416332488457653,0.007195791287592777,0.006973884948041128,0.006751151656643884,0.0065281154626147635,0.006305284389110003,0.006083148695667826,0.005862179298154216,0.005642826351393147,0.005425517998224233,0.00521065928727575,0.004998631260373331,0.00478979020911869,0.00458446709889467,0.004382967157315571,0.004185569622979136,0.003992527649321961,0.003804068357386319,0.0036203930304371267,0.003441677442589833,0.0032680723129269364,0.0030997038760337933,0.0029366745594089087,0.0027790637578663227,0.002626928694794697,0.0024803053600004517,0.0023392095138102275,0.0022036377471629054,0.0020735685875560217,0.0019489636409253258,0.0018297687598347627,0.0017159152287135645,0.001607320957295044,0.001503891673888016,0.0014055221106290309,0.001312097173418435,0.0012234930898245718,0.0011395785288494358,0.0010602156870640716,0.0009852613362500344,0.0009145678283078339,0.0008479840538159085,0.0007853563512286247,0.0007265293642975116,0.0006713468458681781,0.0006196524067506576,0.0005712902088785807,0.0005261056024549811,0.00048394570723422594,0.00044465993850317006,0.00040810047870155577,0.00037412269596094524,0.0003425855111419767,0.00031335171521207486,0.0002862882390312418,0.0002612663778008801,0.00023816197258450387,0.00021685555142690453,0.00019723243268607844,0.00017918279324777645,0.00016260170432163182,0.0001473891375195252,0.000133449943896547,0.00012069380859166616,0.00010903518364469223,9.839320148804766e-05,8.869157151979943e-05,7.985846206082914e-05,7.182636988503632e-05,6.45319793900404e-05,5.7916013348856064e-05,5.192307705121483e-05,4.650149751030474e-05,4.160315927569462e-05,3.7183338259817976e-05,3.320053485328902e-05,2.9616307475202426e-05,2.6395107579433996e-05,2.350411701734939e-05,2.0913088542058367e-05,1.859419012996276e-05,1.652185369218421e-05,1.4672628651870474e-05,1.3025040773592913e-05,1.155945654806586e-05,1.0257953359382417e-05,9.10419559275993e-06,8.083316778215366e-06,7.181807809669386e-06,6.387411229242596e-06,5.689021522874678e-06,5.076591335446158e-06,4.541043481064515e-06,4.0741885966776675e-06,3.6686482644079667e-06,3.3177834095380392e-06,3.0156277665973853e-06,2.7568261951159726e-06,2.5365776189877127e-06,2.3505823586487075e-06,2.194993623138584e-06,2.066372929206696e-06,1.961649216693629e-06,1.8780814331550093e-06,1.8132243658404102e-06,1.764897505467673e-06,1.731156733499832e-06,1.7102686326382758e-06,1.7006872288312071e-06,1.701032982063266e-06,1.7100738524136864e-06,1.7267082772344553e-06,1.7499499046408435e-06,1.7789139378117012e-06,1.8128049536993747e-06,1.8509060686473652e-06,1.8925693320244147e-06,1.937207237257841e-06,1.9842852475808196e-06,2.0333152413457747e-06,2.0838497889069013e-06,2.1354771798093997e-06,2.1878171253719324e-06,2.240517067668782e-06,2.293249031466688e-06,2.3457069608390993e-06,2.397604486956528e-06,2.4486730780133593e-06,2.4986605263664096e-06,2.5473297317549877e-06,2.5944577430241045e-06,2.6398350240045296e-06,2.6832649122262713e-06,2.7245632419588956e-06,2.7635581056429904e-06,2.8000897302148744e-06,2.8340104470878934e-06,2.865184736670642e-06,2.893489330315733e-06,2.918813354483114e-06,2.9410585037156865e-06,2.960139230767619e-06,2.975982943893189e-06,2.9885302029323486e-06,2.9977349074375397e-06,3.003564471634825e-06,3.0059999825657895e-06,3.0050363393279845e-06,3.000682372836704e-06,2.9929609471342504e-06,2.981909044823701e-06,2.9675778408419404e-06,2.9500327703890797e-06,2.929353598579811e-06,2.9056345010912024e-06,2.8789841668967566e-06,2.8495259360892934e-06,2.8173979877381912e-06,2.7827535948214846e-06,2.745761465435283e-06,2.706606191804849e-06,2.6654888310553006e-06,2.6226276442811887e-06,2.5782590232466747e-06,2.532638636959032e-06,2.4860428335234793e-06,2.4387703360440125e-06,2.391144274928552e-06,2.3435146027985165e-06,2.2962609423234958e-06,2.2497959216743885e-06,2.2045690569952193e-06,2.1610712462546393e-06,2.1198399441674094e-06,2.0814650934705363e-06,2.0465958938033644e-06,2.0159484956751648e-06,1.9903147136066235e-06,1.9705718593555034e-06,1.9576938033204156e-06,1.952763379570171e-06,1.956986257573998e-06,1.971706411444345e-06,1.9984233253936916e-06,2.03881108199798e-06,2.0947394877283368e-06,2.1682973979387597e-06,2.2618184109739894e-06,2.3779091081792145e-06,2.5194800232005315e-06,2.6897795299069205e-06,2.892430843400675e-06,3.131472332670518e-06,3.4114013463420595e-06,3.7372217544360796e-06,4.114495408815615e-06,4.5493977228878235e-06,5.048777566794885e-06,5.620221667574346e-06,6.2721236942459625e-06,7.0137581952553725e-06,7.855359539820459e-06,8.808205995227065e-06,9.884709048680329e-06,1.1098508054673064e-05,1.2464570256618976e-05,1.3999296194619286e-05,1.57206304691638e-05,1.7648177783416428e-05,1.980332413400737e-05,2.220936296202423e-05,2.4891626011875573e-05,2.78776185760448e-05,3.119715872822738e-05,3.488252006624427e-05,3.8968577399433215e-05,4.349295472332449e-05,4.849617472745678e-05,5.402180898078147e-05,6.011662783359965e-05,6.683074896613334e-05,7.421778340235317e-05,8.233497769430806e-05,9.124335086813131e-05,0.00010100782460904159,0.00011169734505029789,0.0001233849944214831,0.00013614809070624896,0.00015006827336015236,0.00016523157304714669,0.00018172846327032472,0.0001996538917009442,0.00021910728895011217,0.00024019255248388592,0.00026301800335426403,0.00028769631340992913,0.00031434440066177994,0.0003430832905122545,0.00037403794061517394,0.0004073370272167267,0.0004431126909391509,0.0004815002401081935,0.0005226378098950307,0.0005666659757438625,0.0006137273197872529,0.0006639659492153652,0.0007175269658599169,0.0007745558865800575,0.0008351980143946375,0.000899597760692349,0.0009678979192648113,0.001040238893349792,0.00111675787733409,0.0011975879952519969,0.0012828573987162808,0.0013726883274341208,0.0014671961359856622,0.0015664882910705028,0.0016706633439587861,0.0017798098834020232,0.0018940054747763283,0.002013315591715608,0.002137792546971062,0.002267474429667092,0.002402384056529097,0.0025425279450199045,0.002687895316631683,0.0028384571388383006,0.00299416521440691,0.00315495132689614,0.0033207264512280497,0.0034913800381973638,0.003666779381684038,0.00384676907715425,0.004031170579758879,0.004219781869987961,0.0044123772343884924,0.004608707168318237,0.004808498407087108,0.0050114540911269405,0.005217254070041099,0.005425555349513667,0.005635992684118982,0.0058481793180597645,0.006061707874796046,0.006276151395409165,0.006491064524377371,0.006705984840255321,0.006920434327530473,0.0071339209846978556,0.007345940562393599,0.0075559784241934535,0.007763511521520523,0.007968010472949283,0.008168941737124149,0.008365769867457165,0.008557959835837717,0.008744979411725518,0.008926301582217615,0.00910140699804832,0.009269786429920575,0.00943094321916879,0.009584395706467413,0.009729679622161069,0.009866350421783854,0.009993985550490074,0.010112186620393345,0.010220581485264514,0.010318826197592532,0.010406606833749638,0.0104836411738348,0.01054968022375859,0.01060450956821887,0.010647950544422753,0.010679861227714513,0.01070013722165008,0.010708712246533872,0.010705558521925616,0.010690686940219376,0.010664147029957188,0.010626026709175408,0.010576451830651612,0.010515585522525175,0.010443627329311396,0.010360812159813024,0.010267409049888479,0.010163719749384926,0.010050077143814961,0.009926843522510746,0.009794408706076554,0.009653188046833936,0.009503620316820612,0.009346165498511432,0.009181302493996204,0.009009526768691078,0.008831347945924939,0.00864728736880481,0.008457875645717572,0.008263650195621525,0.008065152808943326,0.0078629272394353,0.007657516841744984,0.007449462268753798,0.007239299241927323,0.007027556407008136,0.006814753286402476,0.006601398338540671,0.006387987133380599,0.006175000652049235,0.00596290371742153,0.0057521435612176465,0.005543148531960353,0.005336326946929951,0.005132066090021546,0.004930731356254457,0.00473266554252687,0.004538188283120783,0.004347595627430698,0.004161159756416618,0.003979128833385531,0.0038017269838911683,0.003629154398800872,0.0034615875539379093,0.003299179539145447,0.003142060489152946,0.002990338108251214,0.0028440982804981817,0.002703405756986231,0.002568304911588539,0.0024388205565845597,0.0023149588096167575,0.002196708003561696,0.0020840396310991814,0.001976909316024624,0.0018752578036683911,0.0017790119631585428,0.001688085794672182,0.0016023814352741047,0.0015217901574153636,0.001446193354669079,0.00137546350979425,0.001309465140745546,0.0012480557207709788,0.0011910865692686347,0.0011384037105839878,0.0010898486984316851,0.0010452594041094508,0.001004470767127684,0.0009673155073136817,0.0009336247978500694,0.0009032288990808698,0.0008759577532521215,0.0008516415406592778,0.0008301111979370486,0.0008111988994577722,0.0007947385029970369,0.0007805659609832698,0.0007685196987709373,0.000758440961466259,0.0007501741308949002,0.0007435670143281144,0.0007384711065889671,0.0007347418271363898,0.0007322387336834273,0.0007308257138417556,0.0007303711562087474,0.0007307481022199292,0.0007318343799897187,0.0007335127212543426,0.0007356708624163845,0.000738201630576771,0.0007410030153232087,0.0007439782269329905,0.0007470357415401795,0.0007500893337159354,0.0007530580968188644,0.0007558664513881043,0.0007584441417809093,0.0007607262211940793,0.0007626530251616256,0.0007641701335837681,0.0007652283213198866,0.0007657834973667322,0.0007657966326445663,0.0007652336764279098,0.0007640654614803286,0.0007622675979877801,0.0007598203564290327,0.0007567085395704504,0.0007529213438336208,0.0007484522103451167,0.0007432986660459907,0.0007374621553095891,0.0007309478625851997,0.0007237645266593957,0.0007159242471934835,0.0007074422842650536,0.0006983368517035442,0.0006886289050676105,0.0006783419251652757,0.0006675016980616306,0.0006561360925574309,0.0006442748361502762,0.0006319492905108153,0.000619192227517593,0.0006060376068955143,0.0005925203564959383,0.0005786761562386625,0.0005645412267104204,0.0005501521233792741,0.0005355455373406493,0.0005207581034597524,0.000505826216716036,0.0004907858574911442,0.0004756724264696597,0.00046052058974766576,0.00044536413466314073,0.0004302358367804421,0.0004151673383753712,0.00040018903868162346,0.00038532999607275207,0.00037061784226783616,0.00035607870856462653,0.00034173716402180373,0.0003276161654329825,0.0003137370188594219,0.00030011935241757424,0.0002867810999517097,0.00027373849516112016,0.00026100607569627503],\"yaxis\":\"y\",\"type\":\"scatter\"}],                        {\"barmode\":\"overlay\",\"hovermode\":\"closest\",\"legend\":{\"traceorder\":\"reversed\"},\"template\":{\"data\":{\"barpolar\":[{\"marker\":{\"line\":{\"color\":\"#E5ECF6\",\"width\":0.5},\"pattern\":{\"fillmode\":\"overlay\",\"size\":10,\"solidity\":0.2}},\"type\":\"barpolar\"}],\"bar\":[{\"error_x\":{\"color\":\"#2a3f5f\"},\"error_y\":{\"color\":\"#2a3f5f\"},\"marker\":{\"line\":{\"color\":\"#E5ECF6\",\"width\":0.5},\"pattern\":{\"fillmode\":\"overlay\",\"size\":10,\"solidity\":0.2}},\"type\":\"bar\"}],\"carpet\":[{\"aaxis\":{\"endlinecolor\":\"#2a3f5f\",\"gridcolor\":\"white\",\"linecolor\":\"white\",\"minorgridcolor\":\"white\",\"startlinecolor\":\"#2a3f5f\"},\"baxis\":{\"endlinecolor\":\"#2a3f5f\",\"gridcolor\":\"white\",\"linecolor\":\"white\",\"minorgridcolor\":\"white\",\"startlinecolor\":\"#2a3f5f\"},\"type\":\"carpet\"}],\"choropleth\":[{\"colorbar\":{\"outlinewidth\":0,\"ticks\":\"\"},\"type\":\"choropleth\"}],\"contourcarpet\":[{\"colorbar\":{\"outlinewidth\":0,\"ticks\":\"\"},\"type\":\"contourcarpet\"}],\"contour\":[{\"colorbar\":{\"outlinewidth\":0,\"ticks\":\"\"},\"colorscale\":[[0.0,\"#0d0887\"],[0.1111111111111111,\"#46039f\"],[0.2222222222222222,\"#7201a8\"],[0.3333333333333333,\"#9c179e\"],[0.4444444444444444,\"#bd3786\"],[0.5555555555555556,\"#d8576b\"],[0.6666666666666666,\"#ed7953\"],[0.7777777777777778,\"#fb9f3a\"],[0.8888888888888888,\"#fdca26\"],[1.0,\"#f0f921\"]],\"type\":\"contour\"}],\"heatmapgl\":[{\"colorbar\":{\"outlinewidth\":0,\"ticks\":\"\"},\"colorscale\":[[0.0,\"#0d0887\"],[0.1111111111111111,\"#46039f\"],[0.2222222222222222,\"#7201a8\"],[0.3333333333333333,\"#9c179e\"],[0.4444444444444444,\"#bd3786\"],[0.5555555555555556,\"#d8576b\"],[0.6666666666666666,\"#ed7953\"],[0.7777777777777778,\"#fb9f3a\"],[0.8888888888888888,\"#fdca26\"],[1.0,\"#f0f921\"]],\"type\":\"heatmapgl\"}],\"heatmap\":[{\"colorbar\":{\"outlinewidth\":0,\"ticks\":\"\"},\"colorscale\":[[0.0,\"#0d0887\"],[0.1111111111111111,\"#46039f\"],[0.2222222222222222,\"#7201a8\"],[0.3333333333333333,\"#9c179e\"],[0.4444444444444444,\"#bd3786\"],[0.5555555555555556,\"#d8576b\"],[0.6666666666666666,\"#ed7953\"],[0.7777777777777778,\"#fb9f3a\"],[0.8888888888888888,\"#fdca26\"],[1.0,\"#f0f921\"]],\"type\":\"heatmap\"}],\"histogram2dcontour\":[{\"colorbar\":{\"outlinewidth\":0,\"ticks\":\"\"},\"colorscale\":[[0.0,\"#0d0887\"],[0.1111111111111111,\"#46039f\"],[0.2222222222222222,\"#7201a8\"],[0.3333333333333333,\"#9c179e\"],[0.4444444444444444,\"#bd3786\"],[0.5555555555555556,\"#d8576b\"],[0.6666666666666666,\"#ed7953\"],[0.7777777777777778,\"#fb9f3a\"],[0.8888888888888888,\"#fdca26\"],[1.0,\"#f0f921\"]],\"type\":\"histogram2dcontour\"}],\"histogram2d\":[{\"colorbar\":{\"outlinewidth\":0,\"ticks\":\"\"},\"colorscale\":[[0.0,\"#0d0887\"],[0.1111111111111111,\"#46039f\"],[0.2222222222222222,\"#7201a8\"],[0.3333333333333333,\"#9c179e\"],[0.4444444444444444,\"#bd3786\"],[0.5555555555555556,\"#d8576b\"],[0.6666666666666666,\"#ed7953\"],[0.7777777777777778,\"#fb9f3a\"],[0.8888888888888888,\"#fdca26\"],[1.0,\"#f0f921\"]],\"type\":\"histogram2d\"}],\"histogram\":[{\"marker\":{\"pattern\":{\"fillmode\":\"overlay\",\"size\":10,\"solidity\":0.2}},\"type\":\"histogram\"}],\"mesh3d\":[{\"colorbar\":{\"outlinewidth\":0,\"ticks\":\"\"},\"type\":\"mesh3d\"}],\"parcoords\":[{\"line\":{\"colorbar\":{\"outlinewidth\":0,\"ticks\":\"\"}},\"type\":\"parcoords\"}],\"pie\":[{\"automargin\":true,\"type\":\"pie\"}],\"scatter3d\":[{\"line\":{\"colorbar\":{\"outlinewidth\":0,\"ticks\":\"\"}},\"marker\":{\"colorbar\":{\"outlinewidth\":0,\"ticks\":\"\"}},\"type\":\"scatter3d\"}],\"scattercarpet\":[{\"marker\":{\"colorbar\":{\"outlinewidth\":0,\"ticks\":\"\"}},\"type\":\"scattercarpet\"}],\"scattergeo\":[{\"marker\":{\"colorbar\":{\"outlinewidth\":0,\"ticks\":\"\"}},\"type\":\"scattergeo\"}],\"scattergl\":[{\"marker\":{\"colorbar\":{\"outlinewidth\":0,\"ticks\":\"\"}},\"type\":\"scattergl\"}],\"scattermapbox\":[{\"marker\":{\"colorbar\":{\"outlinewidth\":0,\"ticks\":\"\"}},\"type\":\"scattermapbox\"}],\"scatterpolargl\":[{\"marker\":{\"colorbar\":{\"outlinewidth\":0,\"ticks\":\"\"}},\"type\":\"scatterpolargl\"}],\"scatterpolar\":[{\"marker\":{\"colorbar\":{\"outlinewidth\":0,\"ticks\":\"\"}},\"type\":\"scatterpolar\"}],\"scatter\":[{\"fillpattern\":{\"fillmode\":\"overlay\",\"size\":10,\"solidity\":0.2},\"type\":\"scatter\"}],\"scatterternary\":[{\"marker\":{\"colorbar\":{\"outlinewidth\":0,\"ticks\":\"\"}},\"type\":\"scatterternary\"}],\"surface\":[{\"colorbar\":{\"outlinewidth\":0,\"ticks\":\"\"},\"colorscale\":[[0.0,\"#0d0887\"],[0.1111111111111111,\"#46039f\"],[0.2222222222222222,\"#7201a8\"],[0.3333333333333333,\"#9c179e\"],[0.4444444444444444,\"#bd3786\"],[0.5555555555555556,\"#d8576b\"],[0.6666666666666666,\"#ed7953\"],[0.7777777777777778,\"#fb9f3a\"],[0.8888888888888888,\"#fdca26\"],[1.0,\"#f0f921\"]],\"type\":\"surface\"}],\"table\":[{\"cells\":{\"fill\":{\"color\":\"#EBF0F8\"},\"line\":{\"color\":\"white\"}},\"header\":{\"fill\":{\"color\":\"#C8D4E3\"},\"line\":{\"color\":\"white\"}},\"type\":\"table\"}]},\"layout\":{\"annotationdefaults\":{\"arrowcolor\":\"#2a3f5f\",\"arrowhead\":0,\"arrowwidth\":1},\"autotypenumbers\":\"strict\",\"coloraxis\":{\"colorbar\":{\"outlinewidth\":0,\"ticks\":\"\"}},\"colorscale\":{\"diverging\":[[0,\"#8e0152\"],[0.1,\"#c51b7d\"],[0.2,\"#de77ae\"],[0.3,\"#f1b6da\"],[0.4,\"#fde0ef\"],[0.5,\"#f7f7f7\"],[0.6,\"#e6f5d0\"],[0.7,\"#b8e186\"],[0.8,\"#7fbc41\"],[0.9,\"#4d9221\"],[1,\"#276419\"]],\"sequential\":[[0.0,\"#0d0887\"],[0.1111111111111111,\"#46039f\"],[0.2222222222222222,\"#7201a8\"],[0.3333333333333333,\"#9c179e\"],[0.4444444444444444,\"#bd3786\"],[0.5555555555555556,\"#d8576b\"],[0.6666666666666666,\"#ed7953\"],[0.7777777777777778,\"#fb9f3a\"],[0.8888888888888888,\"#fdca26\"],[1.0,\"#f0f921\"]],\"sequentialminus\":[[0.0,\"#0d0887\"],[0.1111111111111111,\"#46039f\"],[0.2222222222222222,\"#7201a8\"],[0.3333333333333333,\"#9c179e\"],[0.4444444444444444,\"#bd3786\"],[0.5555555555555556,\"#d8576b\"],[0.6666666666666666,\"#ed7953\"],[0.7777777777777778,\"#fb9f3a\"],[0.8888888888888888,\"#fdca26\"],[1.0,\"#f0f921\"]]},\"colorway\":[\"#636efa\",\"#EF553B\",\"#00cc96\",\"#ab63fa\",\"#FFA15A\",\"#19d3f3\",\"#FF6692\",\"#B6E880\",\"#FF97FF\",\"#FECB52\"],\"font\":{\"color\":\"#2a3f5f\"},\"geo\":{\"bgcolor\":\"white\",\"lakecolor\":\"white\",\"landcolor\":\"#E5ECF6\",\"showlakes\":true,\"showland\":true,\"subunitcolor\":\"white\"},\"hoverlabel\":{\"align\":\"left\"},\"hovermode\":\"closest\",\"mapbox\":{\"style\":\"light\"},\"paper_bgcolor\":\"white\",\"plot_bgcolor\":\"#E5ECF6\",\"polar\":{\"angularaxis\":{\"gridcolor\":\"white\",\"linecolor\":\"white\",\"ticks\":\"\"},\"bgcolor\":\"#E5ECF6\",\"radialaxis\":{\"gridcolor\":\"white\",\"linecolor\":\"white\",\"ticks\":\"\"}},\"scene\":{\"xaxis\":{\"backgroundcolor\":\"#E5ECF6\",\"gridcolor\":\"white\",\"gridwidth\":2,\"linecolor\":\"white\",\"showbackground\":true,\"ticks\":\"\",\"zerolinecolor\":\"white\"},\"yaxis\":{\"backgroundcolor\":\"#E5ECF6\",\"gridcolor\":\"white\",\"gridwidth\":2,\"linecolor\":\"white\",\"showbackground\":true,\"ticks\":\"\",\"zerolinecolor\":\"white\"},\"zaxis\":{\"backgroundcolor\":\"#E5ECF6\",\"gridcolor\":\"white\",\"gridwidth\":2,\"linecolor\":\"white\",\"showbackground\":true,\"ticks\":\"\",\"zerolinecolor\":\"white\"}},\"shapedefaults\":{\"line\":{\"color\":\"#2a3f5f\"}},\"ternary\":{\"aaxis\":{\"gridcolor\":\"white\",\"linecolor\":\"white\",\"ticks\":\"\"},\"baxis\":{\"gridcolor\":\"white\",\"linecolor\":\"white\",\"ticks\":\"\"},\"bgcolor\":\"#E5ECF6\",\"caxis\":{\"gridcolor\":\"white\",\"linecolor\":\"white\",\"ticks\":\"\"}},\"title\":{\"x\":0.05},\"xaxis\":{\"automargin\":true,\"gridcolor\":\"white\",\"linecolor\":\"white\",\"ticks\":\"\",\"title\":{\"standoff\":15},\"zerolinecolor\":\"white\",\"zerolinewidth\":2},\"yaxis\":{\"automargin\":true,\"gridcolor\":\"white\",\"linecolor\":\"white\",\"ticks\":\"\",\"title\":{\"standoff\":15},\"zerolinecolor\":\"white\",\"zerolinewidth\":2}}},\"title\":{\"text\":\"Client Region Density Plot\"},\"xaxis\":{\"anchor\":\"y2\",\"domain\":[0.0,1.0],\"title\":{\"text\":\"region\"},\"zeroline\":false},\"yaxis\":{\"anchor\":\"free\",\"domain\":[0.0,1],\"position\":0.0}},                        {\"responsive\": true}                    ).then(function(){\n",
       "                            \n",
       "var gd = document.getElementById('d6026afd-cab1-47d0-90fb-7204e981d4b2');\n",
       "var x = new MutationObserver(function (mutations, observer) {{\n",
       "        var display = window.getComputedStyle(gd).display;\n",
       "        if (!display || display === 'none') {{\n",
       "            console.log([gd, 'removed!']);\n",
       "            Plotly.purge(gd);\n",
       "            observer.disconnect();\n",
       "        }}\n",
       "}});\n",
       "\n",
       "// Listen for the removal of the full notebook cells\n",
       "var notebookContainer = gd.closest('#notebook-container');\n",
       "if (notebookContainer) {{\n",
       "    x.observe(notebookContainer, {childList: true});\n",
       "}}\n",
       "\n",
       "// Listen for the clearing of the current output cell\n",
       "var outputEl = gd.closest('.output');\n",
       "if (outputEl) {{\n",
       "    x.observe(outputEl, {childList: true});\n",
       "}}\n",
       "\n",
       "                        })                };                });            </script>        </div>"
      ]
     },
     "metadata": {},
     "output_type": "display_data"
    }
   ],
   "source": [
    "target_0 = client_train.loc[client_train['target'] == 0][\"region\"]\n",
    "target_1 = client_train.loc[client_train['target'] == 1][\"region\"]\n",
    "\n",
    "hist_data = [target_0, target_1]\n",
    "group_labels = ['Not Fraud', 'Fraud']\n",
    "\n",
    "fig = ff.create_distplot(hist_data, group_labels, show_hist=False, show_rug=False)\n",
    "fig['layout'].update(title='Client Region Density Plot', xaxis=dict(title='region'))\n",
    "iplot(fig, filename='dist_only')"
   ]
  },
  {
   "cell_type": "code",
   "execution_count": 51,
   "id": "2fcda794",
   "metadata": {
    "scrolled": false
   },
   "outputs": [
    {
     "data": {
      "image/png": "[encoded data removed]",
      "text/plain": [
       "<Figure size 432x288 with 1 Axes>"
      ]
     },
     "metadata": {},
     "output_type": "display_data"
    },
    {
     "data": {
      "image/png": "[encoded data removed]",
      "text/plain": [
       "<Figure size 432x288 with 1 Axes>"
      ]
     },
     "metadata": {},
     "output_type": "display_data"
    },
    {
     "data": {
      "image/png": "[encoded data removed]",
      "text/plain": [
       "<Figure size 432x288 with 1 Axes>"
      ]
     },
     "metadata": {},
     "output_type": "display_data"
    }
   ],
   "source": [
    "for col in ['disrict','region','client_catg']:\n",
    "    ds = client_train.groupby([col])['client_id'].count()\n",
    "    plt.bar(x=ds.index, height=ds.values)\n",
    "    plt.title(col+' distribution')\n",
    "    plt.show()"
   ]
  },
  {
   "cell_type": "code",
   "execution_count": 26,
   "id": "8ca73860",
   "metadata": {},
   "outputs": [
    {
     "name": "stdout",
     "output_type": "stream",
     "text": [
      "Number of missing rows in invoice_train: 0\n",
      "Number of missing rows in invoice_test: 0 \n",
      "\n",
      "Number of missing rows in client_train: 0\n",
      "Number of missing rows in client_test: 0\n"
     ]
    }
   ],
   "source": [
    "print('Number of missing rows in invoice_train:',invoice_train.isna().sum().sum())\n",
    "print('Number of missing rows in invoice_test:',invoice_test.isna().sum().sum(),'\\n')\n",
    "print('Number of missing rows in client_train:',client_train.isna().sum().sum())\n",
    "print('Number of missing rows in client_test:',client_test.isna().sum().sum())"
   ]
  },
  {
   "cell_type": "code",
   "execution_count": 27,
   "id": "38b67019",
   "metadata": {},
   "outputs": [
    {
     "name": "stdout",
     "output_type": "stream",
     "text": [
      "Number of unique values in invoice_train:\n",
      "client_id - 135493\n",
      "invoice_date - 8275\n",
      "tarif_type - 17\n",
      "counter_number - 201893\n",
      "counter_statue - 16\n",
      "counter_code - 42\n",
      "reading_remarque - 8\n",
      "counter_coefficient - 16\n",
      "consommation_level_1 - 8295\n",
      "consommation_level_2 - 12576\n",
      "consommation_level_3 - 2253\n",
      "consommation_level_4 - 12075\n",
      "old_index - 155648\n",
      "new_index - 157980\n",
      "months_number - 1370\n",
      "counter_type - 2\n"
     ]
    }
   ],
   "source": [
    "print('Number of unique values in invoice_train:')\n",
    "for col in invoice_train.columns:\n",
    "    print(f\"{col} - {invoice_train[col].nunique()}\")"
   ]
  },
  {
   "cell_type": "code",
   "execution_count": 28,
   "id": "c89e20ce",
   "metadata": {},
   "outputs": [],
   "source": [
    "def feature_change(cl, inv):\n",
    "\n",
    "    cl['client_catg'] = cl['client_catg'].astype('category')\n",
    "    cl['disrict'] = cl['disrict'].astype('category')\n",
    "    cl['region'] = cl['region'].astype('category')\n",
    "    cl['region_group'] = cl['region'].apply(lambda x: 100 if x<100 else 300 if x>300 else 200)\n",
    "    cl['creation_date'] = pd.to_datetime(cl['creation_date'])\n",
    "    \n",
    "    cl['coop_time'] = (2019 - cl['creation_date'].dt.year)*12 - cl['creation_date'].dt.month\n",
    "\n",
    "    inv['counter_type'] = inv['counter_type'].map({\"ELEC\":1,\"GAZ\":0})\n",
    "    inv['counter_statue'] = inv['counter_statue'].map({0:0,1:1,2:2,3:3,4:4,5:5,769:5,'0':0,'5':5,'1':1,'4':4,'A':0,618:5,269375:5,46:5,420:5})\n",
    "    \n",
    "    inv['invoice_date'] = pd.to_datetime(inv['invoice_date'], dayfirst=True)\n",
    "    inv['invoice_month'] = inv['invoice_date'].dt.month\n",
    "    inv['invoice_year'] = inv['invoice_date'].dt.year\n",
    "    inv['is_weekday'] = ((pd.DatetimeIndex(inv.invoice_date).dayofweek) // 5 == 1).astype(float)\n",
    "    inv['delta_index'] = inv['new_index'] - inv['old_index']\n",
    "    \n",
    "    return cl, inv"
   ]
  },
  {
   "cell_type": "code",
   "execution_count": 31,
   "id": "b095ef04",
   "metadata": {},
   "outputs": [],
   "source": [
    "client_train1, invoice_train1 = feature_change(client_train, invoice_train)\n",
    "client_test1, invoice_test1 = feature_change(client_test, invoice_test)"
   ]
  },
  {
   "cell_type": "code",
   "execution_count": 34,
   "id": "4fa8de7c",
   "metadata": {},
   "outputs": [
    {
     "data": {
      "text/html": [
       "<div>\n",
       "<style scoped>\n",
       "    .dataframe tbody tr th:only-of-type {\n",
       "        vertical-align: middle;\n",
       "    }\n",
       "\n",
       "    .dataframe tbody tr th {\n",
       "        vertical-align: top;\n",
       "    }\n",
       "\n",
       "    .dataframe thead th {\n",
       "        text-align: right;\n",
       "    }\n",
       "</style>\n",
       "<table border=\"1\" class=\"dataframe\">\n",
       "  <thead>\n",
       "    <tr style=\"text-align: right;\">\n",
       "      <th></th>\n",
       "      <th>disrict</th>\n",
       "      <th>client_id</th>\n",
       "      <th>client_catg</th>\n",
       "      <th>region</th>\n",
       "      <th>creation_date</th>\n",
       "      <th>target</th>\n",
       "      <th>region_group</th>\n",
       "      <th>coop_time</th>\n",
       "    </tr>\n",
       "  </thead>\n",
       "  <tbody>\n",
       "    <tr>\n",
       "      <th>0</th>\n",
       "      <td>60</td>\n",
       "      <td>train_Client_0</td>\n",
       "      <td>11</td>\n",
       "      <td>101</td>\n",
       "      <td>1994-12-31</td>\n",
       "      <td>0.0</td>\n",
       "      <td>200</td>\n",
       "      <td>288</td>\n",
       "    </tr>\n",
       "    <tr>\n",
       "      <th>1</th>\n",
       "      <td>69</td>\n",
       "      <td>train_Client_1</td>\n",
       "      <td>11</td>\n",
       "      <td>107</td>\n",
       "      <td>2002-05-29</td>\n",
       "      <td>0.0</td>\n",
       "      <td>200</td>\n",
       "      <td>199</td>\n",
       "    </tr>\n",
       "    <tr>\n",
       "      <th>2</th>\n",
       "      <td>62</td>\n",
       "      <td>train_Client_10</td>\n",
       "      <td>11</td>\n",
       "      <td>301</td>\n",
       "      <td>1986-03-13</td>\n",
       "      <td>0.0</td>\n",
       "      <td>300</td>\n",
       "      <td>393</td>\n",
       "    </tr>\n",
       "    <tr>\n",
       "      <th>3</th>\n",
       "      <td>69</td>\n",
       "      <td>train_Client_100</td>\n",
       "      <td>11</td>\n",
       "      <td>105</td>\n",
       "      <td>1996-11-07</td>\n",
       "      <td>0.0</td>\n",
       "      <td>200</td>\n",
       "      <td>265</td>\n",
       "    </tr>\n",
       "    <tr>\n",
       "      <th>4</th>\n",
       "      <td>62</td>\n",
       "      <td>train_Client_1000</td>\n",
       "      <td>11</td>\n",
       "      <td>303</td>\n",
       "      <td>2014-10-14</td>\n",
       "      <td>0.0</td>\n",
       "      <td>300</td>\n",
       "      <td>50</td>\n",
       "    </tr>\n",
       "    <tr>\n",
       "      <th>...</th>\n",
       "      <td>...</td>\n",
       "      <td>...</td>\n",
       "      <td>...</td>\n",
       "      <td>...</td>\n",
       "      <td>...</td>\n",
       "      <td>...</td>\n",
       "      <td>...</td>\n",
       "      <td>...</td>\n",
       "    </tr>\n",
       "    <tr>\n",
       "      <th>135488</th>\n",
       "      <td>62</td>\n",
       "      <td>train_Client_99995</td>\n",
       "      <td>11</td>\n",
       "      <td>304</td>\n",
       "      <td>2004-07-26</td>\n",
       "      <td>0.0</td>\n",
       "      <td>300</td>\n",
       "      <td>173</td>\n",
       "    </tr>\n",
       "    <tr>\n",
       "      <th>135489</th>\n",
       "      <td>63</td>\n",
       "      <td>train_Client_99996</td>\n",
       "      <td>11</td>\n",
       "      <td>311</td>\n",
       "      <td>2012-10-25</td>\n",
       "      <td>0.0</td>\n",
       "      <td>300</td>\n",
       "      <td>74</td>\n",
       "    </tr>\n",
       "    <tr>\n",
       "      <th>135490</th>\n",
       "      <td>63</td>\n",
       "      <td>train_Client_99997</td>\n",
       "      <td>11</td>\n",
       "      <td>311</td>\n",
       "      <td>2011-11-22</td>\n",
       "      <td>0.0</td>\n",
       "      <td>300</td>\n",
       "      <td>85</td>\n",
       "    </tr>\n",
       "    <tr>\n",
       "      <th>135491</th>\n",
       "      <td>60</td>\n",
       "      <td>train_Client_99998</td>\n",
       "      <td>11</td>\n",
       "      <td>101</td>\n",
       "      <td>1993-12-22</td>\n",
       "      <td>0.0</td>\n",
       "      <td>200</td>\n",
       "      <td>300</td>\n",
       "    </tr>\n",
       "    <tr>\n",
       "      <th>135492</th>\n",
       "      <td>60</td>\n",
       "      <td>train_Client_99999</td>\n",
       "      <td>11</td>\n",
       "      <td>101</td>\n",
       "      <td>1986-02-18</td>\n",
       "      <td>0.0</td>\n",
       "      <td>200</td>\n",
       "      <td>394</td>\n",
       "    </tr>\n",
       "  </tbody>\n",
       "</table>\n",
       "<p>135493 rows × 8 columns</p>\n",
       "</div>"
      ],
      "text/plain": [
       "       disrict           client_id client_catg region creation_date  target  \\\n",
       "0           60      train_Client_0          11    101    1994-12-31     0.0   \n",
       "1           69      train_Client_1          11    107    2002-05-29     0.0   \n",
       "2           62     train_Client_10          11    301    1986-03-13     0.0   \n",
       "3           69    train_Client_100          11    105    1996-11-07     0.0   \n",
       "4           62   train_Client_1000          11    303    2014-10-14     0.0   \n",
       "...        ...                 ...         ...    ...           ...     ...   \n",
       "135488      62  train_Client_99995          11    304    2004-07-26     0.0   \n",
       "135489      63  train_Client_99996          11    311    2012-10-25     0.0   \n",
       "135490      63  train_Client_99997          11    311    2011-11-22     0.0   \n",
       "135491      60  train_Client_99998          11    101    1993-12-22     0.0   \n",
       "135492      60  train_Client_99999          11    101    1986-02-18     0.0   \n",
       "\n",
       "        region_group  coop_time  \n",
       "0                200        288  \n",
       "1                200        199  \n",
       "2                300        393  \n",
       "3                200        265  \n",
       "4                300         50  \n",
       "...              ...        ...  \n",
       "135488           300        173  \n",
       "135489           300         74  \n",
       "135490           300         85  \n",
       "135491           200        300  \n",
       "135492           200        394  \n",
       "\n",
       "[135493 rows x 8 columns]"
      ]
     },
     "execution_count": 34,
     "metadata": {},
     "output_type": "execute_result"
    }
   ],
   "source": [
    "client_train1"
   ]
  },
  {
   "cell_type": "code",
   "execution_count": 35,
   "id": "a09d2453",
   "metadata": {},
   "outputs": [],
   "source": [
    "def agg_feature(invoice, client_df, agg_stat):\n",
    "    \n",
    "    invoice['delta_time'] = invoice.sort_values(['client_id','invoice_date']).groupby('client_id')['invoice_date'].diff().dt.days.reset_index(drop=True)\n",
    "    agg_trans = invoice.groupby('client_id')[agg_stat+['delta_time']].agg(['mean','std','min','max'])\n",
    "    \n",
    "    agg_trans.columns = ['_'.join(col).strip() for col in agg_trans.columns.values]\n",
    "    agg_trans.reset_index(inplace=True)\n",
    "\n",
    "    df = invoice.groupby('client_id').size().reset_index(name='transactions_count')\n",
    "    agg_trans = pd.merge(df, agg_trans, on='client_id', how='left')\n",
    "    \n",
    "    weekday_avg = invoice.groupby('client_id')[['is_weekday']].agg(['mean'])\n",
    "    weekday_avg.columns = ['_'.join(col).strip() for col in weekday_avg.columns.values]\n",
    "    weekday_avg.reset_index(inplace=True)\n",
    "    client_df = pd.merge(client_df, weekday_avg, on='client_id', how='left')\n",
    "    \n",
    "    full_df = pd.merge(client_df, agg_trans, on='client_id', how='left')\n",
    "    \n",
    "    full_df['invoice_per_cooperation'] = full_df['transactions_count'] / full_df['coop_time']\n",
    "    \n",
    "    return full_df"
   ]
  },
  {
   "cell_type": "code",
   "execution_count": 39,
   "id": "7162d773",
   "metadata": {},
   "outputs": [],
   "source": [
    "agg_stat_columns = [\n",
    " 'tarif_type',\n",
    " 'counter_number',\n",
    " 'counter_statue',\n",
    " 'counter_code',\n",
    " 'reading_remarque',\n",
    " 'consommation_level_1',\n",
    " 'consommation_level_2',\n",
    " 'consommation_level_3',\n",
    " 'consommation_level_4',\n",
    " 'old_index',\n",
    " 'new_index',\n",
    " 'months_number',\n",
    " 'counter_type',\n",
    " 'invoice_month',\n",
    " 'invoice_year',\n",
    " 'delta_index'\n",
    "]\n",
    "\n",
    "train_df1 = agg_feature(invoice_train1, client_train1, agg_stat_columns)\n",
    "test_df1 = agg_feature(invoice_test1, client_test1, agg_stat_columns)"
   ]
  },
  {
   "cell_type": "code",
   "execution_count": 41,
   "id": "3c185634",
   "metadata": {
    "scrolled": false
   },
   "outputs": [
    {
     "name": "stdout",
     "output_type": "stream",
     "text": [
      "<class 'pandas.core.frame.DataFrame'>\n",
      "Int64Index: 58069 entries, 0 to 58068\n",
      "Data columns (total 78 columns):\n",
      " #   Column                     Non-Null Count  Dtype         \n",
      "---  ------                     --------------  -----         \n",
      " 0   disrict                    58069 non-null  category      \n",
      " 1   client_id                  58069 non-null  object        \n",
      " 2   client_catg                58069 non-null  category      \n",
      " 3   region                     58069 non-null  category      \n",
      " 4   creation_date              58069 non-null  datetime64[ns]\n",
      " 5   region_group               58069 non-null  int64         \n",
      " 6   coop_time                  58069 non-null  int64         \n",
      " 7   is_weekday_mean            58069 non-null  float64       \n",
      " 8   transactions_count         58069 non-null  int64         \n",
      " 9   tarif_type_mean            58069 non-null  float64       \n",
      " 10  tarif_type_std             56309 non-null  float64       \n",
      " 11  tarif_type_min             58069 non-null  int64         \n",
      " 12  tarif_type_max             58069 non-null  int64         \n",
      " 13  counter_number_mean        58069 non-null  float64       \n",
      " 14  counter_number_std         56309 non-null  float64       \n",
      " 15  counter_number_min         58069 non-null  int64         \n",
      " 16  counter_number_max         58069 non-null  int64         \n",
      " 17  counter_statue_mean        58069 non-null  float64       \n",
      " 18  counter_statue_std         56309 non-null  float64       \n",
      " 19  counter_statue_min         58069 non-null  int64         \n",
      " 20  counter_statue_max         58069 non-null  int64         \n",
      " 21  counter_code_mean          58069 non-null  float64       \n",
      " 22  counter_code_std           56309 non-null  float64       \n",
      " 23  counter_code_min           58069 non-null  int64         \n",
      " 24  counter_code_max           58069 non-null  int64         \n",
      " 25  reading_remarque_mean      58069 non-null  float64       \n",
      " 26  reading_remarque_std       56309 non-null  float64       \n",
      " 27  reading_remarque_min       58069 non-null  int64         \n",
      " 28  reading_remarque_max       58069 non-null  int64         \n",
      " 29  consommation_level_1_mean  58069 non-null  float64       \n",
      " 30  consommation_level_1_std   56309 non-null  float64       \n",
      " 31  consommation_level_1_min   58069 non-null  int64         \n",
      " 32  consommation_level_1_max   58069 non-null  int64         \n",
      " 33  consommation_level_2_mean  58069 non-null  float64       \n",
      " 34  consommation_level_2_std   56309 non-null  float64       \n",
      " 35  consommation_level_2_min   58069 non-null  int64         \n",
      " 36  consommation_level_2_max   58069 non-null  int64         \n",
      " 37  consommation_level_3_mean  58069 non-null  float64       \n",
      " 38  consommation_level_3_std   56309 non-null  float64       \n",
      " 39  consommation_level_3_min   58069 non-null  int64         \n",
      " 40  consommation_level_3_max   58069 non-null  int64         \n",
      " 41  consommation_level_4_mean  58069 non-null  float64       \n",
      " 42  consommation_level_4_std   56309 non-null  float64       \n",
      " 43  consommation_level_4_min   58069 non-null  int64         \n",
      " 44  consommation_level_4_max   58069 non-null  int64         \n",
      " 45  old_index_mean             58069 non-null  float64       \n",
      " 46  old_index_std              56309 non-null  float64       \n",
      " 47  old_index_min              58069 non-null  int64         \n",
      " 48  old_index_max              58069 non-null  int64         \n",
      " 49  new_index_mean             58069 non-null  float64       \n",
      " 50  new_index_std              56309 non-null  float64       \n",
      " 51  new_index_min              58069 non-null  int64         \n",
      " 52  new_index_max              58069 non-null  int64         \n",
      " 53  months_number_mean         58069 non-null  float64       \n",
      " 54  months_number_std          56309 non-null  float64       \n",
      " 55  months_number_min          58069 non-null  int64         \n",
      " 56  months_number_max          58069 non-null  int64         \n",
      " 57  counter_type_mean          58069 non-null  float64       \n",
      " 58  counter_type_std           56309 non-null  float64       \n",
      " 59  counter_type_min           58069 non-null  int64         \n",
      " 60  counter_type_max           58069 non-null  int64         \n",
      " 61  invoice_month_mean         58069 non-null  float64       \n",
      " 62  invoice_month_std          56309 non-null  float64       \n",
      " 63  invoice_month_min          58069 non-null  int64         \n",
      " 64  invoice_month_max          58069 non-null  int64         \n",
      " 65  invoice_year_mean          58069 non-null  float64       \n",
      " 66  invoice_year_std           56309 non-null  float64       \n",
      " 67  invoice_year_min           58069 non-null  int64         \n",
      " 68  invoice_year_max           58069 non-null  int64         \n",
      " 69  delta_index_mean           58069 non-null  float64       \n",
      " 70  delta_index_std            56309 non-null  float64       \n",
      " 71  delta_index_min            58069 non-null  int64         \n",
      " 72  delta_index_max            58069 non-null  int64         \n",
      " 73  delta_time_mean            56309 non-null  float64       \n",
      " 74  delta_time_std             54093 non-null  float64       \n",
      " 75  delta_time_min             56309 non-null  float64       \n",
      " 76  delta_time_max             56309 non-null  float64       \n",
      " 77  invoice_per_cooperation    58069 non-null  float64       \n",
      "dtypes: category(3), datetime64[ns](1), float64(38), int64(35), object(1)\n",
      "memory usage: 33.8+ MB\n"
     ]
    }
   ],
   "source": [
    "test_df1.info()"
   ]
  },
  {
   "cell_type": "code",
   "execution_count": 44,
   "id": "ac1d89b1",
   "metadata": {},
   "outputs": [
    {
     "data": {
      "text/html": [
       "<div>\n",
       "<style scoped>\n",
       "    .dataframe tbody tr th:only-of-type {\n",
       "        vertical-align: middle;\n",
       "    }\n",
       "\n",
       "    .dataframe tbody tr th {\n",
       "        vertical-align: top;\n",
       "    }\n",
       "\n",
       "    .dataframe thead th {\n",
       "        text-align: right;\n",
       "    }\n",
       "</style>\n",
       "<table border=\"1\" class=\"dataframe\">\n",
       "  <thead>\n",
       "    <tr style=\"text-align: right;\">\n",
       "      <th></th>\n",
       "      <th>disrict</th>\n",
       "      <th>client_id</th>\n",
       "      <th>client_catg</th>\n",
       "      <th>region</th>\n",
       "      <th>creation_date</th>\n",
       "      <th>region_group</th>\n",
       "      <th>coop_time</th>\n",
       "      <th>is_weekday_mean</th>\n",
       "      <th>transactions_count</th>\n",
       "      <th>tarif_type_mean</th>\n",
       "      <th>...</th>\n",
       "      <th>invoice_year_max</th>\n",
       "      <th>delta_index_mean</th>\n",
       "      <th>delta_index_std</th>\n",
       "      <th>delta_index_min</th>\n",
       "      <th>delta_index_max</th>\n",
       "      <th>delta_time_mean</th>\n",
       "      <th>delta_time_std</th>\n",
       "      <th>delta_time_min</th>\n",
       "      <th>delta_time_max</th>\n",
       "      <th>invoice_per_cooperation</th>\n",
       "    </tr>\n",
       "  </thead>\n",
       "  <tbody>\n",
       "    <tr>\n",
       "      <th>0</th>\n",
       "      <td>62</td>\n",
       "      <td>test_Client_0</td>\n",
       "      <td>11</td>\n",
       "      <td>307</td>\n",
       "      <td>2002-05-28</td>\n",
       "      <td>300</td>\n",
       "      <td>199</td>\n",
       "      <td>0.027027</td>\n",
       "      <td>37</td>\n",
       "      <td>11.000000</td>\n",
       "      <td>...</td>\n",
       "      <td>2019</td>\n",
       "      <td>491.378378</td>\n",
       "      <td>235.684859</td>\n",
       "      <td>0</td>\n",
       "      <td>1090</td>\n",
       "      <td>137.972222</td>\n",
       "      <td>44.900834</td>\n",
       "      <td>101.0</td>\n",
       "      <td>251.0</td>\n",
       "      <td>0.185930</td>\n",
       "    </tr>\n",
       "    <tr>\n",
       "      <th>1</th>\n",
       "      <td>69</td>\n",
       "      <td>test_Client_1</td>\n",
       "      <td>11</td>\n",
       "      <td>103</td>\n",
       "      <td>2009-06-08</td>\n",
       "      <td>200</td>\n",
       "      <td>114</td>\n",
       "      <td>0.227273</td>\n",
       "      <td>22</td>\n",
       "      <td>11.000000</td>\n",
       "      <td>...</td>\n",
       "      <td>2019</td>\n",
       "      <td>2703.181818</td>\n",
       "      <td>3200.849986</td>\n",
       "      <td>11</td>\n",
       "      <td>14899</td>\n",
       "      <td>178.285714</td>\n",
       "      <td>117.157647</td>\n",
       "      <td>27.0</td>\n",
       "      <td>434.0</td>\n",
       "      <td>0.192982</td>\n",
       "    </tr>\n",
       "    <tr>\n",
       "      <th>2</th>\n",
       "      <td>62</td>\n",
       "      <td>test_Client_10</td>\n",
       "      <td>11</td>\n",
       "      <td>310</td>\n",
       "      <td>2004-07-04</td>\n",
       "      <td>300</td>\n",
       "      <td>173</td>\n",
       "      <td>0.000000</td>\n",
       "      <td>74</td>\n",
       "      <td>23.540541</td>\n",
       "      <td>...</td>\n",
       "      <td>2019</td>\n",
       "      <td>607.310811</td>\n",
       "      <td>422.779872</td>\n",
       "      <td>0</td>\n",
       "      <td>2012</td>\n",
       "      <td>68.794521</td>\n",
       "      <td>61.954723</td>\n",
       "      <td>0.0</td>\n",
       "      <td>175.0</td>\n",
       "      <td>0.427746</td>\n",
       "    </tr>\n",
       "    <tr>\n",
       "      <th>3</th>\n",
       "      <td>60</td>\n",
       "      <td>test_Client_100</td>\n",
       "      <td>11</td>\n",
       "      <td>101</td>\n",
       "      <td>1992-08-10</td>\n",
       "      <td>200</td>\n",
       "      <td>316</td>\n",
       "      <td>0.050000</td>\n",
       "      <td>40</td>\n",
       "      <td>25.500000</td>\n",
       "      <td>...</td>\n",
       "      <td>2012</td>\n",
       "      <td>244.350000</td>\n",
       "      <td>247.253171</td>\n",
       "      <td>0</td>\n",
       "      <td>721</td>\n",
       "      <td>63.743590</td>\n",
       "      <td>94.363440</td>\n",
       "      <td>0.0</td>\n",
       "      <td>365.0</td>\n",
       "      <td>0.126582</td>\n",
       "    </tr>\n",
       "    <tr>\n",
       "      <th>4</th>\n",
       "      <td>62</td>\n",
       "      <td>test_Client_1000</td>\n",
       "      <td>11</td>\n",
       "      <td>301</td>\n",
       "      <td>1977-07-21</td>\n",
       "      <td>300</td>\n",
       "      <td>497</td>\n",
       "      <td>0.094340</td>\n",
       "      <td>53</td>\n",
       "      <td>20.849057</td>\n",
       "      <td>...</td>\n",
       "      <td>2019</td>\n",
       "      <td>749.113208</td>\n",
       "      <td>864.294814</td>\n",
       "      <td>0</td>\n",
       "      <td>3900</td>\n",
       "      <td>98.788462</td>\n",
       "      <td>99.893539</td>\n",
       "      <td>0.0</td>\n",
       "      <td>414.0</td>\n",
       "      <td>0.106640</td>\n",
       "    </tr>\n",
       "  </tbody>\n",
       "</table>\n",
       "<p>5 rows × 78 columns</p>\n",
       "</div>"
      ],
      "text/plain": [
       "  disrict         client_id client_catg region creation_date  region_group  \\\n",
       "0      62     test_Client_0          11    307    2002-05-28           300   \n",
       "1      69     test_Client_1          11    103    2009-06-08           200   \n",
       "2      62    test_Client_10          11    310    2004-07-04           300   \n",
       "3      60   test_Client_100          11    101    1992-08-10           200   \n",
       "4      62  test_Client_1000          11    301    1977-07-21           300   \n",
       "\n",
       "   coop_time  is_weekday_mean  transactions_count  tarif_type_mean  ...  \\\n",
       "0        199         0.027027                  37        11.000000  ...   \n",
       "1        114         0.227273                  22        11.000000  ...   \n",
       "2        173         0.000000                  74        23.540541  ...   \n",
       "3        316         0.050000                  40        25.500000  ...   \n",
       "4        497         0.094340                  53        20.849057  ...   \n",
       "\n",
       "   invoice_year_max  delta_index_mean  delta_index_std  delta_index_min  \\\n",
       "0              2019        491.378378       235.684859                0   \n",
       "1              2019       2703.181818      3200.849986               11   \n",
       "2              2019        607.310811       422.779872                0   \n",
       "3              2012        244.350000       247.253171                0   \n",
       "4              2019        749.113208       864.294814                0   \n",
       "\n",
       "   delta_index_max  delta_time_mean  delta_time_std  delta_time_min  \\\n",
       "0             1090       137.972222       44.900834           101.0   \n",
       "1            14899       178.285714      117.157647            27.0   \n",
       "2             2012        68.794521       61.954723             0.0   \n",
       "3              721        63.743590       94.363440             0.0   \n",
       "4             3900        98.788462       99.893539             0.0   \n",
       "\n",
       "   delta_time_max  invoice_per_cooperation  \n",
       "0           251.0                 0.185930  \n",
       "1           434.0                 0.192982  \n",
       "2           175.0                 0.427746  \n",
       "3           365.0                 0.126582  \n",
       "4           414.0                 0.106640  \n",
       "\n",
       "[5 rows x 78 columns]"
      ]
     },
     "execution_count": 44,
     "metadata": {},
     "output_type": "execute_result"
    }
   ],
   "source": [
    "test_df1.head()"
   ]
  },
  {
   "cell_type": "code",
   "execution_count": 43,
   "id": "3af9a08f",
   "metadata": {},
   "outputs": [
    {
     "name": "stdout",
     "output_type": "stream",
     "text": [
      "<class 'pandas.core.frame.DataFrame'>\n",
      "Int64Index: 135493 entries, 0 to 135492\n",
      "Data columns (total 79 columns):\n",
      " #   Column                     Non-Null Count   Dtype         \n",
      "---  ------                     --------------   -----         \n",
      " 0   disrict                    135493 non-null  category      \n",
      " 1   client_id                  135493 non-null  object        \n",
      " 2   client_catg                135493 non-null  category      \n",
      " 3   region                     135493 non-null  category      \n",
      " 4   creation_date              135493 non-null  datetime64[ns]\n",
      " 5   target                     135493 non-null  float64       \n",
      " 6   region_group               135493 non-null  int64         \n",
      " 7   coop_time                  135493 non-null  int64         \n",
      " 8   is_weekday_mean            135493 non-null  float64       \n",
      " 9   transactions_count         135493 non-null  int64         \n",
      " 10  tarif_type_mean            135493 non-null  float64       \n",
      " 11  tarif_type_std             131281 non-null  float64       \n",
      " 12  tarif_type_min             135493 non-null  int64         \n",
      " 13  tarif_type_max             135493 non-null  int64         \n",
      " 14  counter_number_mean        135493 non-null  float64       \n",
      " 15  counter_number_std         131281 non-null  float64       \n",
      " 16  counter_number_min         135493 non-null  int64         \n",
      " 17  counter_number_max         135493 non-null  int64         \n",
      " 18  counter_statue_mean        135493 non-null  float64       \n",
      " 19  counter_statue_std         131281 non-null  float64       \n",
      " 20  counter_statue_min         135493 non-null  int64         \n",
      " 21  counter_statue_max         135493 non-null  int64         \n",
      " 22  counter_code_mean          135493 non-null  float64       \n",
      " 23  counter_code_std           131281 non-null  float64       \n",
      " 24  counter_code_min           135493 non-null  int64         \n",
      " 25  counter_code_max           135493 non-null  int64         \n",
      " 26  reading_remarque_mean      135493 non-null  float64       \n",
      " 27  reading_remarque_std       131281 non-null  float64       \n",
      " 28  reading_remarque_min       135493 non-null  int64         \n",
      " 29  reading_remarque_max       135493 non-null  int64         \n",
      " 30  consommation_level_1_mean  135493 non-null  float64       \n",
      " 31  consommation_level_1_std   131281 non-null  float64       \n",
      " 32  consommation_level_1_min   135493 non-null  int64         \n",
      " 33  consommation_level_1_max   135493 non-null  int64         \n",
      " 34  consommation_level_2_mean  135493 non-null  float64       \n",
      " 35  consommation_level_2_std   131281 non-null  float64       \n",
      " 36  consommation_level_2_min   135493 non-null  int64         \n",
      " 37  consommation_level_2_max   135493 non-null  int64         \n",
      " 38  consommation_level_3_mean  135493 non-null  float64       \n",
      " 39  consommation_level_3_std   131281 non-null  float64       \n",
      " 40  consommation_level_3_min   135493 non-null  int64         \n",
      " 41  consommation_level_3_max   135493 non-null  int64         \n",
      " 42  consommation_level_4_mean  135493 non-null  float64       \n",
      " 43  consommation_level_4_std   131281 non-null  float64       \n",
      " 44  consommation_level_4_min   135493 non-null  int64         \n",
      " 45  consommation_level_4_max   135493 non-null  int64         \n",
      " 46  old_index_mean             135493 non-null  float64       \n",
      " 47  old_index_std              131281 non-null  float64       \n",
      " 48  old_index_min              135493 non-null  int64         \n",
      " 49  old_index_max              135493 non-null  int64         \n",
      " 50  new_index_mean             135493 non-null  float64       \n",
      " 51  new_index_std              131281 non-null  float64       \n",
      " 52  new_index_min              135493 non-null  int64         \n",
      " 53  new_index_max              135493 non-null  int64         \n",
      " 54  months_number_mean         135493 non-null  float64       \n",
      " 55  months_number_std          131281 non-null  float64       \n",
      " 56  months_number_min          135493 non-null  int64         \n",
      " 57  months_number_max          135493 non-null  int64         \n",
      " 58  counter_type_mean          135493 non-null  float64       \n",
      " 59  counter_type_std           131281 non-null  float64       \n",
      " 60  counter_type_min           135493 non-null  int64         \n",
      " 61  counter_type_max           135493 non-null  int64         \n",
      " 62  invoice_month_mean         135493 non-null  float64       \n",
      " 63  invoice_month_std          131281 non-null  float64       \n",
      " 64  invoice_month_min          135493 non-null  int64         \n",
      " 65  invoice_month_max          135493 non-null  int64         \n",
      " 66  invoice_year_mean          135493 non-null  float64       \n",
      " 67  invoice_year_std           131281 non-null  float64       \n",
      " 68  invoice_year_min           135493 non-null  int64         \n",
      " 69  invoice_year_max           135493 non-null  int64         \n",
      " 70  delta_index_mean           135493 non-null  float64       \n",
      " 71  delta_index_std            131281 non-null  float64       \n",
      " 72  delta_index_min            135493 non-null  int64         \n",
      " 73  delta_index_max            135493 non-null  int64         \n",
      " 74  delta_time_mean            131281 non-null  float64       \n",
      " 75  delta_time_std             125906 non-null  float64       \n",
      " 76  delta_time_min             131281 non-null  float64       \n",
      " 77  delta_time_max             131281 non-null  float64       \n",
      " 78  invoice_per_cooperation    135493 non-null  float64       \n",
      "dtypes: category(3), datetime64[ns](1), float64(39), int64(35), object(1)\n",
      "memory usage: 80.0+ MB\n"
     ]
    }
   ],
   "source": [
    "train_df1.info()"
   ]
  },
  {
   "cell_type": "code",
   "execution_count": 45,
   "id": "6a7243bf",
   "metadata": {},
   "outputs": [],
   "source": [
    "def new_features(df):\n",
    "    \n",
    "    for col in agg_stat_columns:\n",
    "        df[col+'_range'] = df[col+'_max'] - df[col+'_min']\n",
    "        df[col+'_max_mean'] = df[col+'_max']/df[col+'_mean']\n",
    "    \n",
    "    return df"
   ]
  },
  {
   "cell_type": "code",
   "execution_count": 46,
   "id": "2497d7ff",
   "metadata": {},
   "outputs": [],
   "source": [
    "train_df2 = new_features(train_df1)\n",
    "test_df2 = new_features(test_df1)"
   ]
  },
  {
   "cell_type": "code",
   "execution_count": 48,
   "id": "ae42fcaf",
   "metadata": {},
   "outputs": [
    {
     "name": "stdout",
     "output_type": "stream",
     "text": [
      "<class 'pandas.core.frame.DataFrame'>\n",
      "Int64Index: 58069 entries, 0 to 58068\n",
      "Columns: 110 entries, disrict to delta_index_max_mean\n",
      "dtypes: category(3), datetime64[ns](1), float64(54), int64(51), object(1)\n",
      "memory usage: 48.0+ MB\n"
     ]
    }
   ],
   "source": [
    "test_df2.info()"
   ]
  },
  {
   "cell_type": "code",
   "execution_count": 49,
   "id": "caef1578",
   "metadata": {},
   "outputs": [
    {
     "data": {
      "text/plain": [
       "0.0    127927\n",
       "1.0      7566\n",
       "Name: target, dtype: int64"
      ]
     },
     "execution_count": 49,
     "metadata": {},
     "output_type": "execute_result"
    }
   ],
   "source": [
    "occ = train_df2['target'].value_counts()\n",
    "occ"
   ]
  },
  {
   "cell_type": "code",
   "execution_count": 50,
   "id": "52a602d1",
   "metadata": {},
   "outputs": [
    {
     "data": {
      "application/vnd.plotly.v1+json": {
       "config": {
        "linkText": "Export to plot.ly",
        "plotlyServerURL": "https://plot.ly",
        "showLink": false
       },
       "data": [
        {
         "marker": {
          "color": "Red"
         },
         "name": "Fraud Detection - data unbalance (Not fraud = 0, Fraud = 1)",
         "text": [
          127927,
          7566
         ],
         "type": "bar",
         "x": [
          0,
          1
         ],
         "y": [
          127927,
          7566
         ]
        }
       ],
       "layout": {
        "hovermode": "closest",
        "template": {
         "data": {
          "bar": [
           {
            "error_x": {
             "color": "#2a3f5f"
            },
            "error_y": {
             "color": "#2a3f5f"
            },
            "marker": {
             "line": {
              "color": "#E5ECF6",
              "width": 0.5
             },
             "pattern": {
              "fillmode": "overlay",
              "size": 10,
              "solidity": 0.2
             }
            },
            "type": "bar"
           }
          ],
          "barpolar": [
           {
            "marker": {
             "line": {
              "color": "#E5ECF6",
              "width": 0.5
             },
             "pattern": {
              "fillmode": "overlay",
              "size": 10,
              "solidity": 0.2
             }
            },
            "type": "barpolar"
           }
          ],
          "carpet": [
           {
            "aaxis": {
             "endlinecolor": "#2a3f5f",
             "gridcolor": "white",
             "linecolor": "white",
             "minorgridcolor": "white",
             "startlinecolor": "#2a3f5f"
            },
            "baxis": {
             "endlinecolor": "#2a3f5f",
             "gridcolor": "white",
             "linecolor": "white",
             "minorgridcolor": "white",
             "startlinecolor": "#2a3f5f"
            },
            "type": "carpet"
           }
          ],
          "choropleth": [
           {
            "colorbar": {
             "outlinewidth": 0,
             "ticks": ""
            },
            "type": "choropleth"
           }
          ],
          "contour": [
           {
            "colorbar": {
             "outlinewidth": 0,
             "ticks": ""
            },
            "colorscale": [
             [
              0,
              "#0d0887"
             ],
             [
              0.1111111111111111,
              "#46039f"
             ],
             [
              0.2222222222222222,
              "#7201a8"
             ],
             [
              0.3333333333333333,
              "#9c179e"
             ],
             [
              0.4444444444444444,
              "#bd3786"
             ],
             [
              0.5555555555555556,
              "#d8576b"
             ],
             [
              0.6666666666666666,
              "#ed7953"
             ],
             [
              0.7777777777777778,
              "#fb9f3a"
             ],
             [
              0.8888888888888888,
              "#fdca26"
             ],
             [
              1,
              "#f0f921"
             ]
            ],
            "type": "contour"
           }
          ],
          "contourcarpet": [
           {
            "colorbar": {
             "outlinewidth": 0,
             "ticks": ""
            },
            "type": "contourcarpet"
           }
          ],
          "heatmap": [
           {
            "colorbar": {
             "outlinewidth": 0,
             "ticks": ""
            },
            "colorscale": [
             [
              0,
              "#0d0887"
             ],
             [
              0.1111111111111111,
              "#46039f"
             ],
             [
              0.2222222222222222,
              "#7201a8"
             ],
             [
              0.3333333333333333,
              "#9c179e"
             ],
             [
              0.4444444444444444,
              "#bd3786"
             ],
             [
              0.5555555555555556,
              "#d8576b"
             ],
             [
              0.6666666666666666,
              "#ed7953"
             ],
             [
              0.7777777777777778,
              "#fb9f3a"
             ],
             [
              0.8888888888888888,
              "#fdca26"
             ],
             [
              1,
              "#f0f921"
             ]
            ],
            "type": "heatmap"
           }
          ],
          "heatmapgl": [
           {
            "colorbar": {
             "outlinewidth": 0,
             "ticks": ""
            },
            "colorscale": [
             [
              0,
              "#0d0887"
             ],
             [
              0.1111111111111111,
              "#46039f"
             ],
             [
              0.2222222222222222,
              "#7201a8"
             ],
             [
              0.3333333333333333,
              "#9c179e"
             ],
             [
              0.4444444444444444,
              "#bd3786"
             ],
             [
              0.5555555555555556,
              "#d8576b"
             ],
             [
              0.6666666666666666,
              "#ed7953"
             ],
             [
              0.7777777777777778,
              "#fb9f3a"
             ],
             [
              0.8888888888888888,
              "#fdca26"
             ],
             [
              1,
              "#f0f921"
             ]
            ],
            "type": "heatmapgl"
           }
          ],
          "histogram": [
           {
            "marker": {
             "pattern": {
              "fillmode": "overlay",
              "size": 10,
              "solidity": 0.2
             }
            },
            "type": "histogram"
           }
          ],
          "histogram2d": [
           {
            "colorbar": {
             "outlinewidth": 0,
             "ticks": ""
            },
            "colorscale": [
             [
              0,
              "#0d0887"
             ],
             [
              0.1111111111111111,
              "#46039f"
             ],
             [
              0.2222222222222222,
              "#7201a8"
             ],
             [
              0.3333333333333333,
              "#9c179e"
             ],
             [
              0.4444444444444444,
              "#bd3786"
             ],
             [
              0.5555555555555556,
              "#d8576b"
             ],
             [
              0.6666666666666666,
              "#ed7953"
             ],
             [
              0.7777777777777778,
              "#fb9f3a"
             ],
             [
              0.8888888888888888,
              "#fdca26"
             ],
             [
              1,
              "#f0f921"
             ]
            ],
            "type": "histogram2d"
           }
          ],
          "histogram2dcontour": [
           {
            "colorbar": {
             "outlinewidth": 0,
             "ticks": ""
            },
            "colorscale": [
             [
              0,
              "#0d0887"
             ],
             [
              0.1111111111111111,
              "#46039f"
             ],
             [
              0.2222222222222222,
              "#7201a8"
             ],
             [
              0.3333333333333333,
              "#9c179e"
             ],
             [
              0.4444444444444444,
              "#bd3786"
             ],
             [
              0.5555555555555556,
              "#d8576b"
             ],
             [
              0.6666666666666666,
              "#ed7953"
             ],
             [
              0.7777777777777778,
              "#fb9f3a"
             ],
             [
              0.8888888888888888,
              "#fdca26"
             ],
             [
              1,
              "#f0f921"
             ]
            ],
            "type": "histogram2dcontour"
           }
          ],
          "mesh3d": [
           {
            "colorbar": {
             "outlinewidth": 0,
             "ticks": ""
            },
            "type": "mesh3d"
           }
          ],
          "parcoords": [
           {
            "line": {
             "colorbar": {
              "outlinewidth": 0,
              "ticks": ""
             }
            },
            "type": "parcoords"
           }
          ],
          "pie": [
           {
            "automargin": true,
            "type": "pie"
           }
          ],
          "scatter": [
           {
            "fillpattern": {
             "fillmode": "overlay",
             "size": 10,
             "solidity": 0.2
            },
            "type": "scatter"
           }
          ],
          "scatter3d": [
           {
            "line": {
             "colorbar": {
              "outlinewidth": 0,
              "ticks": ""
             }
            },
            "marker": {
             "colorbar": {
              "outlinewidth": 0,
              "ticks": ""
             }
            },
            "type": "scatter3d"
           }
          ],
          "scattercarpet": [
           {
            "marker": {
             "colorbar": {
              "outlinewidth": 0,
              "ticks": ""
             }
            },
            "type": "scattercarpet"
           }
          ],
          "scattergeo": [
           {
            "marker": {
             "colorbar": {
              "outlinewidth": 0,
              "ticks": ""
             }
            },
            "type": "scattergeo"
           }
          ],
          "scattergl": [
           {
            "marker": {
             "colorbar": {
              "outlinewidth": 0,
              "ticks": ""
             }
            },
            "type": "scattergl"
           }
          ],
          "scattermapbox": [
           {
            "marker": {
             "colorbar": {
              "outlinewidth": 0,
              "ticks": ""
             }
            },
            "type": "scattermapbox"
           }
          ],
          "scatterpolar": [
           {
            "marker": {
             "colorbar": {
              "outlinewidth": 0,
              "ticks": ""
             }
            },
            "type": "scatterpolar"
           }
          ],
          "scatterpolargl": [
           {
            "marker": {
             "colorbar": {
              "outlinewidth": 0,
              "ticks": ""
             }
            },
            "type": "scatterpolargl"
           }
          ],
          "scatterternary": [
           {
            "marker": {
             "colorbar": {
              "outlinewidth": 0,
              "ticks": ""
             }
            },
            "type": "scatterternary"
           }
          ],
          "surface": [
           {
            "colorbar": {
             "outlinewidth": 0,
             "ticks": ""
            },
            "colorscale": [
             [
              0,
              "#0d0887"
             ],
             [
              0.1111111111111111,
              "#46039f"
             ],
             [
              0.2222222222222222,
              "#7201a8"
             ],
             [
              0.3333333333333333,
              "#9c179e"
             ],
             [
              0.4444444444444444,
              "#bd3786"
             ],
             [
              0.5555555555555556,
              "#d8576b"
             ],
             [
              0.6666666666666666,
              "#ed7953"
             ],
             [
              0.7777777777777778,
              "#fb9f3a"
             ],
             [
              0.8888888888888888,
              "#fdca26"
             ],
             [
              1,
              "#f0f921"
             ]
            ],
            "type": "surface"
           }
          ],
          "table": [
           {
            "cells": {
             "fill": {
              "color": "#EBF0F8"
             },
             "line": {
              "color": "white"
             }
            },
            "header": {
             "fill": {
              "color": "#C8D4E3"
             },
             "line": {
              "color": "white"
             }
            },
            "type": "table"
           }
          ]
         },
         "layout": {
          "annotationdefaults": {
           "arrowcolor": "#2a3f5f",
           "arrowhead": 0,
           "arrowwidth": 1
          },
          "autotypenumbers": "strict",
          "coloraxis": {
           "colorbar": {
            "outlinewidth": 0,
            "ticks": ""
           }
          },
          "colorscale": {
           "diverging": [
            [
             0,
             "#8e0152"
            ],
            [
             0.1,
             "#c51b7d"
            ],
            [
             0.2,
             "#de77ae"
            ],
            [
             0.3,
             "#f1b6da"
            ],
            [
             0.4,
             "#fde0ef"
            ],
            [
             0.5,
             "#f7f7f7"
            ],
            [
             0.6,
             "#e6f5d0"
            ],
            [
             0.7,
             "#b8e186"
            ],
            [
             0.8,
             "#7fbc41"
            ],
            [
             0.9,
             "#4d9221"
            ],
            [
             1,
             "#276419"
            ]
           ],
           "sequential": [
            [
             0,
             "#0d0887"
            ],
            [
             0.1111111111111111,
             "#46039f"
            ],
            [
             0.2222222222222222,
             "#7201a8"
            ],
            [
             0.3333333333333333,
             "#9c179e"
            ],
            [
             0.4444444444444444,
             "#bd3786"
            ],
            [
             0.5555555555555556,
             "#d8576b"
            ],
            [
             0.6666666666666666,
             "#ed7953"
            ],
            [
             0.7777777777777778,
             "#fb9f3a"
            ],
            [
             0.8888888888888888,
             "#fdca26"
            ],
            [
             1,
             "#f0f921"
            ]
           ],
           "sequentialminus": [
            [
             0,
             "#0d0887"
            ],
            [
             0.1111111111111111,
             "#46039f"
            ],
            [
             0.2222222222222222,
             "#7201a8"
            ],
            [
             0.3333333333333333,
             "#9c179e"
            ],
            [
             0.4444444444444444,
             "#bd3786"
            ],
            [
             0.5555555555555556,
             "#d8576b"
            ],
            [
             0.6666666666666666,
             "#ed7953"
            ],
            [
             0.7777777777777778,
             "#fb9f3a"
            ],
            [
             0.8888888888888888,
             "#fdca26"
            ],
            [
             1,
             "#f0f921"
            ]
           ]
          },
          "colorway": [
           "#636efa",
           "#EF553B",
           "#00cc96",
           "#ab63fa",
           "#FFA15A",
           "#19d3f3",
           "#FF6692",
           "#B6E880",
           "#FF97FF",
           "#FECB52"
          ],
          "font": {
           "color": "#2a3f5f"
          },
          "geo": {
           "bgcolor": "white",
           "lakecolor": "white",
           "landcolor": "#E5ECF6",
           "showlakes": true,
           "showland": true,
           "subunitcolor": "white"
          },
          "hoverlabel": {
           "align": "left"
          },
          "hovermode": "closest",
          "mapbox": {
           "style": "light"
          },
          "paper_bgcolor": "white",
          "plot_bgcolor": "#E5ECF6",
          "polar": {
           "angularaxis": {
            "gridcolor": "white",
            "linecolor": "white",
            "ticks": ""
           },
           "bgcolor": "#E5ECF6",
           "radialaxis": {
            "gridcolor": "white",
            "linecolor": "white",
            "ticks": ""
           }
          },
          "scene": {
           "xaxis": {
            "backgroundcolor": "#E5ECF6",
            "gridcolor": "white",
            "gridwidth": 2,
            "linecolor": "white",
            "showbackground": true,
            "ticks": "",
            "zerolinecolor": "white"
           },
           "yaxis": {
            "backgroundcolor": "#E5ECF6",
            "gridcolor": "white",
            "gridwidth": 2,
            "linecolor": "white",
            "showbackground": true,
            "ticks": "",
            "zerolinecolor": "white"
           },
           "zaxis": {
            "backgroundcolor": "#E5ECF6",
            "gridcolor": "white",
            "gridwidth": 2,
            "linecolor": "white",
            "showbackground": true,
            "ticks": "",
            "zerolinecolor": "white"
           }
          },
          "shapedefaults": {
           "line": {
            "color": "#2a3f5f"
           }
          },
          "ternary": {
           "aaxis": {
            "gridcolor": "white",
            "linecolor": "white",
            "ticks": ""
           },
           "baxis": {
            "gridcolor": "white",
            "linecolor": "white",
            "ticks": ""
           },
           "bgcolor": "#E5ECF6",
           "caxis": {
            "gridcolor": "white",
            "linecolor": "white",
            "ticks": ""
           }
          },
          "title": {
           "x": 0.05
          },
          "xaxis": {
           "automargin": true,
           "gridcolor": "white",
           "linecolor": "white",
           "ticks": "",
           "title": {
            "standoff": 15
           },
           "zerolinecolor": "white",
           "zerolinewidth": 2
          },
          "yaxis": {
           "automargin": true,
           "gridcolor": "white",
           "linecolor": "white",
           "ticks": "",
           "title": {
            "standoff": 15
           },
           "zerolinecolor": "white",
           "zerolinewidth": 2
          }
         }
        },
        "title": {
         "text": "Fraud Detection - data unbalance (Not fraud = 0, Fraud = 1)"
        },
        "width": 600,
        "xaxis": {
         "showticklabels": true,
         "title": {
          "text": "target"
         }
        },
        "yaxis": {
         "title": {
          "text": "Number of transactions"
         }
        }
       }
      },
      "text/html": [
       "<div>                            <div id=\"ed2d3623-c72e-477e-bffd-843c59e64259\" class=\"plotly-graph-div\" style=\"height:525px; width:600px;\"></div>            <script type=\"text/javascript\">                require([\"plotly\"], function(Plotly) {                    window.PLOTLYENV=window.PLOTLYENV || {};                                    if (document.getElementById(\"ed2d3623-c72e-477e-bffd-843c59e64259\")) {                    Plotly.newPlot(                        \"ed2d3623-c72e-477e-bffd-843c59e64259\",                        [{\"marker\":{\"color\":\"Red\"},\"name\":\"Fraud Detection - data unbalance (Not fraud = 0, Fraud = 1)\",\"text\":[127927.0,7566.0],\"x\":[0.0,1.0],\"y\":[127927,7566],\"type\":\"bar\"}],                        {\"hovermode\":\"closest\",\"template\":{\"data\":{\"barpolar\":[{\"marker\":{\"line\":{\"color\":\"#E5ECF6\",\"width\":0.5},\"pattern\":{\"fillmode\":\"overlay\",\"size\":10,\"solidity\":0.2}},\"type\":\"barpolar\"}],\"bar\":[{\"error_x\":{\"color\":\"#2a3f5f\"},\"error_y\":{\"color\":\"#2a3f5f\"},\"marker\":{\"line\":{\"color\":\"#E5ECF6\",\"width\":0.5},\"pattern\":{\"fillmode\":\"overlay\",\"size\":10,\"solidity\":0.2}},\"type\":\"bar\"}],\"carpet\":[{\"aaxis\":{\"endlinecolor\":\"#2a3f5f\",\"gridcolor\":\"white\",\"linecolor\":\"white\",\"minorgridcolor\":\"white\",\"startlinecolor\":\"#2a3f5f\"},\"baxis\":{\"endlinecolor\":\"#2a3f5f\",\"gridcolor\":\"white\",\"linecolor\":\"white\",\"minorgridcolor\":\"white\",\"startlinecolor\":\"#2a3f5f\"},\"type\":\"carpet\"}],\"choropleth\":[{\"colorbar\":{\"outlinewidth\":0,\"ticks\":\"\"},\"type\":\"choropleth\"}],\"contourcarpet\":[{\"colorbar\":{\"outlinewidth\":0,\"ticks\":\"\"},\"type\":\"contourcarpet\"}],\"contour\":[{\"colorbar\":{\"outlinewidth\":0,\"ticks\":\"\"},\"colorscale\":[[0.0,\"#0d0887\"],[0.1111111111111111,\"#46039f\"],[0.2222222222222222,\"#7201a8\"],[0.3333333333333333,\"#9c179e\"],[0.4444444444444444,\"#bd3786\"],[0.5555555555555556,\"#d8576b\"],[0.6666666666666666,\"#ed7953\"],[0.7777777777777778,\"#fb9f3a\"],[0.8888888888888888,\"#fdca26\"],[1.0,\"#f0f921\"]],\"type\":\"contour\"}],\"heatmapgl\":[{\"colorbar\":{\"outlinewidth\":0,\"ticks\":\"\"},\"colorscale\":[[0.0,\"#0d0887\"],[0.1111111111111111,\"#46039f\"],[0.2222222222222222,\"#7201a8\"],[0.3333333333333333,\"#9c179e\"],[0.4444444444444444,\"#bd3786\"],[0.5555555555555556,\"#d8576b\"],[0.6666666666666666,\"#ed7953\"],[0.7777777777777778,\"#fb9f3a\"],[0.8888888888888888,\"#fdca26\"],[1.0,\"#f0f921\"]],\"type\":\"heatmapgl\"}],\"heatmap\":[{\"colorbar\":{\"outlinewidth\":0,\"ticks\":\"\"},\"colorscale\":[[0.0,\"#0d0887\"],[0.1111111111111111,\"#46039f\"],[0.2222222222222222,\"#7201a8\"],[0.3333333333333333,\"#9c179e\"],[0.4444444444444444,\"#bd3786\"],[0.5555555555555556,\"#d8576b\"],[0.6666666666666666,\"#ed7953\"],[0.7777777777777778,\"#fb9f3a\"],[0.8888888888888888,\"#fdca26\"],[1.0,\"#f0f921\"]],\"type\":\"heatmap\"}],\"histogram2dcontour\":[{\"colorbar\":{\"outlinewidth\":0,\"ticks\":\"\"},\"colorscale\":[[0.0,\"#0d0887\"],[0.1111111111111111,\"#46039f\"],[0.2222222222222222,\"#7201a8\"],[0.3333333333333333,\"#9c179e\"],[0.4444444444444444,\"#bd3786\"],[0.5555555555555556,\"#d8576b\"],[0.6666666666666666,\"#ed7953\"],[0.7777777777777778,\"#fb9f3a\"],[0.8888888888888888,\"#fdca26\"],[1.0,\"#f0f921\"]],\"type\":\"histogram2dcontour\"}],\"histogram2d\":[{\"colorbar\":{\"outlinewidth\":0,\"ticks\":\"\"},\"colorscale\":[[0.0,\"#0d0887\"],[0.1111111111111111,\"#46039f\"],[0.2222222222222222,\"#7201a8\"],[0.3333333333333333,\"#9c179e\"],[0.4444444444444444,\"#bd3786\"],[0.5555555555555556,\"#d8576b\"],[0.6666666666666666,\"#ed7953\"],[0.7777777777777778,\"#fb9f3a\"],[0.8888888888888888,\"#fdca26\"],[1.0,\"#f0f921\"]],\"type\":\"histogram2d\"}],\"histogram\":[{\"marker\":{\"pattern\":{\"fillmode\":\"overlay\",\"size\":10,\"solidity\":0.2}},\"type\":\"histogram\"}],\"mesh3d\":[{\"colorbar\":{\"outlinewidth\":0,\"ticks\":\"\"},\"type\":\"mesh3d\"}],\"parcoords\":[{\"line\":{\"colorbar\":{\"outlinewidth\":0,\"ticks\":\"\"}},\"type\":\"parcoords\"}],\"pie\":[{\"automargin\":true,\"type\":\"pie\"}],\"scatter3d\":[{\"line\":{\"colorbar\":{\"outlinewidth\":0,\"ticks\":\"\"}},\"marker\":{\"colorbar\":{\"outlinewidth\":0,\"ticks\":\"\"}},\"type\":\"scatter3d\"}],\"scattercarpet\":[{\"marker\":{\"colorbar\":{\"outlinewidth\":0,\"ticks\":\"\"}},\"type\":\"scattercarpet\"}],\"scattergeo\":[{\"marker\":{\"colorbar\":{\"outlinewidth\":0,\"ticks\":\"\"}},\"type\":\"scattergeo\"}],\"scattergl\":[{\"marker\":{\"colorbar\":{\"outlinewidth\":0,\"ticks\":\"\"}},\"type\":\"scattergl\"}],\"scattermapbox\":[{\"marker\":{\"colorbar\":{\"outlinewidth\":0,\"ticks\":\"\"}},\"type\":\"scattermapbox\"}],\"scatterpolargl\":[{\"marker\":{\"colorbar\":{\"outlinewidth\":0,\"ticks\":\"\"}},\"type\":\"scatterpolargl\"}],\"scatterpolar\":[{\"marker\":{\"colorbar\":{\"outlinewidth\":0,\"ticks\":\"\"}},\"type\":\"scatterpolar\"}],\"scatter\":[{\"fillpattern\":{\"fillmode\":\"overlay\",\"size\":10,\"solidity\":0.2},\"type\":\"scatter\"}],\"scatterternary\":[{\"marker\":{\"colorbar\":{\"outlinewidth\":0,\"ticks\":\"\"}},\"type\":\"scatterternary\"}],\"surface\":[{\"colorbar\":{\"outlinewidth\":0,\"ticks\":\"\"},\"colorscale\":[[0.0,\"#0d0887\"],[0.1111111111111111,\"#46039f\"],[0.2222222222222222,\"#7201a8\"],[0.3333333333333333,\"#9c179e\"],[0.4444444444444444,\"#bd3786\"],[0.5555555555555556,\"#d8576b\"],[0.6666666666666666,\"#ed7953\"],[0.7777777777777778,\"#fb9f3a\"],[0.8888888888888888,\"#fdca26\"],[1.0,\"#f0f921\"]],\"type\":\"surface\"}],\"table\":[{\"cells\":{\"fill\":{\"color\":\"#EBF0F8\"},\"line\":{\"color\":\"white\"}},\"header\":{\"fill\":{\"color\":\"#C8D4E3\"},\"line\":{\"color\":\"white\"}},\"type\":\"table\"}]},\"layout\":{\"annotationdefaults\":{\"arrowcolor\":\"#2a3f5f\",\"arrowhead\":0,\"arrowwidth\":1},\"autotypenumbers\":\"strict\",\"coloraxis\":{\"colorbar\":{\"outlinewidth\":0,\"ticks\":\"\"}},\"colorscale\":{\"diverging\":[[0,\"#8e0152\"],[0.1,\"#c51b7d\"],[0.2,\"#de77ae\"],[0.3,\"#f1b6da\"],[0.4,\"#fde0ef\"],[0.5,\"#f7f7f7\"],[0.6,\"#e6f5d0\"],[0.7,\"#b8e186\"],[0.8,\"#7fbc41\"],[0.9,\"#4d9221\"],[1,\"#276419\"]],\"sequential\":[[0.0,\"#0d0887\"],[0.1111111111111111,\"#46039f\"],[0.2222222222222222,\"#7201a8\"],[0.3333333333333333,\"#9c179e\"],[0.4444444444444444,\"#bd3786\"],[0.5555555555555556,\"#d8576b\"],[0.6666666666666666,\"#ed7953\"],[0.7777777777777778,\"#fb9f3a\"],[0.8888888888888888,\"#fdca26\"],[1.0,\"#f0f921\"]],\"sequentialminus\":[[0.0,\"#0d0887\"],[0.1111111111111111,\"#46039f\"],[0.2222222222222222,\"#7201a8\"],[0.3333333333333333,\"#9c179e\"],[0.4444444444444444,\"#bd3786\"],[0.5555555555555556,\"#d8576b\"],[0.6666666666666666,\"#ed7953\"],[0.7777777777777778,\"#fb9f3a\"],[0.8888888888888888,\"#fdca26\"],[1.0,\"#f0f921\"]]},\"colorway\":[\"#636efa\",\"#EF553B\",\"#00cc96\",\"#ab63fa\",\"#FFA15A\",\"#19d3f3\",\"#FF6692\",\"#B6E880\",\"#FF97FF\",\"#FECB52\"],\"font\":{\"color\":\"#2a3f5f\"},\"geo\":{\"bgcolor\":\"white\",\"lakecolor\":\"white\",\"landcolor\":\"#E5ECF6\",\"showlakes\":true,\"showland\":true,\"subunitcolor\":\"white\"},\"hoverlabel\":{\"align\":\"left\"},\"hovermode\":\"closest\",\"mapbox\":{\"style\":\"light\"},\"paper_bgcolor\":\"white\",\"plot_bgcolor\":\"#E5ECF6\",\"polar\":{\"angularaxis\":{\"gridcolor\":\"white\",\"linecolor\":\"white\",\"ticks\":\"\"},\"bgcolor\":\"#E5ECF6\",\"radialaxis\":{\"gridcolor\":\"white\",\"linecolor\":\"white\",\"ticks\":\"\"}},\"scene\":{\"xaxis\":{\"backgroundcolor\":\"#E5ECF6\",\"gridcolor\":\"white\",\"gridwidth\":2,\"linecolor\":\"white\",\"showbackground\":true,\"ticks\":\"\",\"zerolinecolor\":\"white\"},\"yaxis\":{\"backgroundcolor\":\"#E5ECF6\",\"gridcolor\":\"white\",\"gridwidth\":2,\"linecolor\":\"white\",\"showbackground\":true,\"ticks\":\"\",\"zerolinecolor\":\"white\"},\"zaxis\":{\"backgroundcolor\":\"#E5ECF6\",\"gridcolor\":\"white\",\"gridwidth\":2,\"linecolor\":\"white\",\"showbackground\":true,\"ticks\":\"\",\"zerolinecolor\":\"white\"}},\"shapedefaults\":{\"line\":{\"color\":\"#2a3f5f\"}},\"ternary\":{\"aaxis\":{\"gridcolor\":\"white\",\"linecolor\":\"white\",\"ticks\":\"\"},\"baxis\":{\"gridcolor\":\"white\",\"linecolor\":\"white\",\"ticks\":\"\"},\"bgcolor\":\"#E5ECF6\",\"caxis\":{\"gridcolor\":\"white\",\"linecolor\":\"white\",\"ticks\":\"\"}},\"title\":{\"x\":0.05},\"xaxis\":{\"automargin\":true,\"gridcolor\":\"white\",\"linecolor\":\"white\",\"ticks\":\"\",\"title\":{\"standoff\":15},\"zerolinecolor\":\"white\",\"zerolinewidth\":2},\"yaxis\":{\"automargin\":true,\"gridcolor\":\"white\",\"linecolor\":\"white\",\"ticks\":\"\",\"title\":{\"standoff\":15},\"zerolinecolor\":\"white\",\"zerolinewidth\":2}}},\"title\":{\"text\":\"Fraud Detection - data unbalance (Not fraud = 0, Fraud = 1)\"},\"width\":600,\"xaxis\":{\"showticklabels\":true,\"title\":{\"text\":\"target\"}},\"yaxis\":{\"title\":{\"text\":\"Number of transactions\"}}},                        {\"responsive\": true}                    ).then(function(){\n",
       "                            \n",
       "var gd = document.getElementById('ed2d3623-c72e-477e-bffd-843c59e64259');\n",
       "var x = new MutationObserver(function (mutations, observer) {{\n",
       "        var display = window.getComputedStyle(gd).display;\n",
       "        if (!display || display === 'none') {{\n",
       "            console.log([gd, 'removed!']);\n",
       "            Plotly.purge(gd);\n",
       "            observer.disconnect();\n",
       "        }}\n",
       "}});\n",
       "\n",
       "// Listen for the removal of the full notebook cells\n",
       "var notebookContainer = gd.closest('#notebook-container');\n",
       "if (notebookContainer) {{\n",
       "    x.observe(notebookContainer, {childList: true});\n",
       "}}\n",
       "\n",
       "// Listen for the clearing of the current output cell\n",
       "var outputEl = gd.closest('.output');\n",
       "if (outputEl) {{\n",
       "    x.observe(outputEl, {childList: true});\n",
       "}}\n",
       "\n",
       "                        })                };                });            </script>        </div>"
      ]
     },
     "metadata": {},
     "output_type": "display_data"
    }
   ],
   "source": [
    "temp = train_df2[\"target\"].value_counts()\n",
    "df = pd.DataFrame({'target': temp.index,'values': temp.values})\n",
    "\n",
    "trace = go.Bar(\n",
    "    x = df['target'],y = df['values'],\n",
    "    name=\"Fraud Detection - data unbalance (Not fraud = 0, Fraud = 1)\",\n",
    "    marker=dict(color=\"Red\"),\n",
    "    text=df['values']\n",
    ")\n",
    "data = [trace]\n",
    "layout = dict(title = 'Fraud Detection - data unbalance (Not fraud = 0, Fraud = 1)',\n",
    "          xaxis = dict(title = 'target', showticklabels=True), \n",
    "          yaxis = dict(title = 'Number of transactions'),\n",
    "          hovermode = 'closest',width=600\n",
    "         )\n",
    "fig = dict(data=data, layout=layout)\n",
    "iplot(fig, filename='target')"
   ]
  },
  {
   "cell_type": "code",
   "execution_count": null,
   "id": "044bfcb4",
   "metadata": {},
   "outputs": [],
   "source": []
  }
 ],
 "metadata": {
  "kernelspec": {
   "display_name": "Python 3 (ipykernel)",
   "language": "python",
   "name": "python3"
  },
  "language_info": {
   "codemirror_mode": {
    "name": "ipython",
    "version": 3
   },
   "file_extension": ".py",
   "mimetype": "text/x-python",
   "name": "python",
   "nbconvert_exporter": "python",
   "pygments_lexer": "ipython3",
   "version": "3.9.7"
  }
 },
 "nbformat": 4,
 "nbformat_minor": 5
}
